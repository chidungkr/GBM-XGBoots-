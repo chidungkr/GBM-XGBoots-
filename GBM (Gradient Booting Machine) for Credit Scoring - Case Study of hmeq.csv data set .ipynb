{
 "cells": [
  {
   "cell_type": "markdown",
   "metadata": {},
   "source": [
    "## Chơi với bộ số liệu hmeq.csv"
   ]
  },
  {
   "cell_type": "markdown",
   "metadata": {},
   "source": [
    "### 1. Preprocessing Data\n",
    "Bước này thực hiện các bước tiền xử lí số liệu và điều tra số liệu như sau: \n",
    "\n",
    "1. Kiểm tra mức độ thiếu của dữ liệu, loại dữ liệu. \n",
    "2. Thay thế dữ liệu trống trong đó: (1) nếu  là dữ liệu số thì thay NA bằng mean, (2) nếu  là dữ liệu  định tính thì thay NA bằng nhãn có tần suất xuất hiện nhiều nhất. "
   ]
  },
  {
   "cell_type": "code",
   "execution_count": 126,
   "metadata": {
    "collapsed": true
   },
   "outputs": [],
   "source": [
    "# Đặt lại đường dẫn: \n",
    "import os\n",
    "os.chdir(\"F:/Python_project/data\")"
   ]
  },
  {
   "cell_type": "code",
   "execution_count": 24,
   "metadata": {
    "collapsed": true
   },
   "outputs": [],
   "source": [
    "# Đọc dữ liệu: \n",
    "import pandas as pd\n",
    "hmeq = pd.read_csv(\"hmeq.csv\")"
   ]
  },
  {
   "cell_type": "code",
   "execution_count": 25,
   "metadata": {},
   "outputs": [
    {
     "data": {
      "text/plain": [
       "0    False\n",
       "1    False\n",
       "2    False\n",
       "3    False\n",
       "4    False\n",
       "Name: BAD, dtype: bool"
      ]
     },
     "execution_count": 25,
     "metadata": {},
     "output_type": "execute_result"
    }
   ],
   "source": [
    "# Kiểm tra NA ở từng cột biến (chỉ xem 5 quan sát đầu): \n",
    "pd.isna(hmeq[\"BAD\"]).head()\n"
   ]
  },
  {
   "cell_type": "code",
   "execution_count": 26,
   "metadata": {},
   "outputs": [
    {
     "data": {
      "text/plain": [
       "0"
      ]
     },
     "execution_count": 26,
     "metadata": {},
     "output_type": "execute_result"
    }
   ],
   "source": [
    "# Số lượng NA của cột biến BAD: \n",
    "pd.isna(hmeq[\"BAD\"]).sum()"
   ]
  },
  {
   "cell_type": "code",
   "execution_count": 27,
   "metadata": {},
   "outputs": [
    {
     "data": {
      "text/html": [
       "<div>\n",
       "<style scoped>\n",
       "    .dataframe tbody tr th:only-of-type {\n",
       "        vertical-align: middle;\n",
       "    }\n",
       "\n",
       "    .dataframe tbody tr th {\n",
       "        vertical-align: top;\n",
       "    }\n",
       "\n",
       "    .dataframe thead th {\n",
       "        text-align: right;\n",
       "    }\n",
       "</style>\n",
       "<table border=\"1\" class=\"dataframe\">\n",
       "  <thead>\n",
       "    <tr style=\"text-align: right;\">\n",
       "      <th></th>\n",
       "      <th>BAD</th>\n",
       "      <th>LOAN</th>\n",
       "      <th>MORTDUE</th>\n",
       "      <th>VALUE</th>\n",
       "      <th>REASON</th>\n",
       "      <th>JOB</th>\n",
       "      <th>YOJ</th>\n",
       "      <th>DEROG</th>\n",
       "      <th>DELINQ</th>\n",
       "      <th>CLAGE</th>\n",
       "      <th>NINQ</th>\n",
       "      <th>CLNO</th>\n",
       "      <th>DEBTINC</th>\n",
       "    </tr>\n",
       "  </thead>\n",
       "  <tbody>\n",
       "    <tr>\n",
       "      <th>0</th>\n",
       "      <td>False</td>\n",
       "      <td>False</td>\n",
       "      <td>False</td>\n",
       "      <td>False</td>\n",
       "      <td>False</td>\n",
       "      <td>False</td>\n",
       "      <td>False</td>\n",
       "      <td>False</td>\n",
       "      <td>False</td>\n",
       "      <td>False</td>\n",
       "      <td>False</td>\n",
       "      <td>False</td>\n",
       "      <td>True</td>\n",
       "    </tr>\n",
       "    <tr>\n",
       "      <th>1</th>\n",
       "      <td>False</td>\n",
       "      <td>False</td>\n",
       "      <td>False</td>\n",
       "      <td>False</td>\n",
       "      <td>False</td>\n",
       "      <td>False</td>\n",
       "      <td>False</td>\n",
       "      <td>False</td>\n",
       "      <td>False</td>\n",
       "      <td>False</td>\n",
       "      <td>False</td>\n",
       "      <td>False</td>\n",
       "      <td>True</td>\n",
       "    </tr>\n",
       "    <tr>\n",
       "      <th>2</th>\n",
       "      <td>False</td>\n",
       "      <td>False</td>\n",
       "      <td>False</td>\n",
       "      <td>False</td>\n",
       "      <td>False</td>\n",
       "      <td>False</td>\n",
       "      <td>False</td>\n",
       "      <td>False</td>\n",
       "      <td>False</td>\n",
       "      <td>False</td>\n",
       "      <td>False</td>\n",
       "      <td>False</td>\n",
       "      <td>True</td>\n",
       "    </tr>\n",
       "    <tr>\n",
       "      <th>3</th>\n",
       "      <td>False</td>\n",
       "      <td>False</td>\n",
       "      <td>True</td>\n",
       "      <td>True</td>\n",
       "      <td>True</td>\n",
       "      <td>True</td>\n",
       "      <td>True</td>\n",
       "      <td>True</td>\n",
       "      <td>True</td>\n",
       "      <td>True</td>\n",
       "      <td>True</td>\n",
       "      <td>True</td>\n",
       "      <td>True</td>\n",
       "    </tr>\n",
       "    <tr>\n",
       "      <th>4</th>\n",
       "      <td>False</td>\n",
       "      <td>False</td>\n",
       "      <td>False</td>\n",
       "      <td>False</td>\n",
       "      <td>False</td>\n",
       "      <td>False</td>\n",
       "      <td>False</td>\n",
       "      <td>False</td>\n",
       "      <td>False</td>\n",
       "      <td>False</td>\n",
       "      <td>False</td>\n",
       "      <td>False</td>\n",
       "      <td>True</td>\n",
       "    </tr>\n",
       "  </tbody>\n",
       "</table>\n",
       "</div>"
      ],
      "text/plain": [
       "     BAD   LOAN  MORTDUE  VALUE  REASON    JOB    YOJ  DEROG  DELINQ  CLAGE  \\\n",
       "0  False  False    False  False   False  False  False  False   False  False   \n",
       "1  False  False    False  False   False  False  False  False   False  False   \n",
       "2  False  False    False  False   False  False  False  False   False  False   \n",
       "3  False  False     True   True    True   True   True   True    True   True   \n",
       "4  False  False    False  False   False  False  False  False   False  False   \n",
       "\n",
       "    NINQ   CLNO  DEBTINC  \n",
       "0  False  False     True  \n",
       "1  False  False     True  \n",
       "2  False  False     True  \n",
       "3   True   True     True  \n",
       "4  False  False     True  "
      ]
     },
     "execution_count": 27,
     "metadata": {},
     "output_type": "execute_result"
    }
   ],
   "source": [
    "# Kiểm tra NA  cho tất cả các cột biến (hiển thị 5 em đầu tiên): \n",
    "hmeq.isna().head()"
   ]
  },
  {
   "cell_type": "code",
   "execution_count": 28,
   "metadata": {},
   "outputs": [
    {
     "data": {
      "text/plain": [
       "pandas.core.series.Series"
      ]
     },
     "execution_count": 28,
     "metadata": {},
     "output_type": "execute_result"
    }
   ],
   "source": [
    "# Nếu tách ra một cột biến thì nó là một series: \n",
    "type(hmeq[\"BAD\"])"
   ]
  },
  {
   "cell_type": "code",
   "execution_count": 29,
   "metadata": {
    "collapsed": true
   },
   "outputs": [],
   "source": [
    "# Viết hàm tính NA: \n",
    "def so_luong_na (x): \n",
    "    a = pd.isna(x).sum()\n",
    "    return(a)"
   ]
  },
  {
   "cell_type": "code",
   "execution_count": 30,
   "metadata": {},
   "outputs": [
    {
     "data": {
      "text/plain": [
       "0"
      ]
     },
     "execution_count": 30,
     "metadata": {},
     "output_type": "execute_result"
    }
   ],
   "source": [
    "# Test hàm cho một series: \n",
    "so_luong_na(hmeq[\"BAD\"])"
   ]
  },
  {
   "cell_type": "code",
   "execution_count": 31,
   "metadata": {},
   "outputs": [
    {
     "data": {
      "text/plain": [
       "518"
      ]
     },
     "execution_count": 31,
     "metadata": {},
     "output_type": "execute_result"
    }
   ],
   "source": [
    "so_luong_na(hmeq[\"MORTDUE\"])"
   ]
  },
  {
   "cell_type": "code",
   "execution_count": 32,
   "metadata": {},
   "outputs": [
    {
     "data": {
      "text/plain": [
       "BAD           0\n",
       "LOAN          0\n",
       "MORTDUE     518\n",
       "VALUE       112\n",
       "REASON      252\n",
       "JOB         279\n",
       "YOJ         515\n",
       "DEROG       708\n",
       "DELINQ      580\n",
       "CLAGE       308\n",
       "NINQ        510\n",
       "CLNO        222\n",
       "DEBTINC    1267\n",
       "dtype: int64"
      ]
     },
     "execution_count": 32,
     "metadata": {},
     "output_type": "execute_result"
    }
   ],
   "source": [
    "# Sử dụng hàm cho các cột biến của DF: \n",
    "hmeq.apply(so_luong_na)"
   ]
  },
  {
   "cell_type": "code",
   "execution_count": 33,
   "metadata": {
    "collapsed": true
   },
   "outputs": [],
   "source": [
    "# Viết hàm  tính tỉ lệ % NA: \n",
    "def ti_le_na (x): \n",
    "    tile = 100*sum(pd.isna(x)) / len(x)\n",
    "    return(tile)"
   ]
  },
  {
   "cell_type": "code",
   "execution_count": 34,
   "metadata": {},
   "outputs": [
    {
     "data": {
      "text/plain": [
       "BAD         0.000000\n",
       "LOAN        0.000000\n",
       "MORTDUE     8.691275\n",
       "VALUE       1.879195\n",
       "REASON      4.228188\n",
       "JOB         4.681208\n",
       "YOJ         8.640940\n",
       "DEROG      11.879195\n",
       "DELINQ      9.731544\n",
       "CLAGE       5.167785\n",
       "NINQ        8.557047\n",
       "CLNO        3.724832\n",
       "DEBTINC    21.258389\n",
       "dtype: float64"
      ]
     },
     "execution_count": 34,
     "metadata": {},
     "output_type": "execute_result"
    }
   ],
   "source": [
    "hmeq.apply(ti_le_na)"
   ]
  },
  {
   "cell_type": "code",
   "execution_count": 38,
   "metadata": {},
   "outputs": [
    {
     "data": {
      "text/plain": [
       "BAD          int64\n",
       "LOAN         int64\n",
       "MORTDUE    float64\n",
       "VALUE      float64\n",
       "REASON      object\n",
       "JOB         object\n",
       "YOJ        float64\n",
       "DEROG      float64\n",
       "DELINQ     float64\n",
       "CLAGE      float64\n",
       "NINQ       float64\n",
       "CLNO       float64\n",
       "DEBTINC    float64\n",
       "dtype: object"
      ]
     },
     "execution_count": 38,
     "metadata": {},
     "output_type": "execute_result"
    }
   ],
   "source": [
    "# Xem kiểu dữ liệu cho từng cột biến: \n",
    "hmeq.dtypes"
   ]
  },
  {
   "cell_type": "code",
   "execution_count": 130,
   "metadata": {},
   "outputs": [
    {
     "name": "stdout",
     "output_type": "stream",
     "text": [
      "<class 'pandas.core.frame.DataFrame'>\n",
      "RangeIndex: 5960 entries, 0 to 5959\n",
      "Data columns (total 13 columns):\n",
      "BAD        5960 non-null int64\n",
      "LOAN       5960 non-null int64\n",
      "MORTDUE    5442 non-null float64\n",
      "VALUE      5848 non-null float64\n",
      "REASON     5708 non-null object\n",
      "JOB        5681 non-null object\n",
      "YOJ        5445 non-null float64\n",
      "DEROG      5252 non-null float64\n",
      "DELINQ     5380 non-null float64\n",
      "CLAGE      5652 non-null float64\n",
      "NINQ       5450 non-null float64\n",
      "CLNO       5738 non-null float64\n",
      "DEBTINC    4693 non-null float64\n",
      "dtypes: float64(9), int64(2), object(2)\n",
      "memory usage: 605.4+ KB\n"
     ]
    }
   ],
   "source": [
    "# Hoặc một cách khác nhiều thông tin hơn: \n",
    "hmeq.info()"
   ]
  },
  {
   "cell_type": "code",
   "execution_count": 41,
   "metadata": {},
   "outputs": [
    {
     "data": {
      "text/html": [
       "<div>\n",
       "<style scoped>\n",
       "    .dataframe tbody tr th:only-of-type {\n",
       "        vertical-align: middle;\n",
       "    }\n",
       "\n",
       "    .dataframe tbody tr th {\n",
       "        vertical-align: top;\n",
       "    }\n",
       "\n",
       "    .dataframe thead th {\n",
       "        text-align: right;\n",
       "    }\n",
       "</style>\n",
       "<table border=\"1\" class=\"dataframe\">\n",
       "  <thead>\n",
       "    <tr style=\"text-align: right;\">\n",
       "      <th></th>\n",
       "      <th>BAD</th>\n",
       "      <th>LOAN</th>\n",
       "      <th>MORTDUE</th>\n",
       "      <th>VALUE</th>\n",
       "      <th>REASON</th>\n",
       "      <th>JOB</th>\n",
       "      <th>YOJ</th>\n",
       "      <th>DEROG</th>\n",
       "      <th>DELINQ</th>\n",
       "      <th>CLAGE</th>\n",
       "      <th>NINQ</th>\n",
       "      <th>CLNO</th>\n",
       "      <th>DEBTINC</th>\n",
       "    </tr>\n",
       "  </thead>\n",
       "  <tbody>\n",
       "    <tr>\n",
       "      <th>0</th>\n",
       "      <td>1</td>\n",
       "      <td>1100</td>\n",
       "      <td>25860.0</td>\n",
       "      <td>39025.0</td>\n",
       "      <td>HomeImp</td>\n",
       "      <td>Other</td>\n",
       "      <td>10.5</td>\n",
       "      <td>0.0</td>\n",
       "      <td>0.0</td>\n",
       "      <td>94.366667</td>\n",
       "      <td>1.0</td>\n",
       "      <td>9.0</td>\n",
       "      <td>NaN</td>\n",
       "    </tr>\n",
       "    <tr>\n",
       "      <th>1</th>\n",
       "      <td>1</td>\n",
       "      <td>1300</td>\n",
       "      <td>70053.0</td>\n",
       "      <td>68400.0</td>\n",
       "      <td>HomeImp</td>\n",
       "      <td>Other</td>\n",
       "      <td>7.0</td>\n",
       "      <td>0.0</td>\n",
       "      <td>2.0</td>\n",
       "      <td>121.833333</td>\n",
       "      <td>0.0</td>\n",
       "      <td>14.0</td>\n",
       "      <td>NaN</td>\n",
       "    </tr>\n",
       "    <tr>\n",
       "      <th>2</th>\n",
       "      <td>1</td>\n",
       "      <td>1500</td>\n",
       "      <td>13500.0</td>\n",
       "      <td>16700.0</td>\n",
       "      <td>HomeImp</td>\n",
       "      <td>Other</td>\n",
       "      <td>4.0</td>\n",
       "      <td>0.0</td>\n",
       "      <td>0.0</td>\n",
       "      <td>149.466667</td>\n",
       "      <td>1.0</td>\n",
       "      <td>10.0</td>\n",
       "      <td>NaN</td>\n",
       "    </tr>\n",
       "    <tr>\n",
       "      <th>3</th>\n",
       "      <td>1</td>\n",
       "      <td>1500</td>\n",
       "      <td>NaN</td>\n",
       "      <td>NaN</td>\n",
       "      <td>NaN</td>\n",
       "      <td>NaN</td>\n",
       "      <td>NaN</td>\n",
       "      <td>NaN</td>\n",
       "      <td>NaN</td>\n",
       "      <td>NaN</td>\n",
       "      <td>NaN</td>\n",
       "      <td>NaN</td>\n",
       "      <td>NaN</td>\n",
       "    </tr>\n",
       "    <tr>\n",
       "      <th>4</th>\n",
       "      <td>0</td>\n",
       "      <td>1700</td>\n",
       "      <td>97800.0</td>\n",
       "      <td>112000.0</td>\n",
       "      <td>HomeImp</td>\n",
       "      <td>Office</td>\n",
       "      <td>3.0</td>\n",
       "      <td>0.0</td>\n",
       "      <td>0.0</td>\n",
       "      <td>93.333333</td>\n",
       "      <td>0.0</td>\n",
       "      <td>14.0</td>\n",
       "      <td>NaN</td>\n",
       "    </tr>\n",
       "  </tbody>\n",
       "</table>\n",
       "</div>"
      ],
      "text/plain": [
       "   BAD  LOAN  MORTDUE     VALUE   REASON     JOB   YOJ  DEROG  DELINQ  \\\n",
       "0    1  1100  25860.0   39025.0  HomeImp   Other  10.5    0.0     0.0   \n",
       "1    1  1300  70053.0   68400.0  HomeImp   Other   7.0    0.0     2.0   \n",
       "2    1  1500  13500.0   16700.0  HomeImp   Other   4.0    0.0     0.0   \n",
       "3    1  1500      NaN       NaN      NaN     NaN   NaN    NaN     NaN   \n",
       "4    0  1700  97800.0  112000.0  HomeImp  Office   3.0    0.0     0.0   \n",
       "\n",
       "        CLAGE  NINQ  CLNO  DEBTINC  \n",
       "0   94.366667   1.0   9.0      NaN  \n",
       "1  121.833333   0.0  14.0      NaN  \n",
       "2  149.466667   1.0  10.0      NaN  \n",
       "3         NaN   NaN   NaN      NaN  \n",
       "4   93.333333   0.0  14.0      NaN  "
      ]
     },
     "execution_count": 41,
     "metadata": {},
     "output_type": "execute_result"
    }
   ],
   "source": [
    "# Xem qua 5 quan sát của DF: \n",
    "hmeq.head()"
   ]
  },
  {
   "cell_type": "code",
   "execution_count": 43,
   "metadata": {},
   "outputs": [
    {
     "data": {
      "text/plain": [
       "1189"
      ]
     },
     "execution_count": 43,
     "metadata": {},
     "output_type": "execute_result"
    }
   ],
   "source": [
    "# Số lượng các hồ sơ xấu: \n",
    "sum(hmeq[\"BAD\"])"
   ]
  },
  {
   "cell_type": "code",
   "execution_count": 46,
   "metadata": {},
   "outputs": [
    {
     "data": {
      "text/plain": [
       "0.199496644295302"
      ]
     },
     "execution_count": 46,
     "metadata": {},
     "output_type": "execute_result"
    }
   ],
   "source": [
    "# Hoặc cách khác: \n",
    "hmeq[\"BAD\"].mean()\n"
   ]
  },
  {
   "cell_type": "code",
   "execution_count": 47,
   "metadata": {},
   "outputs": [
    {
     "data": {
      "text/plain": [
       "BAD             0.199497\n",
       "LOAN        18607.969799\n",
       "MORTDUE     73760.817200\n",
       "VALUE      101776.048741\n",
       "YOJ             8.922268\n",
       "DEROG           0.254570\n",
       "DELINQ          0.449442\n",
       "CLAGE         179.766275\n",
       "NINQ            1.186055\n",
       "CLNO           21.296096\n",
       "DEBTINC        33.779915\n",
       "dtype: float64"
      ]
     },
     "execution_count": 47,
     "metadata": {},
     "output_type": "execute_result"
    }
   ],
   "source": [
    "# Hoặc cách khác: \n",
    "hmeq.mean()"
   ]
  },
  {
   "cell_type": "code",
   "execution_count": 61,
   "metadata": {},
   "outputs": [
    {
     "data": {
      "text/plain": [
       "BAD             0.199497\n",
       "LOAN        18607.969799\n",
       "MORTDUE     73760.817200\n",
       "VALUE      101776.048741\n",
       "YOJ             8.922268\n",
       "DEROG           0.254570\n",
       "DELINQ          0.449442\n",
       "CLAGE         179.766275\n",
       "NINQ            1.186055\n",
       "CLNO           21.296096\n",
       "DEBTINC        33.779915\n",
       "dtype: float64"
      ]
     },
     "execution_count": 61,
     "metadata": {},
     "output_type": "execute_result"
    }
   ],
   "source": [
    "hmeq.mean()"
   ]
  },
  {
   "cell_type": "code",
   "execution_count": 63,
   "metadata": {
    "collapsed": true
   },
   "outputs": [],
   "source": [
    "# Thay thế NA bằng mean cho các biến số: \n",
    "hmeq_fill_num = hmeq.fillna(hmeq.mean())"
   ]
  },
  {
   "cell_type": "code",
   "execution_count": 64,
   "metadata": {},
   "outputs": [
    {
     "data": {
      "text/plain": [
       "BAD        0.000000\n",
       "LOAN       0.000000\n",
       "MORTDUE    0.000000\n",
       "VALUE      0.000000\n",
       "REASON     4.228188\n",
       "JOB        4.681208\n",
       "YOJ        0.000000\n",
       "DEROG      0.000000\n",
       "DELINQ     0.000000\n",
       "CLAGE      0.000000\n",
       "NINQ       0.000000\n",
       "CLNO       0.000000\n",
       "DEBTINC    0.000000\n",
       "dtype: float64"
      ]
     },
     "execution_count": 64,
     "metadata": {},
     "output_type": "execute_result"
    }
   ],
   "source": [
    "# Kiểm tra: \n",
    "hmeq_fill_num.apply(ti_le_na)"
   ]
  },
  {
   "cell_type": "code",
   "execution_count": 66,
   "metadata": {},
   "outputs": [
    {
     "data": {
      "text/plain": [
       "'DebtCon'"
      ]
     },
     "execution_count": 66,
     "metadata": {},
     "output_type": "execute_result"
    }
   ],
   "source": [
    "# df = df.apply(lambda x:x.fillna(x.value_counts().index[0]))\n",
    "hmeq[\"REASON\"].value_counts().index[0]\n"
   ]
  },
  {
   "cell_type": "code",
   "execution_count": 67,
   "metadata": {},
   "outputs": [
    {
     "data": {
      "text/plain": [
       "DebtCon    3928\n",
       "HomeImp    1780\n",
       "Name: REASON, dtype: int64"
      ]
     },
     "execution_count": 67,
     "metadata": {},
     "output_type": "execute_result"
    }
   ],
   "source": [
    "hmeq[\"REASON\"].value_counts()"
   ]
  },
  {
   "cell_type": "code",
   "execution_count": 68,
   "metadata": {
    "collapsed": true
   },
   "outputs": [],
   "source": [
    "# Với biến định tính thay thế NA bằng nhãn xuất hiện với tần suất lớn nhất (cách 1): \n",
    "hmeq_fill_num_cat = hmeq_fill_num.apply(lambda x:x.fillna(x.value_counts().index[0]))"
   ]
  },
  {
   "cell_type": "code",
   "execution_count": 69,
   "metadata": {},
   "outputs": [
    {
     "data": {
      "text/plain": [
       "BAD        0.0\n",
       "LOAN       0.0\n",
       "MORTDUE    0.0\n",
       "VALUE      0.0\n",
       "REASON     0.0\n",
       "JOB        0.0\n",
       "YOJ        0.0\n",
       "DEROG      0.0\n",
       "DELINQ     0.0\n",
       "CLAGE      0.0\n",
       "NINQ       0.0\n",
       "CLNO       0.0\n",
       "DEBTINC    0.0\n",
       "dtype: float64"
      ]
     },
     "execution_count": 69,
     "metadata": {},
     "output_type": "execute_result"
    }
   ],
   "source": [
    "# Kiểm tra: \n",
    "hmeq_fill_num_cat.apply(ti_le_na)"
   ]
  },
  {
   "cell_type": "code",
   "execution_count": 74,
   "metadata": {
    "collapsed": true
   },
   "outputs": [],
   "source": [
    "# Cách 2 (viết một hàm thay NA bằng nhãn có tần suất cao nhất): \n",
    "def thay_na_cat (x): \n",
    "    y = x.fillna(x.value_counts().index[0])\n",
    "    return(y) "
   ]
  },
  {
   "cell_type": "code",
   "execution_count": 77,
   "metadata": {
    "collapsed": true
   },
   "outputs": [],
   "source": [
    "# Rồi áp dụng hàm: \n",
    "hmeq_fill_cach2 = hmeq_fill_num.apply(thay_na_cat)"
   ]
  },
  {
   "cell_type": "code",
   "execution_count": 78,
   "metadata": {},
   "outputs": [
    {
     "data": {
      "text/plain": [
       "BAD        0.0\n",
       "LOAN       0.0\n",
       "MORTDUE    0.0\n",
       "VALUE      0.0\n",
       "REASON     0.0\n",
       "JOB        0.0\n",
       "YOJ        0.0\n",
       "DEROG      0.0\n",
       "DELINQ     0.0\n",
       "CLAGE      0.0\n",
       "NINQ       0.0\n",
       "CLNO       0.0\n",
       "DEBTINC    0.0\n",
       "dtype: float64"
      ]
     },
     "execution_count": 78,
     "metadata": {},
     "output_type": "execute_result"
    }
   ],
   "source": [
    "# Kiểm tra lại: \n",
    "hmeq_fill_cach2.apply(ti_le_na)"
   ]
  },
  {
   "cell_type": "code",
   "execution_count": 79,
   "metadata": {},
   "outputs": [
    {
     "data": {
      "text/plain": [
       "BAD        0.0\n",
       "LOAN       0.0\n",
       "MORTDUE    0.0\n",
       "VALUE      0.0\n",
       "REASON     0.0\n",
       "JOB        0.0\n",
       "YOJ        0.0\n",
       "DEROG      0.0\n",
       "DELINQ     0.0\n",
       "CLAGE      0.0\n",
       "NINQ       0.0\n",
       "CLNO       0.0\n",
       "DEBTINC    0.0\n",
       "dtype: float64"
      ]
     },
     "execution_count": 79,
     "metadata": {},
     "output_type": "execute_result"
    }
   ],
   "source": [
    "# Dấu . có ý nghĩa tương tự toán tử pipe: \n",
    "hmeq_fill_num.apply(thay_na_cat).apply(ti_le_na)"
   ]
  },
  {
   "cell_type": "code",
   "execution_count": 82,
   "metadata": {
    "collapsed": true
   },
   "outputs": [],
   "source": [
    "# Dán lại nhãn cho BAD với 1 = B và 0 = G: \n",
    "final_df = hmeq_fill_num_cat.assign(BAD = hmeq_fill_num_cat[\"BAD\"].map(lambda x: \"B\" if x == 1 else \"G\"))"
   ]
  },
  {
   "cell_type": "code",
   "execution_count": 83,
   "metadata": {},
   "outputs": [
    {
     "data": {
      "text/html": [
       "<div>\n",
       "<style scoped>\n",
       "    .dataframe tbody tr th:only-of-type {\n",
       "        vertical-align: middle;\n",
       "    }\n",
       "\n",
       "    .dataframe tbody tr th {\n",
       "        vertical-align: top;\n",
       "    }\n",
       "\n",
       "    .dataframe thead th {\n",
       "        text-align: right;\n",
       "    }\n",
       "</style>\n",
       "<table border=\"1\" class=\"dataframe\">\n",
       "  <thead>\n",
       "    <tr style=\"text-align: right;\">\n",
       "      <th></th>\n",
       "      <th>BAD</th>\n",
       "      <th>LOAN</th>\n",
       "      <th>MORTDUE</th>\n",
       "      <th>VALUE</th>\n",
       "      <th>REASON</th>\n",
       "      <th>JOB</th>\n",
       "      <th>YOJ</th>\n",
       "      <th>DEROG</th>\n",
       "      <th>DELINQ</th>\n",
       "      <th>CLAGE</th>\n",
       "      <th>NINQ</th>\n",
       "      <th>CLNO</th>\n",
       "      <th>DEBTINC</th>\n",
       "    </tr>\n",
       "  </thead>\n",
       "  <tbody>\n",
       "    <tr>\n",
       "      <th>0</th>\n",
       "      <td>B</td>\n",
       "      <td>1100</td>\n",
       "      <td>25860.0000</td>\n",
       "      <td>39025.000000</td>\n",
       "      <td>HomeImp</td>\n",
       "      <td>Other</td>\n",
       "      <td>10.500000</td>\n",
       "      <td>0.00000</td>\n",
       "      <td>0.000000</td>\n",
       "      <td>94.366667</td>\n",
       "      <td>1.000000</td>\n",
       "      <td>9.000000</td>\n",
       "      <td>33.779915</td>\n",
       "    </tr>\n",
       "    <tr>\n",
       "      <th>1</th>\n",
       "      <td>B</td>\n",
       "      <td>1300</td>\n",
       "      <td>70053.0000</td>\n",
       "      <td>68400.000000</td>\n",
       "      <td>HomeImp</td>\n",
       "      <td>Other</td>\n",
       "      <td>7.000000</td>\n",
       "      <td>0.00000</td>\n",
       "      <td>2.000000</td>\n",
       "      <td>121.833333</td>\n",
       "      <td>0.000000</td>\n",
       "      <td>14.000000</td>\n",
       "      <td>33.779915</td>\n",
       "    </tr>\n",
       "    <tr>\n",
       "      <th>2</th>\n",
       "      <td>B</td>\n",
       "      <td>1500</td>\n",
       "      <td>13500.0000</td>\n",
       "      <td>16700.000000</td>\n",
       "      <td>HomeImp</td>\n",
       "      <td>Other</td>\n",
       "      <td>4.000000</td>\n",
       "      <td>0.00000</td>\n",
       "      <td>0.000000</td>\n",
       "      <td>149.466667</td>\n",
       "      <td>1.000000</td>\n",
       "      <td>10.000000</td>\n",
       "      <td>33.779915</td>\n",
       "    </tr>\n",
       "    <tr>\n",
       "      <th>3</th>\n",
       "      <td>B</td>\n",
       "      <td>1500</td>\n",
       "      <td>73760.8172</td>\n",
       "      <td>101776.048741</td>\n",
       "      <td>DebtCon</td>\n",
       "      <td>Other</td>\n",
       "      <td>8.922268</td>\n",
       "      <td>0.25457</td>\n",
       "      <td>0.449442</td>\n",
       "      <td>179.766275</td>\n",
       "      <td>1.186055</td>\n",
       "      <td>21.296096</td>\n",
       "      <td>33.779915</td>\n",
       "    </tr>\n",
       "    <tr>\n",
       "      <th>4</th>\n",
       "      <td>G</td>\n",
       "      <td>1700</td>\n",
       "      <td>97800.0000</td>\n",
       "      <td>112000.000000</td>\n",
       "      <td>HomeImp</td>\n",
       "      <td>Office</td>\n",
       "      <td>3.000000</td>\n",
       "      <td>0.00000</td>\n",
       "      <td>0.000000</td>\n",
       "      <td>93.333333</td>\n",
       "      <td>0.000000</td>\n",
       "      <td>14.000000</td>\n",
       "      <td>33.779915</td>\n",
       "    </tr>\n",
       "  </tbody>\n",
       "</table>\n",
       "</div>"
      ],
      "text/plain": [
       "  BAD  LOAN     MORTDUE          VALUE   REASON     JOB        YOJ    DEROG  \\\n",
       "0   B  1100  25860.0000   39025.000000  HomeImp   Other  10.500000  0.00000   \n",
       "1   B  1300  70053.0000   68400.000000  HomeImp   Other   7.000000  0.00000   \n",
       "2   B  1500  13500.0000   16700.000000  HomeImp   Other   4.000000  0.00000   \n",
       "3   B  1500  73760.8172  101776.048741  DebtCon   Other   8.922268  0.25457   \n",
       "4   G  1700  97800.0000  112000.000000  HomeImp  Office   3.000000  0.00000   \n",
       "\n",
       "     DELINQ       CLAGE      NINQ       CLNO    DEBTINC  \n",
       "0  0.000000   94.366667  1.000000   9.000000  33.779915  \n",
       "1  2.000000  121.833333  0.000000  14.000000  33.779915  \n",
       "2  0.000000  149.466667  1.000000  10.000000  33.779915  \n",
       "3  0.449442  179.766275  1.186055  21.296096  33.779915  \n",
       "4  0.000000   93.333333  0.000000  14.000000  33.779915  "
      ]
     },
     "execution_count": 83,
     "metadata": {},
     "output_type": "execute_result"
    }
   ],
   "source": [
    "# Xem dữ liệu: \n",
    "final_df.head()"
   ]
  },
  {
   "cell_type": "code",
   "execution_count": 85,
   "metadata": {},
   "outputs": [
    {
     "data": {
      "text/plain": [
       "G    0.800503\n",
       "B    0.199497\n",
       "Name: BAD, dtype: float64"
      ]
     },
     "execution_count": 85,
     "metadata": {},
     "output_type": "execute_result"
    }
   ],
   "source": [
    "# Tỉ lệ các nhóm hồ sơ: \n",
    "final_df[\"BAD\"].value_counts() / len(final_df[\"BAD\"])"
   ]
  },
  {
   "cell_type": "markdown",
   "metadata": {},
   "source": [
    "### 2. Gradient Booting Machine \n",
    "\n",
    "Dưới đây thực hiện GBM mặc định trong đó 80% dữ liệu được sử dụng để dựng mô hình, 20% còn lại được sử dụng để đánh giá chất lượng của mô hình. Mặt khác để đánh giá chi tiết hơn chất lượng của mô hình cross - validation với k = 5 được sử dụng."
   ]
  },
  {
   "cell_type": "code",
   "execution_count": 86,
   "metadata": {},
   "outputs": [
    {
     "name": "stdout",
     "output_type": "stream",
     "text": [
      "Checking whether there is an H2O instance running at http://localhost:54321..... not found.\n",
      "Attempting to start a local H2O server...\n",
      "; Java HotSpot(TM) 64-Bit Server VM (build 25.131-b11, mixed mode)\n",
      "  Starting server from C:\\Users\\win10ls\\Anaconda3\\lib\\site-packages\\h2o\\backend\\bin\\h2o.jar\n",
      "  Ice root: C:\\Users\\win10ls\\AppData\\Local\\Temp\\tmp3a5f3to9\n",
      "  JVM stdout: C:\\Users\\win10ls\\AppData\\Local\\Temp\\tmp3a5f3to9\\h2o_win10ls_started_from_python.out\n",
      "  JVM stderr: C:\\Users\\win10ls\\AppData\\Local\\Temp\\tmp3a5f3to9\\h2o_win10ls_started_from_python.err\n",
      "  Server is running at http://127.0.0.1:54321\n",
      "Connecting to H2O server at http://127.0.0.1:54321... successful.\n"
     ]
    },
    {
     "data": {
      "text/html": [
       "<div style=\"overflow:auto\"><table style=\"width:50%\"><tr><td>H2O cluster uptime:</td>\n",
       "<td>07 secs</td></tr>\n",
       "<tr><td>H2O cluster version:</td>\n",
       "<td>3.16.0.2</td></tr>\n",
       "<tr><td>H2O cluster version age:</td>\n",
       "<td>1 month and 15 days </td></tr>\n",
       "<tr><td>H2O cluster name:</td>\n",
       "<td>H2O_from_python_win10ls_4591kx</td></tr>\n",
       "<tr><td>H2O cluster total nodes:</td>\n",
       "<td>1</td></tr>\n",
       "<tr><td>H2O cluster free memory:</td>\n",
       "<td>5.333 Gb</td></tr>\n",
       "<tr><td>H2O cluster total cores:</td>\n",
       "<td>4</td></tr>\n",
       "<tr><td>H2O cluster allowed cores:</td>\n",
       "<td>2</td></tr>\n",
       "<tr><td>H2O cluster status:</td>\n",
       "<td>accepting new members, healthy</td></tr>\n",
       "<tr><td>H2O connection url:</td>\n",
       "<td>http://127.0.0.1:54321</td></tr>\n",
       "<tr><td>H2O connection proxy:</td>\n",
       "<td>None</td></tr>\n",
       "<tr><td>H2O internal security:</td>\n",
       "<td>False</td></tr>\n",
       "<tr><td>H2O API Extensions:</td>\n",
       "<td>Algos, AutoML, Core V3, Core V4</td></tr>\n",
       "<tr><td>Python version:</td>\n",
       "<td>3.6.3 final</td></tr></table></div>"
      ],
      "text/plain": [
       "--------------------------  -------------------------------\n",
       "H2O cluster uptime:         07 secs\n",
       "H2O cluster version:        3.16.0.2\n",
       "H2O cluster version age:    1 month and 15 days\n",
       "H2O cluster name:           H2O_from_python_win10ls_4591kx\n",
       "H2O cluster total nodes:    1\n",
       "H2O cluster free memory:    5.333 Gb\n",
       "H2O cluster total cores:    4\n",
       "H2O cluster allowed cores:  2\n",
       "H2O cluster status:         accepting new members, healthy\n",
       "H2O connection url:         http://127.0.0.1:54321\n",
       "H2O connection proxy:\n",
       "H2O internal security:      False\n",
       "H2O API Extensions:         Algos, AutoML, Core V3, Core V4\n",
       "Python version:             3.6.3 final\n",
       "--------------------------  -------------------------------"
      ]
     },
     "metadata": {},
     "output_type": "display_data"
    }
   ],
   "source": [
    "# Load gói h2o: \n",
    "import h2o\n",
    "\n",
    "# Chỉ định 2 nhân của bộ vi xử lí, sử dụng 6 Gi RAM: \n",
    "h2o.init(nthreads = 2, max_mem_size = 6)"
   ]
  },
  {
   "cell_type": "code",
   "execution_count": 87,
   "metadata": {},
   "outputs": [
    {
     "name": "stdout",
     "output_type": "stream",
     "text": [
      "Parse progress: |█████████████████████████████████████████████████████████| 100%\n"
     ]
    }
   ],
   "source": [
    "# Chuyển hóa về object của h2o: \n",
    "df = h2o.H2OFrame(final_df)"
   ]
  },
  {
   "cell_type": "code",
   "execution_count": 88,
   "metadata": {
    "collapsed": true
   },
   "outputs": [],
   "source": [
    "# Chỉ thị biến Input và Output: \n",
    "response = \"BAD\"\n",
    "predictors = df.names\n",
    "predictors.remove(\"BAD\")"
   ]
  },
  {
   "cell_type": "code",
   "execution_count": 89,
   "metadata": {
    "collapsed": true
   },
   "outputs": [],
   "source": [
    "# Phân chia dữ liệu: \n",
    "train, test = df.split_frame(ratios = [0.8], seed = 29)"
   ]
  },
  {
   "cell_type": "markdown",
   "metadata": {},
   "source": [
    "#### GBM mặc định"
   ]
  },
  {
   "cell_type": "code",
   "execution_count": 90,
   "metadata": {},
   "outputs": [
    {
     "name": "stdout",
     "output_type": "stream",
     "text": [
      "gbm Model Build progress: |███████████████████████████████████████████████| 100%\n"
     ]
    }
   ],
   "source": [
    "# Thực hiện GBM mặc định đồng thời thực  hiện  cross - validation với k = 5: \n",
    "from h2o.estimators.gbm import H2OGradientBoostingEstimator\n",
    "cv_gbm = H2OGradientBoostingEstimator(nfolds = 5, seed = 29)\n",
    "cv_gbm.train(x = predictors, y = response, training_frame = train)"
   ]
  },
  {
   "cell_type": "code",
   "execution_count": 91,
   "metadata": {},
   "outputs": [
    {
     "data": {
      "text/html": [
       "<div>\n",
       "<style scoped>\n",
       "    .dataframe tbody tr th:only-of-type {\n",
       "        vertical-align: middle;\n",
       "    }\n",
       "\n",
       "    .dataframe tbody tr th {\n",
       "        vertical-align: top;\n",
       "    }\n",
       "\n",
       "    .dataframe thead th {\n",
       "        text-align: right;\n",
       "    }\n",
       "</style>\n",
       "<table border=\"1\" class=\"dataframe\">\n",
       "  <thead>\n",
       "    <tr style=\"text-align: right;\">\n",
       "      <th></th>\n",
       "      <th></th>\n",
       "      <th>mean</th>\n",
       "      <th>sd</th>\n",
       "      <th>cv_1_valid</th>\n",
       "      <th>cv_2_valid</th>\n",
       "      <th>cv_3_valid</th>\n",
       "      <th>cv_4_valid</th>\n",
       "      <th>cv_5_valid</th>\n",
       "    </tr>\n",
       "  </thead>\n",
       "  <tbody>\n",
       "    <tr>\n",
       "      <th>0</th>\n",
       "      <td>accuracy</td>\n",
       "      <td>0.90947354</td>\n",
       "      <td>0.004627987</td>\n",
       "      <td>0.9024145</td>\n",
       "      <td>0.91778004</td>\n",
       "      <td>0.91167194</td>\n",
       "      <td>0.9012474</td>\n",
       "      <td>0.9142539</td>\n",
       "    </tr>\n",
       "    <tr>\n",
       "      <th>1</th>\n",
       "      <td>auc</td>\n",
       "      <td>0.9359058</td>\n",
       "      <td>0.0047616195</td>\n",
       "      <td>0.9282244</td>\n",
       "      <td>0.9382064</td>\n",
       "      <td>0.94657916</td>\n",
       "      <td>0.9291058</td>\n",
       "      <td>0.93741345</td>\n",
       "    </tr>\n",
       "    <tr>\n",
       "      <th>2</th>\n",
       "      <td>err</td>\n",
       "      <td>0.09052645</td>\n",
       "      <td>0.004627987</td>\n",
       "      <td>0.097585514</td>\n",
       "      <td>0.082219936</td>\n",
       "      <td>0.08832808</td>\n",
       "      <td>0.098752595</td>\n",
       "      <td>0.0857461</td>\n",
       "    </tr>\n",
       "    <tr>\n",
       "      <th>3</th>\n",
       "      <td>err_count</td>\n",
       "      <td>86.6</td>\n",
       "      <td>5.667451</td>\n",
       "      <td>97.0</td>\n",
       "      <td>80.0</td>\n",
       "      <td>84.0</td>\n",
       "      <td>95.0</td>\n",
       "      <td>77.0</td>\n",
       "    </tr>\n",
       "    <tr>\n",
       "      <th>4</th>\n",
       "      <td>f0point5</td>\n",
       "      <td>0.933622</td>\n",
       "      <td>0.007466399</td>\n",
       "      <td>0.9257485</td>\n",
       "      <td>0.934092</td>\n",
       "      <td>0.9491942</td>\n",
       "      <td>0.91906387</td>\n",
       "      <td>0.9400115</td>\n",
       "    </tr>\n",
       "    <tr>\n",
       "      <th>5</th>\n",
       "      <td>f1</td>\n",
       "      <td>0.9441771</td>\n",
       "      <td>0.0028299629</td>\n",
       "      <td>0.94096166</td>\n",
       "      <td>0.9516908</td>\n",
       "      <td>0.94301224</td>\n",
       "      <td>0.9407361</td>\n",
       "      <td>0.9444845</td>\n",
       "    </tr>\n",
       "    <tr>\n",
       "      <th>6</th>\n",
       "      <td>f2</td>\n",
       "      <td>0.9552029</td>\n",
       "      <td>0.008132163</td>\n",
       "      <td>0.95668316</td>\n",
       "      <td>0.9699655</td>\n",
       "      <td>0.9369102</td>\n",
       "      <td>0.96345514</td>\n",
       "      <td>0.9490003</td>\n",
       "    </tr>\n",
       "    <tr>\n",
       "      <th>7</th>\n",
       "      <td>lift_top_group</td>\n",
       "      <td>1.257673</td>\n",
       "      <td>0.022017712</td>\n",
       "      <td>1.244055</td>\n",
       "      <td>1.2132169</td>\n",
       "      <td>1.2765101</td>\n",
       "      <td>1.2493507</td>\n",
       "      <td>1.3052325</td>\n",
       "    </tr>\n",
       "    <tr>\n",
       "      <th>8</th>\n",
       "      <td>logloss</td>\n",
       "      <td>0.24672207</td>\n",
       "      <td>0.007920911</td>\n",
       "      <td>0.26090723</td>\n",
       "      <td>0.22895424</td>\n",
       "      <td>0.24128795</td>\n",
       "      <td>0.24674089</td>\n",
       "      <td>0.25572005</td>\n",
       "    </tr>\n",
       "    <tr>\n",
       "      <th>9</th>\n",
       "      <td>max_per_class_error</td>\n",
       "      <td>0.30721962</td>\n",
       "      <td>0.07075259</td>\n",
       "      <td>0.36410257</td>\n",
       "      <td>0.3859649</td>\n",
       "      <td>0.16504854</td>\n",
       "      <td>0.41145834</td>\n",
       "      <td>0.20952381</td>\n",
       "    </tr>\n",
       "    <tr>\n",
       "      <th>10</th>\n",
       "      <td>mcc</td>\n",
       "      <td>0.7065559</td>\n",
       "      <td>0.027255408</td>\n",
       "      <td>0.6693419</td>\n",
       "      <td>0.6930277</td>\n",
       "      <td>0.747723</td>\n",
       "      <td>0.6659556</td>\n",
       "      <td>0.7567313</td>\n",
       "    </tr>\n",
       "    <tr>\n",
       "      <th>11</th>\n",
       "      <td>mean_per_class_accuracy</td>\n",
       "      <td>0.8278046</td>\n",
       "      <td>0.029188637</td>\n",
       "      <td>0.80167836</td>\n",
       "      <td>0.79828936</td>\n",
       "      <td>0.8839187</td>\n",
       "      <td>0.78388125</td>\n",
       "      <td>0.8712555</td>\n",
       "    </tr>\n",
       "    <tr>\n",
       "      <th>12</th>\n",
       "      <td>mean_per_class_error</td>\n",
       "      <td>0.17219536</td>\n",
       "      <td>0.029188637</td>\n",
       "      <td>0.19832163</td>\n",
       "      <td>0.20171064</td>\n",
       "      <td>0.11608132</td>\n",
       "      <td>0.21611878</td>\n",
       "      <td>0.12874447</td>\n",
       "    </tr>\n",
       "    <tr>\n",
       "      <th>13</th>\n",
       "      <td>mse</td>\n",
       "      <td>0.07221724</td>\n",
       "      <td>0.0027766188</td>\n",
       "      <td>0.077867314</td>\n",
       "      <td>0.06603347</td>\n",
       "      <td>0.07083633</td>\n",
       "      <td>0.07191082</td>\n",
       "      <td>0.07443827</td>\n",
       "    </tr>\n",
       "    <tr>\n",
       "      <th>14</th>\n",
       "      <td>precision</td>\n",
       "      <td>0.9268338</td>\n",
       "      <td>0.011894462</td>\n",
       "      <td>0.9158768</td>\n",
       "      <td>0.9227166</td>\n",
       "      <td>0.9533608</td>\n",
       "      <td>0.90516204</td>\n",
       "      <td>0.9370529</td>\n",
       "    </tr>\n",
       "    <tr>\n",
       "      <th>15</th>\n",
       "      <td>r2</td>\n",
       "      <td>0.55346036</td>\n",
       "      <td>0.020358626</td>\n",
       "      <td>0.50620514</td>\n",
       "      <td>0.5441528</td>\n",
       "      <td>0.5825605</td>\n",
       "      <td>0.549855</td>\n",
       "      <td>0.58452857</td>\n",
       "    </tr>\n",
       "    <tr>\n",
       "      <th>16</th>\n",
       "      <td>recall</td>\n",
       "      <td>0.96282893</td>\n",
       "      <td>0.013007303</td>\n",
       "      <td>0.9674593</td>\n",
       "      <td>0.98254365</td>\n",
       "      <td>0.9328859</td>\n",
       "      <td>0.9792208</td>\n",
       "      <td>0.9520349</td>\n",
       "    </tr>\n",
       "    <tr>\n",
       "      <th>17</th>\n",
       "      <td>rmse</td>\n",
       "      <td>0.2686327</td>\n",
       "      <td>0.005181835</td>\n",
       "      <td>0.27904716</td>\n",
       "      <td>0.25696978</td>\n",
       "      <td>0.26615095</td>\n",
       "      <td>0.26816192</td>\n",
       "      <td>0.27283376</td>\n",
       "    </tr>\n",
       "    <tr>\n",
       "      <th>18</th>\n",
       "      <td>specificity</td>\n",
       "      <td>0.6927804</td>\n",
       "      <td>0.07075259</td>\n",
       "      <td>0.63589746</td>\n",
       "      <td>0.61403507</td>\n",
       "      <td>0.83495146</td>\n",
       "      <td>0.5885417</td>\n",
       "      <td>0.7904762</td>\n",
       "    </tr>\n",
       "  </tbody>\n",
       "</table>\n",
       "</div>"
      ],
      "text/plain": [
       "                                   mean            sd   cv_1_valid  \\\n",
       "0                  accuracy  0.90947354   0.004627987    0.9024145   \n",
       "1                       auc   0.9359058  0.0047616195    0.9282244   \n",
       "2                       err  0.09052645   0.004627987  0.097585514   \n",
       "3                 err_count        86.6      5.667451         97.0   \n",
       "4                  f0point5    0.933622   0.007466399    0.9257485   \n",
       "5                        f1   0.9441771  0.0028299629   0.94096166   \n",
       "6                        f2   0.9552029   0.008132163   0.95668316   \n",
       "7            lift_top_group    1.257673   0.022017712     1.244055   \n",
       "8                   logloss  0.24672207   0.007920911   0.26090723   \n",
       "9       max_per_class_error  0.30721962    0.07075259   0.36410257   \n",
       "10                      mcc   0.7065559   0.027255408    0.6693419   \n",
       "11  mean_per_class_accuracy   0.8278046   0.029188637   0.80167836   \n",
       "12     mean_per_class_error  0.17219536   0.029188637   0.19832163   \n",
       "13                      mse  0.07221724  0.0027766188  0.077867314   \n",
       "14                precision   0.9268338   0.011894462    0.9158768   \n",
       "15                       r2  0.55346036   0.020358626   0.50620514   \n",
       "16                   recall  0.96282893   0.013007303    0.9674593   \n",
       "17                     rmse   0.2686327   0.005181835   0.27904716   \n",
       "18              specificity   0.6927804    0.07075259   0.63589746   \n",
       "\n",
       "     cv_2_valid  cv_3_valid   cv_4_valid  cv_5_valid  \n",
       "0    0.91778004  0.91167194    0.9012474   0.9142539  \n",
       "1     0.9382064  0.94657916    0.9291058  0.93741345  \n",
       "2   0.082219936  0.08832808  0.098752595   0.0857461  \n",
       "3          80.0        84.0         95.0        77.0  \n",
       "4      0.934092   0.9491942   0.91906387   0.9400115  \n",
       "5     0.9516908  0.94301224    0.9407361   0.9444845  \n",
       "6     0.9699655   0.9369102   0.96345514   0.9490003  \n",
       "7     1.2132169   1.2765101    1.2493507   1.3052325  \n",
       "8    0.22895424  0.24128795   0.24674089  0.25572005  \n",
       "9     0.3859649  0.16504854   0.41145834  0.20952381  \n",
       "10    0.6930277    0.747723    0.6659556   0.7567313  \n",
       "11   0.79828936   0.8839187   0.78388125   0.8712555  \n",
       "12   0.20171064  0.11608132   0.21611878  0.12874447  \n",
       "13   0.06603347  0.07083633   0.07191082  0.07443827  \n",
       "14    0.9227166   0.9533608   0.90516204   0.9370529  \n",
       "15    0.5441528   0.5825605     0.549855  0.58452857  \n",
       "16   0.98254365   0.9328859    0.9792208   0.9520349  \n",
       "17   0.25696978  0.26615095   0.26816192  0.27283376  \n",
       "18   0.61403507  0.83495146    0.5885417   0.7904762  "
      ]
     },
     "execution_count": 91,
     "metadata": {},
     "output_type": "execute_result"
    }
   ],
   "source": [
    "# Đánh giá qua chất lượng của mô hình trên bộ dữ liệu train: \n",
    "cv_summary = cv_gbm.cross_validation_metrics_summary().as_data_frame()\n",
    "cv_summary"
   ]
  },
  {
   "cell_type": "code",
   "execution_count": 92,
   "metadata": {
    "collapsed": true
   },
   "outputs": [],
   "source": [
    "# Sử dụng dữ liệu test để đánh giá mô hình: \n",
    "perf_cv_test = cv_gbm.model_performance(test)"
   ]
  },
  {
   "cell_type": "code",
   "execution_count": 93,
   "metadata": {},
   "outputs": [
    {
     "data": {
      "text/plain": [
       "0.9203554508068589"
      ]
     },
     "execution_count": 93,
     "metadata": {},
     "output_type": "execute_result"
    }
   ],
   "source": [
    "# AUC trên bộ dữ liệu test: \n",
    "perf_cv_test.auc()"
   ]
  },
  {
   "cell_type": "code",
   "execution_count": 94,
   "metadata": {},
   "outputs": [
    {
     "data": {
      "text/plain": [
       "0.8407109016137178"
      ]
     },
     "execution_count": 94,
     "metadata": {},
     "output_type": "execute_result"
    }
   ],
   "source": [
    "# Tiêu chuẩn Gini: \n",
    "perf_cv_test.gini()"
   ]
  },
  {
   "cell_type": "code",
   "execution_count": 95,
   "metadata": {},
   "outputs": [
    {
     "name": "stdout",
     "output_type": "stream",
     "text": [
      "Confusion Matrix (Act/Pred) for max f1 @ threshold = 0.38106942749501777: \n"
     ]
    },
    {
     "data": {
      "text/html": [
       "<div style=\"overflow:auto\"><table style=\"width:50%\"><tr><td><b></b></td>\n",
       "<td><b>B</b></td>\n",
       "<td><b>G</b></td>\n",
       "<td><b>Error</b></td>\n",
       "<td><b>Rate</b></td></tr>\n",
       "<tr><td>B</td>\n",
       "<td>116.0</td>\n",
       "<td>99.0</td>\n",
       "<td>0.4605</td>\n",
       "<td> (99.0/215.0)</td></tr>\n",
       "<tr><td>G</td>\n",
       "<td>13.0</td>\n",
       "<td>954.0</td>\n",
       "<td>0.0134</td>\n",
       "<td> (13.0/967.0)</td></tr>\n",
       "<tr><td>Total</td>\n",
       "<td>129.0</td>\n",
       "<td>1053.0</td>\n",
       "<td>0.0948</td>\n",
       "<td> (112.0/1182.0)</td></tr></table></div>"
      ],
      "text/plain": [
       "       B    G     Error    Rate\n",
       "-----  ---  ----  -------  --------------\n",
       "B      116  99    0.4605   (99.0/215.0)\n",
       "G      13   954   0.0134   (13.0/967.0)\n",
       "Total  129  1053  0.0948   (112.0/1182.0)"
      ]
     },
     "metadata": {},
     "output_type": "display_data"
    },
    {
     "data": {
      "text/plain": []
     },
     "execution_count": 95,
     "metadata": {},
     "output_type": "execute_result"
    }
   ],
   "source": [
    "# Ma trận nhầm lẫn: \n",
    "perf_cv_test.confusion_matrix()"
   ]
  },
  {
   "cell_type": "code",
   "execution_count": 96,
   "metadata": {},
   "outputs": [
    {
     "data": {
      "text/plain": [
       "0.9052"
      ]
     },
     "execution_count": 96,
     "metadata": {},
     "output_type": "execute_result"
    }
   ],
   "source": [
    "# Accuracy khi áp dụng  mô hình trên bộ dữ liệu test: \n",
    "1 - 0.0948"
   ]
  },
  {
   "cell_type": "markdown",
   "metadata": {},
   "source": [
    "#### GBM tinh chỉnh"
   ]
  },
  {
   "cell_type": "code",
   "execution_count": 97,
   "metadata": {
    "collapsed": true
   },
   "outputs": [],
   "source": [
    "# Thiết lập các tham số cho GBM: \n",
    "\n",
    "gbm_turned = H2OGradientBoostingEstimator(\n",
    "    \n",
    "  # Số trees càng lớn càng tốt nếu learning rate là đủ nhỏ (nhưng cần  nhiều thời gian tính toán):   \n",
    "  ntrees = 10000,                                                            \n",
    "\n",
    "  # leaning rate càng bé càng tốt nhưng mất nhiều  thời gian hơn để tính toán: \n",
    "  learn_rate = 0.01,                                                         \n",
    "\n",
    "  # Dừng sớm thuật toán nếu validation AUC không cải thiện ở ngưỡi ít nhất 0.01% sau 5 lần thực hiện: \n",
    "  stopping_rounds = 5, stopping_tolerance = 1e-4, stopping_metric = \"AUC\", \n",
    "\n",
    "  # chọn 80% số cột biến đầu vào cho mỗi cây: \n",
    "  sample_rate = 0.8,                                                       \n",
    "\n",
    "  # chọn 80% số cột  cho mỗi lần phân chia: \n",
    "  col_sample_rate = 0.8,\n",
    "  \n",
    "  # Cách thức chọn mẫu đảm bảo rằng tỉ lệ các nhãn hồ sơ được bảo toàn: \n",
    "  fold_assignment = \"Stratified\", \n",
    "    \n",
    "  # tái tạo lại kết quả: \n",
    "  seed = 1234,                                                             \n",
    "  score_tree_interval = 10, \n",
    "  # thực hiện cross validation với k = 5: \n",
    "  nfolds = 5)\n"
   ]
  },
  {
   "cell_type": "code",
   "execution_count": 98,
   "metadata": {},
   "outputs": [
    {
     "name": "stdout",
     "output_type": "stream",
     "text": [
      "gbm Model Build progress: |███████████████████████████████████████████████| 100%\n"
     ]
    }
   ],
   "source": [
    "# Thực hiện huấn luyện mô hình: \n",
    "gbm_turned.train(x = predictors, y = response, training_frame = train)"
   ]
  },
  {
   "cell_type": "code",
   "execution_count": 99,
   "metadata": {
    "collapsed": true
   },
   "outputs": [],
   "source": [
    "# Sử dụng mô hình cho test data: \n",
    "perf_for_test = gbm_turned.model_performance(test)"
   ]
  },
  {
   "cell_type": "code",
   "execution_count": 100,
   "metadata": {},
   "outputs": [
    {
     "name": "stdout",
     "output_type": "stream",
     "text": [
      "Confusion Matrix (Act/Pred) for max f1 @ threshold = 0.4260374958554275: \n"
     ]
    },
    {
     "data": {
      "text/html": [
       "<div style=\"overflow:auto\"><table style=\"width:50%\"><tr><td><b></b></td>\n",
       "<td><b>B</b></td>\n",
       "<td><b>G</b></td>\n",
       "<td><b>Error</b></td>\n",
       "<td><b>Rate</b></td></tr>\n",
       "<tr><td>B</td>\n",
       "<td>145.0</td>\n",
       "<td>70.0</td>\n",
       "<td>0.3256</td>\n",
       "<td> (70.0/215.0)</td></tr>\n",
       "<tr><td>G</td>\n",
       "<td>19.0</td>\n",
       "<td>948.0</td>\n",
       "<td>0.0196</td>\n",
       "<td> (19.0/967.0)</td></tr>\n",
       "<tr><td>Total</td>\n",
       "<td>164.0</td>\n",
       "<td>1018.0</td>\n",
       "<td>0.0753</td>\n",
       "<td> (89.0/1182.0)</td></tr></table></div>"
      ],
      "text/plain": [
       "       B    G     Error    Rate\n",
       "-----  ---  ----  -------  -------------\n",
       "B      145  70    0.3256   (70.0/215.0)\n",
       "G      19   948   0.0196   (19.0/967.0)\n",
       "Total  164  1018  0.0753   (89.0/1182.0)"
      ]
     },
     "metadata": {},
     "output_type": "display_data"
    },
    {
     "data": {
      "text/plain": []
     },
     "execution_count": 100,
     "metadata": {},
     "output_type": "execute_result"
    }
   ],
   "source": [
    "# Ma trận nhầm lẫn: \n",
    "perf_for_test.confusion_matrix()"
   ]
  },
  {
   "cell_type": "code",
   "execution_count": 101,
   "metadata": {},
   "outputs": [
    {
     "data": {
      "text/plain": [
       "0.9620499747480821"
      ]
     },
     "execution_count": 101,
     "metadata": {},
     "output_type": "execute_result"
    }
   ],
   "source": [
    "# Tính AUC: \n",
    "perf_for_test.auc()"
   ]
  },
  {
   "cell_type": "code",
   "execution_count": 102,
   "metadata": {},
   "outputs": [
    {
     "data": {
      "image/png": "[encoded data removed]",
      "text/plain": [
       "<matplotlib.figure.Figure at 0x16de9835320>"
      ]
     },
     "metadata": {},
     "output_type": "display_data"
    }
   ],
   "source": [
    "# Hình  ảnh hóa AUC: \n",
    "perf_for_test.plot()"
   ]
  },
  {
   "cell_type": "code",
   "execution_count": 103,
   "metadata": {},
   "outputs": [
    {
     "data": {
      "text/plain": [
       "0.9240999494961641"
      ]
     },
     "execution_count": 103,
     "metadata": {},
     "output_type": "execute_result"
    }
   ],
   "source": [
    "#  Tiêu chuẩn Gini: \n",
    "perf_for_test.gini()"
   ]
  },
  {
   "cell_type": "code",
   "execution_count": 104,
   "metadata": {},
   "outputs": [
    {
     "data": {
      "text/plain": [
       "0.9247"
      ]
     },
     "execution_count": 104,
     "metadata": {},
     "output_type": "execute_result"
    }
   ],
   "source": [
    "# Accurracy chung trên mẫu thử nghiệm: \n",
    "1 - 0.0753"
   ]
  },
  {
   "cell_type": "markdown",
   "metadata": {},
   "source": [
    "#### Test mô hình  trên 30 mẫu khác nhau"
   ]
  },
  {
   "cell_type": "code",
   "execution_count": 124,
   "metadata": {},
   "outputs": [
    {
     "name": "stderr",
     "output_type": "stream",
     "text": [
      "C:\\Users\\win10ls\\Anaconda3\\lib\\site-packages\\ipykernel_launcher.py:15: DeprecationWarning: \n",
      ".ix is deprecated. Please use\n",
      ".loc for label based indexing or\n",
      ".iloc for positional indexing\n",
      "\n",
      "See the documentation here:\n",
      "http://pandas.pydata.org/pandas-docs/stable/indexing.html#ix-indexer-is-deprecated\n",
      "  from ipykernel import kernelapp as app\n"
     ]
    }
   ],
   "source": [
    "# Lập một vòng lặp để đánh giá chất lượng của mô hình dự báo trên 30 mẫu thử nghiệm. \n",
    "\n",
    "BB = []\n",
    "BG = []\n",
    "GB = []\n",
    "GG = []\n",
    "\n",
    "\n",
    "for i in [1, 2, 3, 4, 5, 6, 7, 8, 9, 10, 11, 12, 13, 14, 15, 16, 17, 18, 19, 20, 21, 22, 23, 24, 25, 26, 27, 28, 29, 30]:\n",
    "    # Phân chia dữ liệu: \n",
    "    train, test = df.split_frame(ratios = [0.5], seed = i)\n",
    "    perf_for_test = gbm_turned.model_performance(test)\n",
    "    u = perf_for_test.confusion_matrix()\n",
    "    v = u.table.as_data_frame()\n",
    "    BB.append(v.ix[0, \"B\"])\n",
    "    BG.append(v.ix[1, \"B\"])\n",
    "    GB.append(v.ix[0, \"G\"])\n",
    "    GG.append(v.ix[1, \"G\"])"
   ]
  },
  {
   "cell_type": "code",
   "execution_count": 106,
   "metadata": {},
   "outputs": [
    {
     "data": {
      "text/html": [
       "<div>\n",
       "<style scoped>\n",
       "    .dataframe tbody tr th:only-of-type {\n",
       "        vertical-align: middle;\n",
       "    }\n",
       "\n",
       "    .dataframe tbody tr th {\n",
       "        vertical-align: top;\n",
       "    }\n",
       "\n",
       "    .dataframe thead th {\n",
       "        text-align: right;\n",
       "    }\n",
       "</style>\n",
       "<table border=\"1\" class=\"dataframe\">\n",
       "  <thead>\n",
       "    <tr style=\"text-align: right;\">\n",
       "      <th></th>\n",
       "      <th>BB</th>\n",
       "      <th>BG</th>\n",
       "      <th>GB</th>\n",
       "      <th>GG</th>\n",
       "    </tr>\n",
       "  </thead>\n",
       "  <tbody>\n",
       "    <tr>\n",
       "      <th>0</th>\n",
       "      <td>567.0</td>\n",
       "      <td>26.0</td>\n",
       "      <td>29.0</td>\n",
       "      <td>2356.0</td>\n",
       "    </tr>\n",
       "    <tr>\n",
       "      <th>1</th>\n",
       "      <td>522.0</td>\n",
       "      <td>22.0</td>\n",
       "      <td>45.0</td>\n",
       "      <td>2388.0</td>\n",
       "    </tr>\n",
       "    <tr>\n",
       "      <th>2</th>\n",
       "      <td>526.0</td>\n",
       "      <td>41.0</td>\n",
       "      <td>31.0</td>\n",
       "      <td>2379.0</td>\n",
       "    </tr>\n",
       "    <tr>\n",
       "      <th>3</th>\n",
       "      <td>535.0</td>\n",
       "      <td>26.0</td>\n",
       "      <td>42.0</td>\n",
       "      <td>2373.0</td>\n",
       "    </tr>\n",
       "    <tr>\n",
       "      <th>4</th>\n",
       "      <td>529.0</td>\n",
       "      <td>26.0</td>\n",
       "      <td>50.0</td>\n",
       "      <td>2372.0</td>\n",
       "    </tr>\n",
       "  </tbody>\n",
       "</table>\n",
       "</div>"
      ],
      "text/plain": [
       "      BB    BG    GB      GG\n",
       "0  567.0  26.0  29.0  2356.0\n",
       "1  522.0  22.0  45.0  2388.0\n",
       "2  526.0  41.0  31.0  2379.0\n",
       "3  535.0  26.0  42.0  2373.0\n",
       "4  529.0  26.0  50.0  2372.0"
      ]
     },
     "execution_count": 106,
     "metadata": {},
     "output_type": "execute_result"
    }
   ],
   "source": [
    "# Chuyển hóa về Series của pandas:     \n",
    "BB = pd.Series(BB)\n",
    "BG = pd.Series(BG)\n",
    "GB = pd.Series(GB)\n",
    "GG = pd.Series(GG)\n",
    "\n",
    "\n",
    "# Tạo DF lưu lại kết quả: \n",
    "ket_qua = pd.DataFrame({\"BB\": BB, \n",
    "                        \"BG\": BG,\n",
    "                        \"GB\": GB, \n",
    "                        \"GG\": GG}, \n",
    "                       columns = [\"BB\", \"BG\", \"GB\", \"GG\"])\n",
    "# Xem qua một số kết quả: \n",
    "ket_qua.head()"
   ]
  },
  {
   "cell_type": "code",
   "execution_count": 107,
   "metadata": {},
   "outputs": [
    {
     "data": {
      "text/html": [
       "<div>\n",
       "<style scoped>\n",
       "    .dataframe tbody tr th:only-of-type {\n",
       "        vertical-align: middle;\n",
       "    }\n",
       "\n",
       "    .dataframe tbody tr th {\n",
       "        vertical-align: top;\n",
       "    }\n",
       "\n",
       "    .dataframe thead th {\n",
       "        text-align: right;\n",
       "    }\n",
       "</style>\n",
       "<table border=\"1\" class=\"dataframe\">\n",
       "  <thead>\n",
       "    <tr style=\"text-align: right;\">\n",
       "      <th></th>\n",
       "      <th>BB</th>\n",
       "      <th>BG</th>\n",
       "      <th>GB</th>\n",
       "      <th>GG</th>\n",
       "    </tr>\n",
       "  </thead>\n",
       "  <tbody>\n",
       "    <tr>\n",
       "      <th>count</th>\n",
       "      <td>30.000000</td>\n",
       "      <td>30.000000</td>\n",
       "      <td>30.000000</td>\n",
       "      <td>30.000000</td>\n",
       "    </tr>\n",
       "    <tr>\n",
       "      <th>mean</th>\n",
       "      <td>545.666667</td>\n",
       "      <td>31.233333</td>\n",
       "      <td>39.966667</td>\n",
       "      <td>2359.266667</td>\n",
       "    </tr>\n",
       "    <tr>\n",
       "      <th>std</th>\n",
       "      <td>20.266047</td>\n",
       "      <td>8.919886</td>\n",
       "      <td>9.267977</td>\n",
       "      <td>18.573124</td>\n",
       "    </tr>\n",
       "    <tr>\n",
       "      <th>min</th>\n",
       "      <td>510.000000</td>\n",
       "      <td>18.000000</td>\n",
       "      <td>26.000000</td>\n",
       "      <td>2313.000000</td>\n",
       "    </tr>\n",
       "    <tr>\n",
       "      <th>25%</th>\n",
       "      <td>528.250000</td>\n",
       "      <td>26.000000</td>\n",
       "      <td>31.500000</td>\n",
       "      <td>2347.500000</td>\n",
       "    </tr>\n",
       "    <tr>\n",
       "      <th>50%</th>\n",
       "      <td>546.000000</td>\n",
       "      <td>27.500000</td>\n",
       "      <td>41.000000</td>\n",
       "      <td>2361.000000</td>\n",
       "    </tr>\n",
       "    <tr>\n",
       "      <th>75%</th>\n",
       "      <td>562.750000</td>\n",
       "      <td>36.750000</td>\n",
       "      <td>46.000000</td>\n",
       "      <td>2372.000000</td>\n",
       "    </tr>\n",
       "    <tr>\n",
       "      <th>max</th>\n",
       "      <td>594.000000</td>\n",
       "      <td>58.000000</td>\n",
       "      <td>62.000000</td>\n",
       "      <td>2394.000000</td>\n",
       "    </tr>\n",
       "  </tbody>\n",
       "</table>\n",
       "</div>"
      ],
      "text/plain": [
       "               BB         BG         GB           GG\n",
       "count   30.000000  30.000000  30.000000    30.000000\n",
       "mean   545.666667  31.233333  39.966667  2359.266667\n",
       "std     20.266047   8.919886   9.267977    18.573124\n",
       "min    510.000000  18.000000  26.000000  2313.000000\n",
       "25%    528.250000  26.000000  31.500000  2347.500000\n",
       "50%    546.000000  27.500000  41.000000  2361.000000\n",
       "75%    562.750000  36.750000  46.000000  2372.000000\n",
       "max    594.000000  58.000000  62.000000  2394.000000"
      ]
     },
     "execution_count": 107,
     "metadata": {},
     "output_type": "execute_result"
    }
   ],
   "source": [
    "# Các thống kê chủ yếu: \n",
    "ket_qua.describe()"
   ]
  },
  {
   "cell_type": "code",
   "execution_count": 108,
   "metadata": {},
   "outputs": [
    {
     "data": {
      "text/plain": [
       "count    30.000000\n",
       "mean      0.976076\n",
       "std       0.002876\n",
       "min       0.964046\n",
       "25%       0.975223\n",
       "50%       0.976314\n",
       "75%       0.977408\n",
       "max       0.981531\n",
       "dtype: float64"
      ]
     },
     "execution_count": 108,
     "metadata": {},
     "output_type": "execute_result"
    }
   ],
   "source": [
    "# Tính accuracy trung bình trên 30 lần chạy mô hình: \n",
    "Accuracy = (ket_qua[\"BB\"] + ket_qua[\"GG\"]) / (ket_qua[\"BB\"] + ket_qua[\"GG\"] + ket_qua[\"BG\"] + ket_qua[\"GB\"])\n",
    "Accuracy.describe()"
   ]
  },
  {
   "cell_type": "code",
   "execution_count": 131,
   "metadata": {},
   "outputs": [
    {
     "data": {
      "application/javascript": [
       "/* Put everything inside the global mpl namespace */\n",
       "window.mpl = {};\n",
       "\n",
       "\n",
       "mpl.get_websocket_type = function() {\n",
       "    if (typeof(WebSocket) !== 'undefined') {\n",
       "        return WebSocket;\n",
       "    } else if (typeof(MozWebSocket) !== 'undefined') {\n",
       "        return MozWebSocket;\n",
       "    } else {\n",
       "        alert('Your browser does not have WebSocket support.' +\n",
       "              'Please try Chrome, Safari or Firefox ≥ 6. ' +\n",
       "              'Firefox 4 and 5 are also supported but you ' +\n",
       "              'have to enable WebSockets in about:config.');\n",
       "    };\n",
       "}\n",
       "\n",
       "mpl.figure = function(figure_id, websocket, ondownload, parent_element) {\n",
       "    this.id = figure_id;\n",
       "\n",
       "    this.ws = websocket;\n",
       "\n",
       "    this.supports_binary = (this.ws.binaryType != undefined);\n",
       "\n",
       "    if (!this.supports_binary) {\n",
       "        var warnings = document.getElementById(\"mpl-warnings\");\n",
       "        if (warnings) {\n",
       "            warnings.style.display = 'block';\n",
       "            warnings.textContent = (\n",
       "                \"This browser does not support binary websocket messages. \" +\n",
       "                    \"Performance may be slow.\");\n",
       "        }\n",
       "    }\n",
       "\n",
       "    this.imageObj = new Image();\n",
       "\n",
       "    this.context = undefined;\n",
       "    this.message = undefined;\n",
       "    this.canvas = undefined;\n",
       "    this.rubberband_canvas = undefined;\n",
       "    this.rubberband_context = undefined;\n",
       "    this.format_dropdown = undefined;\n",
       "\n",
       "    this.image_mode = 'full';\n",
       "\n",
       "    this.root = $('<div/>');\n",
       "    this._root_extra_style(this.root)\n",
       "    this.root.attr('style', 'display: inline-block');\n",
       "\n",
       "    $(parent_element).append(this.root);\n",
       "\n",
       "    this._init_header(this);\n",
       "    this._init_canvas(this);\n",
       "    this._init_toolbar(this);\n",
       "\n",
       "    var fig = this;\n",
       "\n",
       "    this.waiting = false;\n",
       "\n",
       "    this.ws.onopen =  function () {\n",
       "            fig.send_message(\"supports_binary\", {value: fig.supports_binary});\n",
       "            fig.send_message(\"send_image_mode\", {});\n",
       "            if (mpl.ratio != 1) {\n",
       "                fig.send_message(\"set_dpi_ratio\", {'dpi_ratio': mpl.ratio});\n",
       "            }\n",
       "            fig.send_message(\"refresh\", {});\n",
       "        }\n",
       "\n",
       "    this.imageObj.onload = function() {\n",
       "            if (fig.image_mode == 'full') {\n",
       "                // Full images could contain transparency (where diff images\n",
       "                // almost always do), so we need to clear the canvas so that\n",
       "                // there is no ghosting.\n",
       "                fig.context.clearRect(0, 0, fig.canvas.width, fig.canvas.height);\n",
       "            }\n",
       "            fig.context.drawImage(fig.imageObj, 0, 0);\n",
       "        };\n",
       "\n",
       "    this.imageObj.onunload = function() {\n",
       "        fig.ws.close();\n",
       "    }\n",
       "\n",
       "    this.ws.onmessage = this._make_on_message_function(this);\n",
       "\n",
       "    this.ondownload = ondownload;\n",
       "}\n",
       "\n",
       "mpl.figure.prototype._init_header = function() {\n",
       "    var titlebar = $(\n",
       "        '<div class=\"ui-dialog-titlebar ui-widget-header ui-corner-all ' +\n",
       "        'ui-helper-clearfix\"/>');\n",
       "    var titletext = $(\n",
       "        '<div class=\"ui-dialog-title\" style=\"width: 100%; ' +\n",
       "        'text-align: center; padding: 3px;\"/>');\n",
       "    titlebar.append(titletext)\n",
       "    this.root.append(titlebar);\n",
       "    this.header = titletext[0];\n",
       "}\n",
       "\n",
       "\n",
       "\n",
       "mpl.figure.prototype._canvas_extra_style = function(canvas_div) {\n",
       "\n",
       "}\n",
       "\n",
       "\n",
       "mpl.figure.prototype._root_extra_style = function(canvas_div) {\n",
       "\n",
       "}\n",
       "\n",
       "mpl.figure.prototype._init_canvas = function() {\n",
       "    var fig = this;\n",
       "\n",
       "    var canvas_div = $('<div/>');\n",
       "\n",
       "    canvas_div.attr('style', 'position: relative; clear: both; outline: 0');\n",
       "\n",
       "    function canvas_keyboard_event(event) {\n",
       "        return fig.key_event(event, event['data']);\n",
       "    }\n",
       "\n",
       "    canvas_div.keydown('key_press', canvas_keyboard_event);\n",
       "    canvas_div.keyup('key_release', canvas_keyboard_event);\n",
       "    this.canvas_div = canvas_div\n",
       "    this._canvas_extra_style(canvas_div)\n",
       "    this.root.append(canvas_div);\n",
       "\n",
       "    var canvas = $('<canvas/>');\n",
       "    canvas.addClass('mpl-canvas');\n",
       "    canvas.attr('style', \"left: 0; top: 0; z-index: 0; outline: 0\")\n",
       "\n",
       "    this.canvas = canvas[0];\n",
       "    this.context = canvas[0].getContext(\"2d\");\n",
       "\n",
       "    var backingStore = this.context.backingStorePixelRatio ||\n",
       "\tthis.context.webkitBackingStorePixelRatio ||\n",
       "\tthis.context.mozBackingStorePixelRatio ||\n",
       "\tthis.context.msBackingStorePixelRatio ||\n",
       "\tthis.context.oBackingStorePixelRatio ||\n",
       "\tthis.context.backingStorePixelRatio || 1;\n",
       "\n",
       "    mpl.ratio = (window.devicePixelRatio || 1) / backingStore;\n",
       "\n",
       "    var rubberband = $('<canvas/>');\n",
       "    rubberband.attr('style', \"position: absolute; left: 0; top: 0; z-index: 1;\")\n",
       "\n",
       "    var pass_mouse_events = true;\n",
       "\n",
       "    canvas_div.resizable({\n",
       "        start: function(event, ui) {\n",
       "            pass_mouse_events = false;\n",
       "        },\n",
       "        resize: function(event, ui) {\n",
       "            fig.request_resize(ui.size.width, ui.size.height);\n",
       "        },\n",
       "        stop: function(event, ui) {\n",
       "            pass_mouse_events = true;\n",
       "            fig.request_resize(ui.size.width, ui.size.height);\n",
       "        },\n",
       "    });\n",
       "\n",
       "    function mouse_event_fn(event) {\n",
       "        if (pass_mouse_events)\n",
       "            return fig.mouse_event(event, event['data']);\n",
       "    }\n",
       "\n",
       "    rubberband.mousedown('button_press', mouse_event_fn);\n",
       "    rubberband.mouseup('button_release', mouse_event_fn);\n",
       "    // Throttle sequential mouse events to 1 every 20ms.\n",
       "    rubberband.mousemove('motion_notify', mouse_event_fn);\n",
       "\n",
       "    rubberband.mouseenter('figure_enter', mouse_event_fn);\n",
       "    rubberband.mouseleave('figure_leave', mouse_event_fn);\n",
       "\n",
       "    canvas_div.on(\"wheel\", function (event) {\n",
       "        event = event.originalEvent;\n",
       "        event['data'] = 'scroll'\n",
       "        if (event.deltaY < 0) {\n",
       "            event.step = 1;\n",
       "        } else {\n",
       "            event.step = -1;\n",
       "        }\n",
       "        mouse_event_fn(event);\n",
       "    });\n",
       "\n",
       "    canvas_div.append(canvas);\n",
       "    canvas_div.append(rubberband);\n",
       "\n",
       "    this.rubberband = rubberband;\n",
       "    this.rubberband_canvas = rubberband[0];\n",
       "    this.rubberband_context = rubberband[0].getContext(\"2d\");\n",
       "    this.rubberband_context.strokeStyle = \"#000000\";\n",
       "\n",
       "    this._resize_canvas = function(width, height) {\n",
       "        // Keep the size of the canvas, canvas container, and rubber band\n",
       "        // canvas in synch.\n",
       "        canvas_div.css('width', width)\n",
       "        canvas_div.css('height', height)\n",
       "\n",
       "        canvas.attr('width', width * mpl.ratio);\n",
       "        canvas.attr('height', height * mpl.ratio);\n",
       "        canvas.attr('style', 'width: ' + width + 'px; height: ' + height + 'px;');\n",
       "\n",
       "        rubberband.attr('width', width);\n",
       "        rubberband.attr('height', height);\n",
       "    }\n",
       "\n",
       "    // Set the figure to an initial 600x600px, this will subsequently be updated\n",
       "    // upon first draw.\n",
       "    this._resize_canvas(600, 600);\n",
       "\n",
       "    // Disable right mouse context menu.\n",
       "    $(this.rubberband_canvas).bind(\"contextmenu\",function(e){\n",
       "        return false;\n",
       "    });\n",
       "\n",
       "    function set_focus () {\n",
       "        canvas.focus();\n",
       "        canvas_div.focus();\n",
       "    }\n",
       "\n",
       "    window.setTimeout(set_focus, 100);\n",
       "}\n",
       "\n",
       "mpl.figure.prototype._init_toolbar = function() {\n",
       "    var fig = this;\n",
       "\n",
       "    var nav_element = $('<div/>')\n",
       "    nav_element.attr('style', 'width: 100%');\n",
       "    this.root.append(nav_element);\n",
       "\n",
       "    // Define a callback function for later on.\n",
       "    function toolbar_event(event) {\n",
       "        return fig.toolbar_button_onclick(event['data']);\n",
       "    }\n",
       "    function toolbar_mouse_event(event) {\n",
       "        return fig.toolbar_button_onmouseover(event['data']);\n",
       "    }\n",
       "\n",
       "    for(var toolbar_ind in mpl.toolbar_items) {\n",
       "        var name = mpl.toolbar_items[toolbar_ind][0];\n",
       "        var tooltip = mpl.toolbar_items[toolbar_ind][1];\n",
       "        var image = mpl.toolbar_items[toolbar_ind][2];\n",
       "        var method_name = mpl.toolbar_items[toolbar_ind][3];\n",
       "\n",
       "        if (!name) {\n",
       "            // put a spacer in here.\n",
       "            continue;\n",
       "        }\n",
       "        var button = $('<button/>');\n",
       "        button.addClass('ui-button ui-widget ui-state-default ui-corner-all ' +\n",
       "                        'ui-button-icon-only');\n",
       "        button.attr('role', 'button');\n",
       "        button.attr('aria-disabled', 'false');\n",
       "        button.click(method_name, toolbar_event);\n",
       "        button.mouseover(tooltip, toolbar_mouse_event);\n",
       "\n",
       "        var icon_img = $('<span/>');\n",
       "        icon_img.addClass('ui-button-icon-primary ui-icon');\n",
       "        icon_img.addClass(image);\n",
       "        icon_img.addClass('ui-corner-all');\n",
       "\n",
       "        var tooltip_span = $('<span/>');\n",
       "        tooltip_span.addClass('ui-button-text');\n",
       "        tooltip_span.html(tooltip);\n",
       "\n",
       "        button.append(icon_img);\n",
       "        button.append(tooltip_span);\n",
       "\n",
       "        nav_element.append(button);\n",
       "    }\n",
       "\n",
       "    var fmt_picker_span = $('<span/>');\n",
       "\n",
       "    var fmt_picker = $('<select/>');\n",
       "    fmt_picker.addClass('mpl-toolbar-option ui-widget ui-widget-content');\n",
       "    fmt_picker_span.append(fmt_picker);\n",
       "    nav_element.append(fmt_picker_span);\n",
       "    this.format_dropdown = fmt_picker[0];\n",
       "\n",
       "    for (var ind in mpl.extensions) {\n",
       "        var fmt = mpl.extensions[ind];\n",
       "        var option = $(\n",
       "            '<option/>', {selected: fmt === mpl.default_extension}).html(fmt);\n",
       "        fmt_picker.append(option)\n",
       "    }\n",
       "\n",
       "    // Add hover states to the ui-buttons\n",
       "    $( \".ui-button\" ).hover(\n",
       "        function() { $(this).addClass(\"ui-state-hover\");},\n",
       "        function() { $(this).removeClass(\"ui-state-hover\");}\n",
       "    );\n",
       "\n",
       "    var status_bar = $('<span class=\"mpl-message\"/>');\n",
       "    nav_element.append(status_bar);\n",
       "    this.message = status_bar[0];\n",
       "}\n",
       "\n",
       "mpl.figure.prototype.request_resize = function(x_pixels, y_pixels) {\n",
       "    // Request matplotlib to resize the figure. Matplotlib will then trigger a resize in the client,\n",
       "    // which will in turn request a refresh of the image.\n",
       "    this.send_message('resize', {'width': x_pixels, 'height': y_pixels});\n",
       "}\n",
       "\n",
       "mpl.figure.prototype.send_message = function(type, properties) {\n",
       "    properties['type'] = type;\n",
       "    properties['figure_id'] = this.id;\n",
       "    this.ws.send(JSON.stringify(properties));\n",
       "}\n",
       "\n",
       "mpl.figure.prototype.send_draw_message = function() {\n",
       "    if (!this.waiting) {\n",
       "        this.waiting = true;\n",
       "        this.ws.send(JSON.stringify({type: \"draw\", figure_id: this.id}));\n",
       "    }\n",
       "}\n",
       "\n",
       "\n",
       "mpl.figure.prototype.handle_save = function(fig, msg) {\n",
       "    var format_dropdown = fig.format_dropdown;\n",
       "    var format = format_dropdown.options[format_dropdown.selectedIndex].value;\n",
       "    fig.ondownload(fig, format);\n",
       "}\n",
       "\n",
       "\n",
       "mpl.figure.prototype.handle_resize = function(fig, msg) {\n",
       "    var size = msg['size'];\n",
       "    if (size[0] != fig.canvas.width || size[1] != fig.canvas.height) {\n",
       "        fig._resize_canvas(size[0], size[1]);\n",
       "        fig.send_message(\"refresh\", {});\n",
       "    };\n",
       "}\n",
       "\n",
       "mpl.figure.prototype.handle_rubberband = function(fig, msg) {\n",
       "    var x0 = msg['x0'] / mpl.ratio;\n",
       "    var y0 = (fig.canvas.height - msg['y0']) / mpl.ratio;\n",
       "    var x1 = msg['x1'] / mpl.ratio;\n",
       "    var y1 = (fig.canvas.height - msg['y1']) / mpl.ratio;\n",
       "    x0 = Math.floor(x0) + 0.5;\n",
       "    y0 = Math.floor(y0) + 0.5;\n",
       "    x1 = Math.floor(x1) + 0.5;\n",
       "    y1 = Math.floor(y1) + 0.5;\n",
       "    var min_x = Math.min(x0, x1);\n",
       "    var min_y = Math.min(y0, y1);\n",
       "    var width = Math.abs(x1 - x0);\n",
       "    var height = Math.abs(y1 - y0);\n",
       "\n",
       "    fig.rubberband_context.clearRect(\n",
       "        0, 0, fig.canvas.width, fig.canvas.height);\n",
       "\n",
       "    fig.rubberband_context.strokeRect(min_x, min_y, width, height);\n",
       "}\n",
       "\n",
       "mpl.figure.prototype.handle_figure_label = function(fig, msg) {\n",
       "    // Updates the figure title.\n",
       "    fig.header.textContent = msg['label'];\n",
       "}\n",
       "\n",
       "mpl.figure.prototype.handle_cursor = function(fig, msg) {\n",
       "    var cursor = msg['cursor'];\n",
       "    switch(cursor)\n",
       "    {\n",
       "    case 0:\n",
       "        cursor = 'pointer';\n",
       "        break;\n",
       "    case 1:\n",
       "        cursor = 'default';\n",
       "        break;\n",
       "    case 2:\n",
       "        cursor = 'crosshair';\n",
       "        break;\n",
       "    case 3:\n",
       "        cursor = 'move';\n",
       "        break;\n",
       "    }\n",
       "    fig.rubberband_canvas.style.cursor = cursor;\n",
       "}\n",
       "\n",
       "mpl.figure.prototype.handle_message = function(fig, msg) {\n",
       "    fig.message.textContent = msg['message'];\n",
       "}\n",
       "\n",
       "mpl.figure.prototype.handle_draw = function(fig, msg) {\n",
       "    // Request the server to send over a new figure.\n",
       "    fig.send_draw_message();\n",
       "}\n",
       "\n",
       "mpl.figure.prototype.handle_image_mode = function(fig, msg) {\n",
       "    fig.image_mode = msg['mode'];\n",
       "}\n",
       "\n",
       "mpl.figure.prototype.updated_canvas_event = function() {\n",
       "    // Called whenever the canvas gets updated.\n",
       "    this.send_message(\"ack\", {});\n",
       "}\n",
       "\n",
       "// A function to construct a web socket function for onmessage handling.\n",
       "// Called in the figure constructor.\n",
       "mpl.figure.prototype._make_on_message_function = function(fig) {\n",
       "    return function socket_on_message(evt) {\n",
       "        if (evt.data instanceof Blob) {\n",
       "            /* FIXME: We get \"Resource interpreted as Image but\n",
       "             * transferred with MIME type text/plain:\" errors on\n",
       "             * Chrome.  But how to set the MIME type?  It doesn't seem\n",
       "             * to be part of the websocket stream */\n",
       "            evt.data.type = \"image/png\";\n",
       "\n",
       "            /* Free the memory for the previous frames */\n",
       "            if (fig.imageObj.src) {\n",
       "                (window.URL || window.webkitURL).revokeObjectURL(\n",
       "                    fig.imageObj.src);\n",
       "            }\n",
       "\n",
       "            fig.imageObj.src = (window.URL || window.webkitURL).createObjectURL(\n",
       "                evt.data);\n",
       "            fig.updated_canvas_event();\n",
       "            fig.waiting = false;\n",
       "            return;\n",
       "        }\n",
       "        else if (typeof evt.data === 'string' && evt.data.slice(0, 21) == \"data:image/png;base64\") {\n",
       "            fig.imageObj.src = evt.data;\n",
       "            fig.updated_canvas_event();\n",
       "            fig.waiting = false;\n",
       "            return;\n",
       "        }\n",
       "\n",
       "        var msg = JSON.parse(evt.data);\n",
       "        var msg_type = msg['type'];\n",
       "\n",
       "        // Call the  \"handle_{type}\" callback, which takes\n",
       "        // the figure and JSON message as its only arguments.\n",
       "        try {\n",
       "            var callback = fig[\"handle_\" + msg_type];\n",
       "        } catch (e) {\n",
       "            console.log(\"No handler for the '\" + msg_type + \"' message type: \", msg);\n",
       "            return;\n",
       "        }\n",
       "\n",
       "        if (callback) {\n",
       "            try {\n",
       "                // console.log(\"Handling '\" + msg_type + \"' message: \", msg);\n",
       "                callback(fig, msg);\n",
       "            } catch (e) {\n",
       "                console.log(\"Exception inside the 'handler_\" + msg_type + \"' callback:\", e, e.stack, msg);\n",
       "            }\n",
       "        }\n",
       "    };\n",
       "}\n",
       "\n",
       "// from http://stackoverflow.com/questions/1114465/getting-mouse-location-in-canvas\n",
       "mpl.findpos = function(e) {\n",
       "    //this section is from http://www.quirksmode.org/js/events_properties.html\n",
       "    var targ;\n",
       "    if (!e)\n",
       "        e = window.event;\n",
       "    if (e.target)\n",
       "        targ = e.target;\n",
       "    else if (e.srcElement)\n",
       "        targ = e.srcElement;\n",
       "    if (targ.nodeType == 3) // defeat Safari bug\n",
       "        targ = targ.parentNode;\n",
       "\n",
       "    // jQuery normalizes the pageX and pageY\n",
       "    // pageX,Y are the mouse positions relative to the document\n",
       "    // offset() returns the position of the element relative to the document\n",
       "    var x = e.pageX - $(targ).offset().left;\n",
       "    var y = e.pageY - $(targ).offset().top;\n",
       "\n",
       "    return {\"x\": x, \"y\": y};\n",
       "};\n",
       "\n",
       "/*\n",
       " * return a copy of an object with only non-object keys\n",
       " * we need this to avoid circular references\n",
       " * http://stackoverflow.com/a/24161582/3208463\n",
       " */\n",
       "function simpleKeys (original) {\n",
       "  return Object.keys(original).reduce(function (obj, key) {\n",
       "    if (typeof original[key] !== 'object')\n",
       "        obj[key] = original[key]\n",
       "    return obj;\n",
       "  }, {});\n",
       "}\n",
       "\n",
       "mpl.figure.prototype.mouse_event = function(event, name) {\n",
       "    var canvas_pos = mpl.findpos(event)\n",
       "\n",
       "    if (name === 'button_press')\n",
       "    {\n",
       "        this.canvas.focus();\n",
       "        this.canvas_div.focus();\n",
       "    }\n",
       "\n",
       "    var x = canvas_pos.x * mpl.ratio;\n",
       "    var y = canvas_pos.y * mpl.ratio;\n",
       "\n",
       "    this.send_message(name, {x: x, y: y, button: event.button,\n",
       "                             step: event.step,\n",
       "                             guiEvent: simpleKeys(event)});\n",
       "\n",
       "    /* This prevents the web browser from automatically changing to\n",
       "     * the text insertion cursor when the button is pressed.  We want\n",
       "     * to control all of the cursor setting manually through the\n",
       "     * 'cursor' event from matplotlib */\n",
       "    event.preventDefault();\n",
       "    return false;\n",
       "}\n",
       "\n",
       "mpl.figure.prototype._key_event_extra = function(event, name) {\n",
       "    // Handle any extra behaviour associated with a key event\n",
       "}\n",
       "\n",
       "mpl.figure.prototype.key_event = function(event, name) {\n",
       "\n",
       "    // Prevent repeat events\n",
       "    if (name == 'key_press')\n",
       "    {\n",
       "        if (event.which === this._key)\n",
       "            return;\n",
       "        else\n",
       "            this._key = event.which;\n",
       "    }\n",
       "    if (name == 'key_release')\n",
       "        this._key = null;\n",
       "\n",
       "    var value = '';\n",
       "    if (event.ctrlKey && event.which != 17)\n",
       "        value += \"ctrl+\";\n",
       "    if (event.altKey && event.which != 18)\n",
       "        value += \"alt+\";\n",
       "    if (event.shiftKey && event.which != 16)\n",
       "        value += \"shift+\";\n",
       "\n",
       "    value += 'k';\n",
       "    value += event.which.toString();\n",
       "\n",
       "    this._key_event_extra(event, name);\n",
       "\n",
       "    this.send_message(name, {key: value,\n",
       "                             guiEvent: simpleKeys(event)});\n",
       "    return false;\n",
       "}\n",
       "\n",
       "mpl.figure.prototype.toolbar_button_onclick = function(name) {\n",
       "    if (name == 'download') {\n",
       "        this.handle_save(this, null);\n",
       "    } else {\n",
       "        this.send_message(\"toolbar_button\", {name: name});\n",
       "    }\n",
       "};\n",
       "\n",
       "mpl.figure.prototype.toolbar_button_onmouseover = function(tooltip) {\n",
       "    this.message.textContent = tooltip;\n",
       "};\n",
       "mpl.toolbar_items = [[\"Home\", \"Reset original view\", \"fa fa-home icon-home\", \"home\"], [\"Back\", \"Back to  previous view\", \"fa fa-arrow-left icon-arrow-left\", \"back\"], [\"Forward\", \"Forward to next view\", \"fa fa-arrow-right icon-arrow-right\", \"forward\"], [\"\", \"\", \"\", \"\"], [\"Pan\", \"Pan axes with left mouse, zoom with right\", \"fa fa-arrows icon-move\", \"pan\"], [\"Zoom\", \"Zoom to rectangle\", \"fa fa-square-o icon-check-empty\", \"zoom\"], [\"\", \"\", \"\", \"\"], [\"Download\", \"Download plot\", \"fa fa-floppy-o icon-save\", \"download\"]];\n",
       "\n",
       "mpl.extensions = [\"eps\", \"jpeg\", \"pdf\", \"png\", \"ps\", \"raw\", \"svg\", \"tif\"];\n",
       "\n",
       "mpl.default_extension = \"png\";var comm_websocket_adapter = function(comm) {\n",
       "    // Create a \"websocket\"-like object which calls the given IPython comm\n",
       "    // object with the appropriate methods. Currently this is a non binary\n",
       "    // socket, so there is still some room for performance tuning.\n",
       "    var ws = {};\n",
       "\n",
       "    ws.close = function() {\n",
       "        comm.close()\n",
       "    };\n",
       "    ws.send = function(m) {\n",
       "        //console.log('sending', m);\n",
       "        comm.send(m);\n",
       "    };\n",
       "    // Register the callback with on_msg.\n",
       "    comm.on_msg(function(msg) {\n",
       "        //console.log('receiving', msg['content']['data'], msg);\n",
       "        // Pass the mpl event to the overriden (by mpl) onmessage function.\n",
       "        ws.onmessage(msg['content']['data'])\n",
       "    });\n",
       "    return ws;\n",
       "}\n",
       "\n",
       "mpl.mpl_figure_comm = function(comm, msg) {\n",
       "    // This is the function which gets called when the mpl process\n",
       "    // starts-up an IPython Comm through the \"matplotlib\" channel.\n",
       "\n",
       "    var id = msg.content.data.id;\n",
       "    // Get hold of the div created by the display call when the Comm\n",
       "    // socket was opened in Python.\n",
       "    var element = $(\"#\" + id);\n",
       "    var ws_proxy = comm_websocket_adapter(comm)\n",
       "\n",
       "    function ondownload(figure, format) {\n",
       "        window.open(figure.imageObj.src);\n",
       "    }\n",
       "\n",
       "    var fig = new mpl.figure(id, ws_proxy,\n",
       "                           ondownload,\n",
       "                           element.get(0));\n",
       "\n",
       "    // Call onopen now - mpl needs it, as it is assuming we've passed it a real\n",
       "    // web socket which is closed, not our websocket->open comm proxy.\n",
       "    ws_proxy.onopen();\n",
       "\n",
       "    fig.parent_element = element.get(0);\n",
       "    fig.cell_info = mpl.find_output_cell(\"<div id='\" + id + \"'></div>\");\n",
       "    if (!fig.cell_info) {\n",
       "        console.error(\"Failed to find cell for figure\", id, fig);\n",
       "        return;\n",
       "    }\n",
       "\n",
       "    var output_index = fig.cell_info[2]\n",
       "    var cell = fig.cell_info[0];\n",
       "\n",
       "};\n",
       "\n",
       "mpl.figure.prototype.handle_close = function(fig, msg) {\n",
       "    var width = fig.canvas.width/mpl.ratio\n",
       "    fig.root.unbind('remove')\n",
       "\n",
       "    // Update the output cell to use the data from the current canvas.\n",
       "    fig.push_to_output();\n",
       "    var dataURL = fig.canvas.toDataURL();\n",
       "    // Re-enable the keyboard manager in IPython - without this line, in FF,\n",
       "    // the notebook keyboard shortcuts fail.\n",
       "    IPython.keyboard_manager.enable()\n",
       "    $(fig.parent_element).html('<img src=\"' + dataURL + '\" width=\"' + width + '\">');\n",
       "    fig.close_ws(fig, msg);\n",
       "}\n",
       "\n",
       "mpl.figure.prototype.close_ws = function(fig, msg){\n",
       "    fig.send_message('closing', msg);\n",
       "    // fig.ws.close()\n",
       "}\n",
       "\n",
       "mpl.figure.prototype.push_to_output = function(remove_interactive) {\n",
       "    // Turn the data on the canvas into data in the output cell.\n",
       "    var width = this.canvas.width/mpl.ratio\n",
       "    var dataURL = this.canvas.toDataURL();\n",
       "    this.cell_info[1]['text/html'] = '<img src=\"' + dataURL + '\" width=\"' + width + '\">';\n",
       "}\n",
       "\n",
       "mpl.figure.prototype.updated_canvas_event = function() {\n",
       "    // Tell IPython that the notebook contents must change.\n",
       "    IPython.notebook.set_dirty(true);\n",
       "    this.send_message(\"ack\", {});\n",
       "    var fig = this;\n",
       "    // Wait a second, then push the new image to the DOM so\n",
       "    // that it is saved nicely (might be nice to debounce this).\n",
       "    setTimeout(function () { fig.push_to_output() }, 1000);\n",
       "}\n",
       "\n",
       "mpl.figure.prototype._init_toolbar = function() {\n",
       "    var fig = this;\n",
       "\n",
       "    var nav_element = $('<div/>')\n",
       "    nav_element.attr('style', 'width: 100%');\n",
       "    this.root.append(nav_element);\n",
       "\n",
       "    // Define a callback function for later on.\n",
       "    function toolbar_event(event) {\n",
       "        return fig.toolbar_button_onclick(event['data']);\n",
       "    }\n",
       "    function toolbar_mouse_event(event) {\n",
       "        return fig.toolbar_button_onmouseover(event['data']);\n",
       "    }\n",
       "\n",
       "    for(var toolbar_ind in mpl.toolbar_items){\n",
       "        var name = mpl.toolbar_items[toolbar_ind][0];\n",
       "        var tooltip = mpl.toolbar_items[toolbar_ind][1];\n",
       "        var image = mpl.toolbar_items[toolbar_ind][2];\n",
       "        var method_name = mpl.toolbar_items[toolbar_ind][3];\n",
       "\n",
       "        if (!name) { continue; };\n",
       "\n",
       "        var button = $('<button class=\"btn btn-default\" href=\"#\" title=\"' + name + '\"><i class=\"fa ' + image + ' fa-lg\"></i></button>');\n",
       "        button.click(method_name, toolbar_event);\n",
       "        button.mouseover(tooltip, toolbar_mouse_event);\n",
       "        nav_element.append(button);\n",
       "    }\n",
       "\n",
       "    // Add the status bar.\n",
       "    var status_bar = $('<span class=\"mpl-message\" style=\"text-align:right; float: right;\"/>');\n",
       "    nav_element.append(status_bar);\n",
       "    this.message = status_bar[0];\n",
       "\n",
       "    // Add the close button to the window.\n",
       "    var buttongrp = $('<div class=\"btn-group inline pull-right\"></div>');\n",
       "    var button = $('<button class=\"btn btn-mini btn-primary\" href=\"#\" title=\"Stop Interaction\"><i class=\"fa fa-power-off icon-remove icon-large\"></i></button>');\n",
       "    button.click(function (evt) { fig.handle_close(fig, {}); } );\n",
       "    button.mouseover('Stop Interaction', toolbar_mouse_event);\n",
       "    buttongrp.append(button);\n",
       "    var titlebar = this.root.find($('.ui-dialog-titlebar'));\n",
       "    titlebar.prepend(buttongrp);\n",
       "}\n",
       "\n",
       "mpl.figure.prototype._root_extra_style = function(el){\n",
       "    var fig = this\n",
       "    el.on(\"remove\", function(){\n",
       "\tfig.close_ws(fig, {});\n",
       "    });\n",
       "}\n",
       "\n",
       "mpl.figure.prototype._canvas_extra_style = function(el){\n",
       "    // this is important to make the div 'focusable\n",
       "    el.attr('tabindex', 0)\n",
       "    // reach out to IPython and tell the keyboard manager to turn it's self\n",
       "    // off when our div gets focus\n",
       "\n",
       "    // location in version 3\n",
       "    if (IPython.notebook.keyboard_manager) {\n",
       "        IPython.notebook.keyboard_manager.register_events(el);\n",
       "    }\n",
       "    else {\n",
       "        // location in version 2\n",
       "        IPython.keyboard_manager.register_events(el);\n",
       "    }\n",
       "\n",
       "}\n",
       "\n",
       "mpl.figure.prototype._key_event_extra = function(event, name) {\n",
       "    var manager = IPython.notebook.keyboard_manager;\n",
       "    if (!manager)\n",
       "        manager = IPython.keyboard_manager;\n",
       "\n",
       "    // Check for shift+enter\n",
       "    if (event.shiftKey && event.which == 13) {\n",
       "        this.canvas_div.blur();\n",
       "        event.shiftKey = false;\n",
       "        // Send a \"J\" for go to next cell\n",
       "        event.which = 74;\n",
       "        event.keyCode = 74;\n",
       "        manager.command_mode();\n",
       "        manager.handle_keydown(event);\n",
       "    }\n",
       "}\n",
       "\n",
       "mpl.figure.prototype.handle_save = function(fig, msg) {\n",
       "    fig.ondownload(fig, null);\n",
       "}\n",
       "\n",
       "\n",
       "mpl.find_output_cell = function(html_output) {\n",
       "    // Return the cell and output element which can be found *uniquely* in the notebook.\n",
       "    // Note - this is a bit hacky, but it is done because the \"notebook_saving.Notebook\"\n",
       "    // IPython event is triggered only after the cells have been serialised, which for\n",
       "    // our purposes (turning an active figure into a static one), is too late.\n",
       "    var cells = IPython.notebook.get_cells();\n",
       "    var ncells = cells.length;\n",
       "    for (var i=0; i<ncells; i++) {\n",
       "        var cell = cells[i];\n",
       "        if (cell.cell_type === 'code'){\n",
       "            for (var j=0; j<cell.output_area.outputs.length; j++) {\n",
       "                var data = cell.output_area.outputs[j];\n",
       "                if (data.data) {\n",
       "                    // IPython >= 3 moved mimebundle to data attribute of output\n",
       "                    data = data.data;\n",
       "                }\n",
       "                if (data['text/html'] == html_output) {\n",
       "                    return [cell, data, j];\n",
       "                }\n",
       "            }\n",
       "        }\n",
       "    }\n",
       "}\n",
       "\n",
       "// Register the function which deals with the matplotlib target/channel.\n",
       "// The kernel may be null if the page has been refreshed.\n",
       "if (IPython.notebook.kernel != null) {\n",
       "    IPython.notebook.kernel.comm_manager.register_target('matplotlib', mpl.mpl_figure_comm);\n",
       "}\n"
      ],
      "text/plain": [
       "<IPython.core.display.Javascript object>"
      ]
     },
     "metadata": {},
     "output_type": "display_data"
    },
    {
     "data": {
      "text/html": [
       "<img src=\"data:image/png;base64,iVBORw0KGgoAAAANSUhEUgAAA00AAAJ5CAYAAAByn9sjAAAAAXNSR0IArs4c6QAAAARnQU1BAACxjwv8YQUAAIqUSURBVHhe7d0HnFxl9f/xJ7130iAhPUBIQguhl0AU6aAiAiI2EBUUG+IPUVGsfws2igWlgwLSEaVDKKFDCAmE9IRAeu/Z//k+9z6zd4fZ2dndmTuT3c/79Trsnd3J7jC7O3vPPec5jwMAAAAAAAAAAAAAAAAAAAAAAAAAAAAAAAAAAAAAAAAAAAAAAAAAAAAAAAAAAAAAAAAAAAAAAAAAAAAAAAAAAAAAAAAAAAAAAAAAAAAAAAAAAAAAAAAAAAAAAAAAAAAAAAAAAAAAAAAAAAAAAAAAAAAAAAAAAAAAAAAAAAAAAAAAAAAAAAAAAAAAAAAAAAAAAAAAAAAAAAAAAAAAAAAAAAAAAAAAAAAAAAAAAAAAAAAAAAAAAAAAAAAAAAAAAAAAAAAAAAAAAAAAAAAAAAAAAAAAAAAAAAAAAAAAAAAAAAAAAAAAAAAAAAAAAAAAAAAAAAAAAAAAAAAAAAAAAAAAAAAAAAAAAAAAAAAAAAAAAAAAAAAAAAAAAAAAAAAAAAAAAAAAAAAAAAAAAAAAAAAAAAAAAAAAAAAAAAAAYDvUIn6LdHSy2M/iXYvNegcAAEAT0caiv8VzFmv1DqCpIGlK1xEWD0eHAAAATdKRFo9Eh0DTQNKUrt0spj700ENu0KBB0XsAAACagDlz5riJEyfqcJTFmzoAmgqSpnQNt3jbuOHDdQgAANA0zJgxw40YMUKH+s8MHQBNRcv4LQAAAAAgB5ImAAAAAMiDpAkAAAAA8iBpAgAAAIA8GASRLgZBAMhr27ZtbvHixW7jxo1u69at8XsBoHxatWrl2rVr53r37u1atqz9ejuDINCUUWkCgAqhhGn+/Plu2bJlPmkCgEqg1yO9Lun1Sa9TQHNEpSldVJoA1Oq9997zJyY77LCDjxYteIkGUH5VVVVuyZIlPnr27On69u0bf6QmKk1oyqg0AUCF0NXc1q1bkzABqCh6PdLrkl6fqIKjuSJpAoAKoTVMOikhYQJQafS6pNcn1lqiuSJpAgAAAIA8SJoAAAAAIA+SJgAAAADIg6QJAJCKz3zmM35dxP/93//F70E+gwcP9s9XiO7du7sPfehD7qmnnorvUT8rVqxwP/zhD91LL70Uv6c4NIL6G9/4huvfv7/fw+ekk06KP1J8Dz30kDviiCNcv379/L5BAwYMcKeeeqp7880343tUmzdvnvv4xz/uunXr5rp27eo+9rGPublz58YfbTr+8Y9/+J8PAKVF0gQAKLl169a522+/3R9ff/317PVSoKOOOso988wzbtKkSe53v/ude+edd9wxxxzjZs+eHd+jcEqaLr300qInTfq+/va3v3Xf/va3/eP85S9/GX+k+JYuXer23ntv98c//tH997//dT/72c/clClT3P77718jIdLPm5KradOmuWuvvdb/zL311ltuwoQJbu3atfG9AKBwJE0AgJLTifWaNWv8Cb82yHzkkUfij1SOLVu2VNxkMI15VkJw4IEHurPOOsuf/K9evdrdcsst8T3Kb+rUqf7tBRdc4A444AA3cuRIf7uh8o20VlXpV7/6la8gHXbYYe7MM890d9xxh1u1apX717/+Fd/Lub/85S9u5syZ7s477/SVrxNPPNHdfffdbs6cOe7qq6+O7wUAhSNpamKmLFjpvn/XFHfGX5/1m9EBQCXQ1X4lAH//+999W9V1110Xf6QmJVNHHnmkb6fq3Lmz22uvvdzNN98cfzRy1VVXuT333NN16NDBb7Sp+7/88sv+Y4899phvVcquxORqYdLtiy++2P3kJz9xgwYN8o9LLV06AT/vvPPcbrvt5jp16uTbzk444QRftcimys/pp5/u+vTp49q3b+83LtfnFJ3c63MuXrzY3w5UZdPX++xnPxu/p3Cqskh2m9k111zjDj30UNe7d2/XpUsXf7/kc6znY8iQIf747LPP9v/vCj0vgZIPJWgdO3b0rYCf+MQnfIKbj1oI1fInrVq18p9T3wN599133ac//Wn/fddzs8cee7gbbrjBfywI3xf9G7XP6fv+kY98JP5oYfT5pU2bNv6tKEHS/0tyI3n9/x900EHurrvuit+Tm5L7888/3+28887++6eNXNUWqUpVoGrafvvt53r06OFDSe39998ffzSi51z/b1deeaX71re+5X9G9L351Kc+5Sth+nwf/vCH/c+5Es1//vOf8b+M6HnVv3/11Vf991Y/7wMHDnS/+c1v4nvUThcAVIXbZZdd/P/DTjvt5CuByYRU97nkkkvcsGHD/PdHz+PBBx/snn766fgeAJJImpqYBSvWu+uemeMmzVjq5i5bF78XwPZs3aYt7vX5Kysi9FjqSyfejz76qPvkJz/pTxyPO+44f4Kuk9MkvU8np7rgo0rBv//9b3+CqepAoGrGl7/8ZX/Cetttt/lkbPz48W7BggXxPepHSZzWyaj1TV9PJ8Cq5GzevNmftOpEWJWJtm3b+pPwRYsWxf/S+UqGvrba537605/6+2q9VrjP5z73Ob/GJ5mYyH/+8x+f9Hzxi1+M31O4kAzqRDdJj0XPr5ISJQWnnHKK+9KXvuQTTFHip+dXvvvd7/rHrDj22GP9+3Q/VW/GjBnjq4K6rZN1VXOyv09Jes60Vk3C51TCphY4/Vv9v+rkXfcbNWqUrwz9+c9/9vdP0vt1gq/7FbLmTRXBTZs2uRkzZrhzzz3X7bjjju60006LP+rcG2+84UaPHh3fqrb77rtnKmO1+frXv+4TmB/84Afuf//7n0969LysXLkyvkf0fTjnnHP8z+Ctt97q/1+VWD/wwAPxParp/3/58uX+e6OfKVUJ9b356Ec/6v+N/p933XVXn3wrCc+m++l3RlWzo48+2n3zm990f/vb36IP1kK/N7oYoKT1vvvucxdeeKF/3nU7+MUvfuHbKr/61a+6Bx980Cfeal/UYwWActMlr6q3337bzglKY+GKdVWDvnOvj3teXRC/F8D2wE58fWR7bd6KzO91uUOPpb4soVDZu2ry5Mn+tp3U+9uWsPjbsm3btqqBAwdW7bvvvv44l7feequqRYsWVXbSGL/ngyw585971qxZ8Xsi+lp6f5Ju28l21YYNG+L35LZly5YqO0GvGjFiRNVvfvOb+L1VVXZiWtW5c+eqhQsXxu/5oLPOOsv/u+T/k50oV40dOza+VbtBgwZV2Yl0lSVwVRs3bqyyRKDq0EMP9Z9v6dKl8b0+SF9L/+bHP/5xja+j50T/z5aQxu+JWJJY1bVr16rPf/7z8XsilpBUtW7duur3v/99/J7cLr744g88t3/4wx/8+x5//PH4PRFLLqr69u1bZUmPvx2+L/m+p7nss88+/t8phg8fXjVt2rT4I5E2bdpUfec734lvVdNjbdWqVXwrN0usqixxim/VTf8ver71/Ol7G4Tn+8gjj4zfEzn++OP9+2+++eb4PVVVixcv9j/bP//5z+P3VFVZ0ubv98tf/jJ+T8QSJ/+7kv0cBk888YS/ff3118fviVjy7t//2muv+duWMFedfPLJ/rhQtb1GBTq/0dewqC7xAU0ElaYmpl/X9m6Hzm39sa4KA0C5qU1MrW6WEPnbulquNrJk+9j06dN9a5ydePqWpFwefvhhX4VSe1mxqBVM7UvZVEFQy5Xa/yxx8JUmOyH0jzNQFUIVAFVxaqOqmP6dKm2iipiu/BdaZbrpppt825keo6okGnpw7733+seVpIqLqgtq39L9FWq9Sj7e2qg6pJZEVWrUshVCLYSWoLknn3wyvmfh7MTdT7ZTW1mSHuN77733gcelNUf1obVdzz77rH9+1NKnFs3slsxcP0f6+amLfk5VHVSFSEMzcq1z0/v1mPW918+Hnm9Vf3I93xrmkaSqkiTfr9Y4hX4HsqkCmKTbul9t1VVV9/TzqgpV8vupVkAJ30/9f6o6qnZS/QyocgegdiRNTYz+SIzeqZs/fn0BSRPQFAzr08ndc97BFRF6LPUxefJkvxZIJ3Ca3qZQ65ZOOLWOJbTeaSqaaO1FbQq5T31pdHU2JSVqb1Ob2Y033uiee+459/zzz/s1ORs2bIjvFT2euh6L2vf22WefTEvaX//6V79+RMlDIZRg6mtrncnll1/u1q9f79f+JNemqH1ObY06YVfLlRIW/RudDOcbqhC8//77/u3EiRMzCVcIjfJesmSJ/3h9LFu2LOdzG96njyflum8+SsLVoqlET8m0noOf//zn8Uedb7PM/hqi1jN9LJ8//OEPvvVObZn63mlNk9Yk6bkXtZsqSdNt3VcTA/V8qx0z+fMRZH89JTSS6/25/r1aWpP0eGThwoX+bTZ9P5UAaT1e8nupFkYJ30+1QaoFUW2bukCgpO0LX/hCzucNAElTkzQ2kTQVclUNQGXr2La1GzOgW0WEHkt9aM2RaH2FThJDKHnQ65MqBhIW8+dbm1TIfZSQSHayEBKubLmqEVpzorUdGmutpEWJz7hx4z7wOfR4CllLpfUrWreitU76/9baI1VHCqGKkr62ptJ97Wtf8+trVG3SyXqgiouqLFqLpHUxOgHWv6mtYpetV69e/q2qKzr5zw59zfrS50yu/wrC+7IrZYU+1lw0tEIDH1RtC1SV07qmbFrPpLVV+WgwgxIwPadK6pUwKWG97LLL/MdVyVFyc8899/iqj743er5LVakJSW2gSp2EJCibnnv9HuT6XiqUGIkSKa1vU2Ks74uGW+hnX0MwAHwQSVMTFCpNqzdscXOWMgwCQHnoJFInYTqJV3tadmhxfWjR0/QwTWJTi1NtF3tUCdFgBQ2JqI0mnsnrr7/u3waqHhVKk81CNSDQiXL2JDm1O+nz5koOkpTI6Kq/3upzNGQARKCF/KqA6QRXj1PC2+Rj1kl9SEiD0IYYKiaBvj+a6qakQyf/2aEBDfWlwQj6f1UVJkntdKoqNeRz1kZJhKqZyeEYGrCgZFIDMgIlQXo8+lih9PN00UUX+URLyaro+VZLnn4WAyU2dU3layi1iibpttowa6tyquVU338Nrsj1/cyVbKl6pYEa2tsq/H8CQDmVfBCEJIdB3P0KwyCA7UVdi6y3N7fffrtfFH7DDTfE76npd7/7nf/4008/7W/feeedVXYiWjVhwoSqW2+9teqhhx6quvzyy2ssjtfAgBYtWlRZ4lFlCUvVfffd5xf333PPPfE9omEDGqKgz6GPn3rqqf62vlaSbuvfZvvzn//sv4YW4j/88MN++EPv3r2r7CTVD3YItNC/V69eVUOGDPHDFR555JGqa6+9tuoLX/hCfI9qF1xwgf96lvDE76mbHvMZZ5wR36qm/299rjCUwk7Yq7p16+aftwceeKDqn//8Z9V+++1XZUlEjf9nDQ7Q47Ukqeqxxx6rev7556uWLFniP3bVVVf5AQl6XjWow5Ja/33TcANLfP19aqPnMPu5Xbt2bZUlRn7ow1//+lf/uDTUQvfT7SAMMSj07+JJJ51U9aMf/cj/rOj51uPW19H///Tp0+N7VVWtWbPG//+PHj3a31f/TxqKoe+VBl/ks//++/vhJfqZ0tfQ/59+Hv74xz/6j2sghwZknHLKKVX/+9///MAFS/r919P3LKht8Eau50v085UcxhEGQQwdOrTqF7/4RdWDDz5Ydc4559T6HCaddtppVd27d/fPlf6d4uqrr6468cQT/YAP0dCKSy65pOrf//63/3n41a9+VdW+ffuqb33rW/7juTAIAkBaUkmaNDlpnx//1ydNP71vavxeAJWuqSVNOinTyey6devi99SkE/a2bdv6E/VAiZKSno4dO/rJdHvttdcHTtr/9Kc/+ZNh/duePXv66WQvv/xy/NGqqnnz5lUdd9xx/mvrpP273/2uP3HV62+SbudKmvQaqhPWAQMG+JNITfRT8qTHlUyaRCegSsr0ONq1a+cnuX3ve9+LP1pt0qRJ/uvpxLVQtSVNosQnOflPJ72aKKfHq8lqevw6sc7+f9YJ8m677eZP+vUxnXAHSjAPP/zwqi5dulR16NDB/7987nOfq3rzzTfje+RWWxLw7rvvVp155pk+UdP3SklLdgJd36RJCbQST31v9RiVrCiRyJ6WKHPmzPHT4fT/o1DCNXv27Pijtbvwwgur9txzTz9RUD+HY8aM8dMAk2677baqUaNGZb7n+rie81IkTa+88krVIYcc4r+3uo+Sm6RcSZMSZF1w0HOux6j/lz322MP/v61cudLfR59HybV+dvW59VxeeumlfhJgbUia0Jw1vIkYDaEXEXtNebvGhnul8Nm/T3aPTl/sDhjay918zv7xewFUMjvJ8m/DJqRoOrR2xJI9v3hfa2aAumhPJ0ti/J5hagesBHW9RqnFUxMXjf5TvcgMaAJY09REjYnXNU1ZyDAIACgXra3SGhQNldCaERImANg+kTQ1UQyDAIDyO/744/3wBo0E/8EPfhC/FwCwvSFpaqLGDugeHzn3Gvs1AUBZaGKbpq1pLxxN0AMKpfY8dYpUSmse0NyRNDVRfbu2czt0jsbLTiFpAgAAABqMpKmJ0kaBY3aKNk98fT5JEwAAANBQJE1N2Ji4RU/DILZtYxgEUOlatWrltmzZwvAWABVHr0t6fdLrFNAckTQ1YWGCnh8GsYxhEECla9eunT8pWbJkCYkTgIqh1yO9Lun1Sa9TQHPEPk3pSm2fJlm0coPb/2cP++Pfn7aXO2GPHf0xgMq0bds2N3/+fLd27Vq/+JsF4AAqgZIlhYaZDBgwwLVsmfuaO/s0oSmj0tSEaRhE7y4MgwC2FzoR0QlJz549uZoLoGLo9UivS/kSJqCpo9KUrlQrTfK5fzzvHpn2vtt/aE93yzkHxO8FAAAoLipNaMq4XNDEhU1u31iwimEQAAAAQAOQNDVxY8MwiI0MgwAAAAAagqSpiRszIEqa5LX5K+IjAAAAAIUiaWri+nZtzzAIAAAAoBFImpqBsF/T6yRNAAAAQL2RNDUDIWmawjAIAAAAoN5ImpqBkDSt2bjFzV661h8DAAAAKAxJUzOQHAZBix4AAABQPyRNzYCGQfRhGAQAAADQIGknTQMtbrPQmfsqi9stdrYoxBAL/VvNzVaP2aMW4yyy7WDxJ4tZFusttCP1Lyy6WGQ7yeIViw0Wsy0utmhlke1gi6ct9Pnetfi1RQeL7UZo0XttPkkTAAAAUB9pJk0dLR6x2NXiLIszLUZaKPnpZJFPL4unLMZafNHiNAslN/q3u1kELSzutjjF4ucWx1hcYXGexXUWSUdZKGmbbHG0xe8tLrH4qUWSvub/LN63OM5C9/mcxT8sthuj46TpjYUMgwAAAADqI82k6WyLoRaq7txpcZfFCRaDLJQI5fMli74Wx1rcaqHESAmRKj+XWgQjLA6wUMXoagslVb+xUGXoRItktUlJlRKxcyzC/ZQwfd2in0Wgzz/fQonYwxZ/tfiaxScs9rbYLoyN1zUxDAIAAAConzSTJiVIz1qoXS5QC90kCyU0+exv8XYcwRqLJyxU/Wmtd5i28Vu1/iWFnjRVokRtgnta3OBvVbveoo2FKk+i449Y/NNis94R0+1NFnU97ooR2vOEYRAAAABA4dJMmna3mBId1vCGxajosFZbLZSkZNtoobVFw/yt6PM/ZvF/FkqKOltoPZIqQ3+2CMmUHotkPx4lcesswuPR521vkX0/rYF6x6Kux10x+iSGQbzOuiYAAACgYGkmTT0tlkeHNSyz6BEd1mqahVrvtLYp0GMfHx36zx2ohU8JzcsWqy2etFAi9RWLINw/1+PR+8LH891Pjzv5dbPpY8OzotChFyURWvSoNAEAAACFSzNpklwTCELLXD5XWeixapiD1kX1t9DgBk3Uk23xW30urTnaz0JrlQ610HqpiRZqqQtfK7yt6/EUer9cvmoRWgpDaE1U2TAMAgAAAKi/NJOmZAUnSVWmXJWcJLXNnWGxj4WqSAst1HZ3uYVoDLhoOIQm62ky318sVGVSW55uf9RC659EVSLJ9Xi6W4SP57ufHnf4eC5K6lQdS8aRFmUT1jVpGMQshkEAAAAABUkzadLapbCWKEnrgqZGh3lpPPhOFrq/EhCtWdKo8nkWcy1kTPz2hfhtEG6Hr6/HItmPZ7CFRqOHx6METeumsu+ndU6qeOV73EqoNPQiGeFxlkVyGASb3AIAAACFSTNp0phwTcFTshEoSTnIQh8rhAZCvGmhBGRHi1MtrrQIFsVvw1qnQO16siB+q+TlVQtVr5I+ZaEpeQ/4W9Hwif9YaLx4mNAnH7fQVIVCH3dF0DCIvl2jYRBscgsAAAAUJs2kSe1ysy20P5NGdWsEuY5VKdKeSoESKS24+aG/FdHo799aaI+nIyzOt1D1SBUj7cEU3GGh1j2tfdLeThPit7qtr/Nvi0AT9g6z0Nc+3EL7M33P4ncWIfkSPQ6NKNeaKLXXfd5CrXe3WbxosV0J1SaGQQAAAACFSTNp0iIaJTwaiKD9kLRH0kwLJTbacykfJVFqyVOCoyrQBRbXWBxlkRxFrpHiqmbpPhcm3t5joU1vk1/nfgtVjHT/By2UNGlz24sskl6x0F5NGj5xn4Xuc63FWRbbnTAMYirDIAAAAICC1DUBDsWlseNvGzd8uA7T98i099zn/hEt8Xr4m4e5Yb21lRUAAEDjzJgxw40YoWvc/kK3llIATUaalSZUgFBpEja5BQAAAOpG0tTM9OlSPQyCdU0AAABA3UiamqExO2krKpImAAAAoBAkTc1QmKD3hiVNDIMAmrffPfS2+9INL7p1m7bE7wEAANlImpqhMQO6+rdrN211M5doqCGA5mju0nXutw+95R6Yssg9+EZypwUAAJBE0tQMJYdBTKFFD2i2npqxJD5ybtZiLqAAAFAbkqZmSMMg+nVt749fY4Ie0Gw9NWNxfOTc7KXr4iMAAJCNpKmZCtUmKk1A87R1W5V7+p2l8S0lTVSaAACoDUlTMzV2QDwMYuFKf/IEoHnR7/6KdZvjW87NWrLWVVXxWgAAQC4kTc1UmKCnYRCzlqzxxwCaj+R6Jlm9YUuNJAoAAFQjaWqmksMg2K8JaH6eejtKmnp0bOPfyixa9AAAyImkqZnq3aWd698tGgbx+vxV/i2A5mH9pq3uhdnL/fEnxg30b2UOSRMAADmRNDVjDIMAmqfnZy9zm7Zu88dHj+nvenZq649nL2GCHgAAuZA0NWNhXdMUhkEAzcqkeD1T1/at/evAoF4d/W0m6AEAkBtJUzMWkqZ1DIMAmpUn4/VMBw7bwbVq2cIN7tXJ32avJgAAciNpasYYBgE0P0vXbHRT343WMR48Ygf/NiRNrGkCACA3kqZmLDkM4rX5JE1AczApsaHtwcPjpGmHqD1PI8dXrNvkjwEAQDWSpmaOYRBA8zIpbs0b0KNDZi3ToLjSJLToAQDwQSRNzdzYOGl6Y+EqhkEATVxVVVVmU1tVmVq0aOGPhySSJlr0kKZt9nfnl/+Z5v7v36/zNwhARSNpauZGD6geBjFzMcMggKZMVaQFK9b747CeSbp1bOO6x5vczlpC0oT0/Hfqe+6Kx95xNz031z3+1vvxewGg8pA0NXNhgp4wDAJo2p56e7F/qwKTJuclhRa9ObTnISWqfP7x0bfjW869+e7q+AgAKg9JUzO3Q+d2bsd4GARJE9C0hda83XfsmtnQNhjMXk1I2WNvLXZTFkSTHOWt90iaAFQukiYwDAJoBrZs3eaejifnHRRPzUvK7NVEex5S4KtMj8yIb0WmLyJpAlC5SJqQadHTFT8W4gJNkyrJqzds8ceHDO/t3yaFsePL1212Ky2AUnp25jL34pzl/nhEn87+7TuL17jNltwDQCUiaYIbEw+DWL+ZYRBAU/VUPGq8beuWbtzgHv44KTl2fM4yqk0orbCWqU+Xdu7Cj+zqjzdvraLSCaBikTSBYRCoSKp6PvHWYrdo5Yb4PWiMsJ5p/OCern2bVv44KTl2nL2aUEqqME2aEbWKnnPoUDc2vnAn01nXBKBCkTTB9UoMg3htPkkTym/1hs3u7OtecJ++ZrI746/P+vUPaLi1G7e4l+ZGrVC51jOJRo53bd/aH3O1H6X0p0ejtUwaRnL6fjv7alMYef8W65oAVCiSJnihRY9hECi3uUvXuY9d+bR7ZFq0Z8s7i9f6zZfRcJNnL/OtT3JIYn+mJG10O3iHeBgEE/RQIvobE363P3/wENexbWv/szeybxf/PipNACoVSRO80KKnk1OGQaBcnp251J34p6fcW+/VXFv38JtsetkYYT1Tj45t3Kj+Xf1xLmGCHns1oVSueCyqMnVp39qdecAgfyy7xElT9u8+AFQKkiZ4Yey4hkFoghGQtlsmz3Wf+utzfnpbq5Yt3GUnjXaHjYymvD087T3/Fg0zKV7PdODwHVxLe25rk9mrifY8lMDb7612D0xZ5I8/e+Bg17V91JInI/tFSZOqnBvs7xAAVBqSJng1hkGwrgkp0v5BP7pnqrvojtfdlm1VrluHNu76z413n9p/kJu4Wx9/H621e28VAyEa4v3VG9y0eJ3IwbWsZwrCBL2laze5VRsYO47iuuKxd5yWJ3Zs28p99qAh8XsjodKkj894nwt3ACoPSRM8DYPYqXsHf8wEPaRFJ+afv/YFd82kWf72sN6d3F1fOchXROSI3fr6txLWQaB+no6nlEldSVNY0yRaWwYUy5yla91dryzwx7og0qNTW38cjOwb7dUkbHILoBKRNCFj9E7RWgeSJqRBLWAn/2mSe/ytxf72oSN7uzu+fFCNE3cl8rvFa3AefpMWvYZ4Ml7PNKhXRzewZ9R+V5vQniezaNFDEV352DtOy2W1T9gXDqlZZZLuHdu6vl3b+eO3GAYBoAKRNCEjtOhNZRgESuzpd5a4k66Y5CfjyWcPGuyuOWucb83LFlr0tM8Qax3qR6Paw3qmuqpMohHQXdpFY8dVGQCKYeGK9e72l+b749P2Hej6dIm2uMgWJuiFdlIAqCQkTcgYM6C7f8swCJTSjc/NcZ/+22S3Yt1m17plC/ezj45xPzh+d9e6Ve6XoyPjFr0Nm7dlEgAURr/Hi+K1YIUkTTXHjtOeh+L48xMz/cj7Nq1auHMOGxa/94OqJ+iRNAGoPCRNyGAYBEpJAx9+cNcUd/G/p/iBDxp/fcMX9nOnjd85vkduY+3nsneXqG3nIUaP10sYNW65kDtgWC9/XBe18QkT9FAMGkRy8+S5/vhjew/IrJ3NZZd4gt67Kze4lesZRAKgspA0IUOtOQyDQCmsXLfZfebvz7trn5njb4/o09nd9ZWD3f5D6z6R14jsI3aJWvQemfaebzlDYdTSKEo8tWakEGGvJipNKIa/PTnLbdyyzWnS/bl5qkwSkibReHIAqCQkTaghVJtImlAsMxevcSdfMSlzAj9hFw18ONDtnBg6UJcj43VN763a6KYsWOWPkd/mrdvcszOX+eODCmjNC0J73pI1G92ajVv8MdAQy9ductc/G10oOWGPHWsMeclleJ/Ovioq00maAFQYkibUMGZA9TAItVMBjaH2sJP+NMnNjFu9zj5kiPvrWfu6LolNLQtx8Igd/NQteYgpegV5bf6KTNKj569QyQl6tOihMf7+9Gy3blM0vOUrE4b7t/l0bNva7RxPeHyLYRAAKgxJE2oYHVeaomEQnDCh4a57ZrY76++T3aoNW/wC8F9+fKy7+NhRrpX6dOpJJ1MHxWtyHp5G0lSIMGq8fZuWbp9BPfxxIcIGtzKHFj00kPZg+0e8/9rRo/u5EfGQh7qECXpUmgBUGpIm1FBjGAQtetuN52Yudf+Z8m58q7y05uiSO6e479/1hh9dr7VyN529v/vEuIHxPRomTNFTe96ildFEONQuTBocP6SXa9e6lT8uxA6d27rO8djx2YwdrygPvP6uO+Wqp90r81bE76lc1z8zx18wkUKqTEGYoKcNblm/CKCSkDShhuQwiCkkTduFBSvWuzP/Ntmde8NLPnkqN024C+sYdAJ011cOcvsO7ulvN0ZY1yRUm/JTW97Lc6MT64OHFzY1L9DY8TBBj72aKof2OvrGP191z89e7i695434vZVp3aYt7m9PRVUmrWEMHQyFGBkPg1i+brNbsmaTPwaASkDShA8I1SatiUDlu/fVhW5TvP7s8bcW+7fl9OTb0WPo06Wdu/3LB7qB8RqFxurfrYPbfceu/vhhRo/npeRZY93l4OG9/dv6yEzQW0J7XqW47L6pvm1alBC/+W7lDkS56bm5btnaKOE574gR/m2hQqVJ2K8JQCVJO2lSf85tFiph6BX/dov8m7RUG2Khf6szeV3+fNRinEXSZyx0plBb9LOQwy1yfTzE/hbBPyxy3edXFk1SZhiE/VFmGETlu+e1hfGRc8/PjqalldPkWdFj0Djx0OZVLKFFT61n6+MF5vigsJ6pV6e2btfEGOdCZfZqotJUEZ54a7G7//VF8a2IEpNKtMESO21mKwcO61Wv9XQyZIdOftNrmcYwCAAVJM2kSX+FH7HY1eIsizMtRloo+ck/h9T+9ls8ZTHW4osWp1moSV//djeL4D6LA7LiQAv1LD1vEf7qvGSRfT/FVAvdR/dN0qXz7Pv+3qJJCpWmDZu3MQyiwmmcd3IE96vzVvqTlnLRfkxhAff4IY1vycv2oThp0r4vYYQ5PiisZ9Koce1zVV9hNPT7qzf6ViuUz8YtW90P7o7a8fp3a+9Hd8udLy+oyO/NbS/O9z83ct4Rha9lCjQlc1jvzv6YCXoAKkmaSdPZFkMtTrK40+IuixMsBlkoEcrnSxY6WzrW4laLuy2OsVhvcalFoOTm2azQpW4lXddaBDrLzL6fVtErAbvBIvusU30G2fevzMt8RZAcBkGLXmW797Wawx/UpvdqGReJvzBnmQtrt/crQdI0eqeurm/Xdv74YUaP56QhGW+/v8YfH1yP/ZmSQnue0KJXXn99cpabFY9+//5xo9wXDlHThXOrN25x975aGcNfAu0NduVj7/hjVZgOKGDz6lzCuiYm6AGoJGkmTUqQlGzM8LciWik6yeJEf6t2apd7O45AZwVPWBxnka8HSFUtJT23+Fu1U+VLl2STyVWz1INhENsFTZa6+9WoNe+QETv40dIS2uPKIXztHh3b+I0qi01DCo7YNao2PTztfbctXreDaqHKJAfVY3+mpOReTQyDKJ/5y9e5PzwS/dnT7/hHRvdzYwd09xcP5MbJlXXtTtUvDaaR8yYM97+vDbFL3+i1421LmvgdB1Ap0kyadreYEh3WoL6DUdFhrVT5yTVGRz0AOrsf5m99kD52isW9FnWNFfu0hdr2cj1Gje3SmYh6IaZbfMMizecudWPjdU2MHa9cugo7I64ofGzvAW7vnaO1A5PLuK7puThp0rS8hp4w1WViPEVv8eqN/HzmENoWh+7QKXPxo756d2nnOraNxpTPZq+msvnxvVN9m7T2Obv0hN0zv1Onj1eDhtpxV7g3FlbG74C2F7girjJpYMvhu9R/AEkQ9mpau2lrJgkDgHJL88RfvTrLo8MadJZV10rRaRYawZOs9euxj48O/efORa2AuiRXV/VIa5T0+XPd7xWLb1oo+dLne8bi1xZ/sMhHj0kN3ckodOhF2YURsW8sXOXXqaDy3BNXmdq1bukmjuqbGev94pzlZRngofUVoTJZivVMgdbphKoaLXo1qfoYkqaDG1hlkmjseJigR6WpHB6d/r578I3o5/ucQ4e6ofE6Hzlhzx1dpziprZSBEPe9/m6mjfD8IxpeZZJdEsNLmKAHoFKkXS3JVWcv5JX1Kgs91usstC6qv4UGMUTN3c7Vdoao1jytc7rf36qd7qfM4CZ/q6bLLZQgaeiEKlaa0HeFhdZZDbaozVctQkthiIcttgsTEwvur31mtj9G5dDJ8T3xegbtX6QpdWEN0bpNW32ymzaNQQ5jrkuZNLVv0yqzVud/jB6v4a331vgKnCi5bIzQoscEvfRpmMsP4+EPqhaeN6Hm2G79vp+w507++K5XFrq1G8s7EEItdH96JOq8H9Gns/vwqDCotmEG9uiYuTDCuiYAlSLNpElVplxnUqoy5apAJWnt0xkW+1io/q9L7AdbKKGRXKthlVhNtLjRIt9fFK0q/4SFJu9VLwbIT59Tyd6+/lZuSur0ly4ZR1psF3SlLyRO10yaVfY/yqjptfkr3dxlUdvU8WOjaVp77dwjM6q3HOuaQmueroCP6h+tuSiVMHpce9XQvlMtVJn0Y3DAsIYtwg/CBL05tOelTiO7w/P+/eNHuQ5xVSnpjP2ixgVtZByqzuXy0JvvZZIbTcxryMTGJP370KLHBD0AlSLNpEmXzbSuKZvWM2nUd120p5Muren+SkD2tNBf9XkWufoTPmWhvzR1teZpQIUSt/oMgAh/EfKtUNUZpC69JWO7mrgXxsWuWLe5YvcEaa7CSZISlAm7Rmt8dGIV9tgqx7qm5+Okae9Blry1Ku1Ly5Hx/7M8QotexlPxxsJ7DOzuurZv448bKlSaFq3awJ5YKZq3bJ3706NR1Ubrgj48KrpAkE0t1GHt6U1lHAihqvcf48ern5ljx+h6ZeOFpGn6e9G6TQAotzSTJo0J1xQ8tdcFam87yEIfK4T+cr9poVdoXV4/1eJKi1w02OE1C61JyketeRoSoUpToU63UEtg9n5OTcqeduKliU3y5ydnlnX/H1RTK0wYNf7h3fv5drUgtMVpk9s0p05t2rLNvTQ3KhiXYtR4tj5d22dOGB+iRc/T9yBU+w5pZGuehDVNMmcZLXppufSeqb4tum2rlu6Hx1cPf8jl9PFRtUmV53JNOn3i7SX+68uXDh9WtAsmu8RJ0zvvr2GTdQAVIc2k6S8WWhyj/Zk0YlwVHh2rUnS1RaBESmd7P/S3Irpk+lsLDWI4wuJ8ixcsVL3SUIZse1uMtqireqTL1UdZaC1TrmkHGlH0mMU5Fmr102PW5/yyhdY5zbFo0r4yIao2aZ3Ev17QtwrlpoRIV//l+D1qXtUdHw+DUHVwxuL0rtC+vmCFP9GTMJCi1I6MR48/885S2kfNy5a0aj2bNHY9kwyJ2/OEvZrSocEmanWTcw8bmmmRrM3xe+zo1zdJOapNqjL94eFoJPqO3dq7k/ca4I+LIezVpL3nmOAIoBKkmTTpUqUSHr3CXm+hTWRnWkywqOvsTkmUWvKUXD1gcYHFNRZKeHKNIlf1SGdRWnuUj9ZJ6S9ObcmVmqm1U+jFFhoCob2e1GJ4rsXXLZo8VQ3GDYqGG171+Ey/eSHK657Xota8bh3auIOH1xzrO26QRn1Hx6HqkIbJs6Iqk66OqzUsDRqAITqpevLtQpcjNl1hfyaNCtf6tsbq06VdZjE+wyBKzw9/uCca/jCgRwf35fiCVT6dLGE6cc9oTeNdLy/w65vSpNeYF+ZEv/vnHj7MtW1dvFOKXRMT9KazrglABUgzaRJdCvuohVaJK062yK7WqBql075kpUl/CbSJrS4ta3CD9mX6nkVtl5++ZqHqVF2LHVS90td60d/6IJ11qrqlilN7CzX5j7NQ8pZe71MZqTUkrG3Sgvt/2x/mctBV9DP++qx7ZFrzXr+iNpX7X1/kj48e3e8DJyndOraxk41oCEOawyAmz4q2QVNLZ7JdsJS0F0z/bvq1ZPS4PBknTbrQUYyTV/3uD45b9NjgtvSuevwdN29ZNNREbXmF/h6dHg+E0J5Gd7+S7kCIP8YT87Sv1yfGDfTHxaKkXReGhAl6ACpB2kkTtkOHjeztxsT7Nl352Dt+E8M0aRH6eTe97CbNWOr7/dUS0lw9/c5St2xtVFxVa04u4wdHVQYNZkjjudLPQ7javO+Qxlc4CqWT+iPigRDa0ybNNVyVZtWGzX6jUzl4RMM3Fc0Wkiba80pLSWnYGFZDTrTvWqF237Fbprp70+T0OsYfmvpeZlrj2YcMKfrFEv1+h3VNTNADUAlImlAn/fH6ygQV95zfvPD+13NNeC+dPz76dmastMbwvpPiWp1KE6bm7dC5ndt/aO6R0uOHRO/Xuqdw5bqUpi1a5VZviNqCwtdOSxiLv2TNJvfK/ChpaI60rivkjGEPq2IYtAN7NZWaLmxoTyYN8lCF8AfH5xoym9/p46Mqz5QFq9zr8VCGUtKFrNBKOLBnB/fpA/JtWdhwI/tFG/qywS2ASkDShIJos0JtWigah5vWVX0lSNqzJOl/U5vntLSNW7a6/7wRteYdO6afa1XLXijJak8ao8dDG6Aezj7x+re0aC+iDvEV7ubcohfWM6lNamTf6Pe0GEKl6d2VG5ieWSKa/vjo9GhU/JcPH+Z2jke914eqzl0yAyFKX2264rEZbv7y6ILMpScU3kpYX6HSpKSdnz8A5UbShIJos8EwSW/aotXu4WmlT1x0BfYHd73hNm+t8ifGYWFwcz05fuKtJZmKTm2tedKnS/vM5LOw1qiUNM1P1CYUJnmlRSdrB8dj8R9uxqPHn4oHYajKpMpwsYSkScJmyigeX7G5O6rY7Nyzozv3sKiiX18d27Z2J+2lbQydu+uVhfY6kWsYbHGo2+Dqx6MLWR8a1dcdEU+xLIWwV5Ou0c14n/2aAJQXSRMKdtzY/v4Pu2gzw1Kvl7nv9XczPfNfPXKEOyVeaKz9gJau2eiPm5PQmqfRvnvXMR0tjB4v9TAI/QyErxH2iErbxHiKnpL5+cub34m9Wldn2omsFLM1TwbH7XkyO/4aKJ4rH5uRaT3+4QmjGlWxCQMhNHZeiVMp6Pf9+3dN8RMrNVnxB8drr/nSCUmT0KIHoNxImlAwbVqo9hHRovOQ0JSCRuf++N6p/nh4n87u8wcPyZwc66pjaGdpLtZt2uL+NzWqsB23x46+8pfPvnECo/1N3o/3dCoFnaxrPZGktT9TtgnxMAhpjtWmSYlx68XYnympb5f2rl08iY91TcWlJFTbOEgxKja79e/q9to5Hgjx3NySXNR6YMqizHj/848Y4Qb0qH8rYX306NTWT9ETJugBKDeSJtTLR/cekBnzHMbNlsLvHnrLvbcqqib96MTd/QLpQb06+QRKmluL3iPT3nfr457+48fW3poXaOx0UMp1TZrQF+wbT+1Lm9oRw/SwsDFoJVMSe/erCzNTEBsrXLzQmsN+8e9msSg5HxSvsWGD0eLxrcca/rB1m09Kv39ccSo2p42Pqk1T313lXivyQAhtIP2je6ILWUN36OS+cMgQf1xqu8Rt2UzQa5z/vrHIXf/snMz6RwD1R9KEelHycs6hQ/2xNjYM61mKSRsZXjNJ23U5d8IeO7oDh1VfPQ/T0p54a7EfjNBchNa8wXYCO3qnaB+mfLQ5ZkhuS9miFz63Tth7dY6uCJfDxLja9NzMZalv8Fkf+n05+ndPuq/e/LLb/2cPu2/88xW/B1lDqwIayBJOgopdZQrYq6n4HnzjPfe4vYbJeROGu4Fx23Nj6YJKl/bxQIjntC1i8fz+4bf9RE750YmjLdkrzfCHbJmx4++xpqkxbrSfh0vunOL+8XT0txVA/ZE0od4+ue/ObofObf1xsatNOnm85K4pfu8fDRX43rG7xR+JhBY9beT4rJ0gNwfagye0I2oARCEL/XWf0C5XyqRJibOEdsByOTJOpnXl/sn4ZLTS/POFee70vzzrlsYVJo2YvuOlBe7kK552J/xxkvvn8/P8YID60Dqu8PkOiQdiFNvgeKgIezUVh1ptQ+uxLoKcHV+EKoYObVu5j8YDIVTN1GtHMWg90d+emuWPjx3bPzN8JQ0j40qT1n4V6/+nOQrPXdf20YbBAOqPpAn1pj/Mnz84+kOvq6XF3Bfk3y8vyJzkf/1DI12frjXbjfbauYfr2SlK2JpLi97/3njPn2BLvql52cJgBq0FWLmu+CcbOokJi9iT7YDlsFv/Ln5AhmiEcyXRBYDL7CT5wtte85Mgu7Zv7S4/dU+/Tk/H8vqCle7C21/z1SfdVxPKCvHUjChBbN2yhduvln27Giu05y1cuZ6xz0WgLRuqhz8Uf1z3afFACLXz3mWvp43lL2TdOcVtsZ/jTvbaf8mxpR3+kC1UmuRt1jU12Kr1cdLUId0Jp0BTQtKEBvnU/jtnTvh0ElAMK+1F/af3v+mPNV78rAMG+eMk7U00YZeo2qRF/6VY7Fxp7nktas3TyUNymlRdQtKkp+iFOcWvNtVcz1TepEmVtVBtenT6+z5RqQQa/fyFa593f42v0g/t3cnddd7Bfjz0JceNcs/930T3i4+NcbvvGLVc6ndA953wq8fcp6+Z7Id/5Pt/eWpGNFJeAwBKNe59SNyep5+j5jidsJhmJvad+8ju/dzh8WtZMe3ar6vbOx4IoZasxr5GahJfqChfMHFk0dfN1WVEYt+x6Yto0WuoVfF2FVSagIYjaUKDdLEX3s8eFC0E1oarxRgH++v/Ts9MYrvspNF+Wl8uoUVPV2vVntSUaVhA2IPnhD0LrzLJ8N6dXY+O0R/IUrTohQETWj+1Y/cO/ricjox/LvScvTJvuT8up7lL17mPXvF0prVS7XP//vJBmT20RFXbU/fd2d17/sH2sQPdR/feya8bFK3bO/u6F9yhv3zUX5hYkjVmX1WfsA9XqdYzyaDE451Fi16DKXnR8AdVGzWu+5ISjus+fb/ogpNeH1+Zt8IfN4Raui67L7qQpU2TP3PQYH+cJu1BFba6YOx4w4VKU7cOJE1AQ5E0ocE+a39A1a4hVzSy2jRlwUp3w7PRTvYf32eAG5encnHIyN6ubZxQPRSP4W6q/jNlkW+LEe2TVR+afBYqQOFKcTGFRKxc+zNl239oLzvBin4ey92i98w7S92Jf3rKvR1vyPmZAwe7v39m31pPWFQpU+vpbz6xp3v2u0e6i47e1SejoosD/+/B6e6Anz3svnbLy+7FOcv8Cbj2K9uwOWrbLNV6JunftX0mkWMYRMPpdzk5rnunEl5o0GtF6ARozECI3/z3rUyy/uMTR7s2tVzIKrVQYdeQINSfLrBsjFu8u5I0AQ1G0oQG696xrfvU/tEVTS06bugJlSaAfe/OKX7/Jf2h1wljPmpD2n9YtH7joWlNe1+eMDVvjwHd/Mj1+goJjZJSLUAvFm0uHHboDxvplpvWhoTkoZzr3W6ePNed+bfn3PJ1m/1ao5+ePMavXamtcppNa/bOPWyYe/zbE9w1nxnnJuzS25Iq5ysUapX62JXPuGN+/5S74tF3/P31+zB2QNSOVQp+7Hh8pZ+9mhrGj+uOhz+kMa5bvwvaHkLU3qu2z/p6Y+FKd90z0aQ1DZco1Zq5QuzSL2rRo9LUMMkBGiGZBlB/JE1olM/bH3/tM6KE58rHopO4+rr1hXmZFpJvf2RXt0MBo6tDi5422X1/dek2b63Nb/473R3080fcY9NLl7RpP59n4/ar+gyASApJk6pVL89teJtOtudnV7e/VUqlScK6Jo0nnrcs3VayLVu3uR/e/Yb77h2v++e7e8c27vrP7+dOjxfm15fW72nD079/drx7/FsT3BcPHeo/p7z57qrM/kyqsJW6AhASdibo1Y8uVCiJVpvmuyuj16lLT9w9lXHd4edO1ci7XqnfQAhdyNLwB72ua4T5d4+pOcU0baHSpEmR2W2qqNuq9dUXzKg0AQ1H0oRG0cain9x3oD++/aX5bmE8FapQWn/yi/9M88djB3Rzp8ebM9bliHhfHnkk5VYsJTN/sgRRbVPn3/Sye2dxaRYn3/f6u37xvWjMb0OM6t8100JZzBa90JqnBDe5Rqfc9HMRJrKnudGtruR/7toXMnugaBPmu75ykDsgrog21s69OvoTV7Xu/fqUPdye8Wa+csyYfvFR6Wg0tlBpKozWs/3kvqlu/58+7JNoTbCUk/fayR0yorc/LjUlGuMGRRtOq0WvPgMhbntxvnspvsjyrQ/v4np3Kd8ebBI2uBU2ua2/ZKWJNU1Aw5E0odHOOWyYb0NS+1CYDFWoX1rCtGLdZn+iq555XV0vxIAeHd1ulhBI2utXtN9OmGi2euMW98XrXyzJhqqhNU/tb/27NWz9g1rC9o5PnJLT7hpr8uyoAjZ+SA+/HqdSKIkLCYWmK6ZB48FPvmKSH9wgh+/S293x5QMb1E5ZF7VdfWyfAe5OS8g0POLaz433J+KlFvZq0kWR5rSpdH0oKXny7cV+WuJhv3rU/eXJWZmJZXvYz+RvT93D/b+Pj/W30xKqTRoIEZKguixfu8n97IFo+IOmOoYW7HIaukNn/zdGQgKKwiXbM6k0AQ1H0oRG04JmTf0StaIsXl1Y+4QWst/y/Dx/fNr4nf2JRX2EFj3tVZPW/jFKlm6eHD3mfvEeUlrb881/vuJbWopFrWXhJOf4PRpWZQrCHkp6vsN+T42hMdpTF67yx5WynilpYtyi99yspf6xltKkGUvcSX+a5GYujiowZx8yxP3trH1TGes7eqdu7rCRWu9U+qR1cJwA6kd83rL6VZObOl0wufbp2e7I3zzuzvzbZH8RR0WdNq1a+IRWCa6qjifvNaDgdW3FcsyY/pnKQqEDIX754HS/Hk9+fFLhF7JKSYNINK5fWNdUf2FynrCmCWg4kiYUxZcOH+70t1UTesLO8fko+VDPvGjh+4VH7eKP6yOsX1HPvk5e06BqQtiYUmPRtV+VPPjGe+7Kxxu2pisXteaJntOj7cSnMcIEPX1vtIlqY704Z7k/eZZ9K2g9UxBGj6vy+cRbpfu5uP6Z2X4vJV3F1QnyLz821l187KiKOMkstrDBrTBBL6I9l7SGTS14GiUeEue+Xdu5b3xopHv6oiPdb0/ds0YrZdp8ZTIeCHGvBkLUscm11pbe8nyUXKnteu+doyp1JQjrmpr6NhOlECqeemnq1JakCWgokiYUhda1HDc2Glag0eF1/XHWfd6IqxUXfWRXP4mvvsbu1C3Ta59Wi542i5T+3dr7NqzvH7e72yduf/vVf6f7jVWLIbTmaf+dQgZj5KMKXhjRXoz9msLn0AJxbaRZabQJcBjnXIopepu3bvMJ/yV3veGTfyX9N35hf/eJeG1fU6R9uMLP0OylzXcYhKrJ+plSsnzErx/3a9hCa+6+g3u4P56+l3vqO0e4rx45ouzrgILT94t+LnXR5N8vz/fHuehn+Xt3vu6rZBo4cqG9LlcS/V6L1jQ1dsPe5iZUmrS/oqZhAmgYkiYUzVcmDPdvdRIRFsTnovY9JRiineu1L1ND6MX/yHggxCPT3itqe1wu765c77+OnGonyGq1UdvIlWfs7frYCZL+jn/t5pfd7CWNuxKvwRIhoTw+TkQbQ1ebw9XusBlqYzwfb2qrClYlVlXUrhZaN5XEhvVnxbBi3Sb3mb9PdtfHe4rpRE6tV5U0QbAU9H0e2DNKRJtjpUnVxL8+OdMd/qvH3OevfSGzfk2TQz8xboBfX/avcw/0F47KtZdRbYb36ZJpo71pcu0DIW56bo6bsqD6QpYuBlSSkfEwiLWbtmaq/ShMGATBEAigcUiaUDSacPThUVHL3DWTZtU6HOFn97/pVm/Y4lsF1DPfmCtfoUXvvVUb3ZSFjW89y+fW5+f5tjSdQH5y3+opf326tndXfmpv36KlNggNhtC+LA1176tRa54+31G7F2cy2r5DomrYC3OWNyqJ0NqxV+dFz3No+6tEE+OfQ63N0FquxtKJ5nMzl/r1S5NmRImnErPbv3ygJRPVrWtNWVjXpMEXpaIq3qX3vOH+9OiMiqgmKFlS9UUteJfd96abG4+xVyVT+8lpmuEvP76HX19WycJACI3iV3ttNo3x1gbKstfO3S0RrLyqaag0Ceua6idUmrp2oDUPaAySJhTVeUdE1SadbNwYX41P0onnHS9He4Z8+oDBbvcdG3eycfDwHfzVXilli5724FHSJBpr3a9bNAQi2GdQT7+BqWi604W3v9agkz79m7tfjZ4fLfLvFu/L01jjh0Sjr5WsTlsUXU1uCO2LtcmeC6nk6sp+9v+rTV+lMaPH12/a6m6ZPNdvJnvqn5/NtKZp89mrzxyX+RrNQZigN6eE7Xn/tteGv0+a7U/gr3q8fpM4i00J3DnXveBueHauWx8PmjlwWC/7vu/jnrhwgv8Z6FFh1ZjafGR0P9cjfi1RtSnbz+6f5i/4+AtZJzbuQlap6OJE+zbRa/30RaXZ5qGpCvs0pTGgBmjKSJpQVGMHdHeHjNjBH2vkbnKqnV8Lclc0/EH9/t/48Eh/3Bgd2rbyiZOUYv1K8Oj0xZnNKWvbrFR7TIU9q+577d16j18XLXJ+J15Q3tANbXNRG2Q4D2rMuqbwb3XyMqaCr66rbfLQkeHnov7JtKYXqiJ6wM8fdhfd8brfTFbUsqTR0aoyNMWBD/mEvZrmL19XlCmMuYS1fPLLB6eVdPPoulx279TM3mb6Xfzv1w91N529v6/+bm/f++RACL02Jdecqt1We+zJmfsPqtiqmZ7zEX3idU1UmuoltOeRNAGNQ9KEojv/iBH+rVo+QnVG/j5plm8Pke8du1vRXsBDi57WAdV3c91Cqd9f1JZzaC2bU2otjXb7D6PTtWmv9m2pj7vjk0YlJWF0djFoAXCo6oU1SQ0xOf63ew3s4ROTSnbkrtHzp5HwhawzU5VPUxjPvu4Fd9j/e9RdbUmv9hATbbysTWWfvugIPzq6OQr7Tqm7U4lTsen14ul3qtfcqVD71SKsEWyIW5+f6659JvqdVxvm707dMzO9bXv1yXjjcA2ECEmSKuhhiqkGznzjw/WfYpqm8D2YzgS9egnteaxpAhqHpAlFp7atsPD46sff8VelNUTh8ofe9u87YGgvd0IRqyhhxLQ8PK34V6Z1gvhYvPD7tPED815lbte6lbvqU3vbCUhbf3J5vp30qWpRCJ20hyvtOuHvVOTWr9BOp2pRQ1oHdYIV1kNsD4MPJuzaJ1Ndy9eip/VnGh/+od8+4c7463Puf1Pf8987rSk7cc8d/Ua1GvagTWV1xb65CmuapBQteg9MWZRZb/e7T+6ZWSN4zvUvlGTz6NroZ/x7cSIxvE9nPza8KUwc0/9L2LMtDITQwJ4wwvv/jtm14k+qd+nX2b+dsXiNfz1CYcLIcdY0AY1D0oSS+Eq8tmnhyg3uzpcXuMvufdOt27TV7+r+oxN3L+qGnH27tveVAClFi56qZcox9NgLWSDdv1sH96fT9/b3V6VCgyG0NqYu2iNl/vKoUtbYDW1zCYMblqzZ1KDF/Krk6Xso20PSpFa6sM9MrhY9PQcaOqBF/hofroqUqHX0gokj3KSLjrCT973850hjA9lKt2P39j6RkdklmKAXLhhoEMGJe+7kLj1htL+t6vS3/vlqgxL9+lpkr1fn3vCi3+NLI/X/fOY+vkrbVITWYv2say+4cCFLv8/aiLfS7RJvcaALcXMKvBiFaI2x0J4HNA5JE0ri0BE7ZBKZnz7wZmaz1s8fMsSNKEGbS2jFUntPYybXZdM6rNBi+KFRff2kvELsN7SXu+S4Uf546rur3HfvqHswxD3x1DwNFzh8l+rqWbFoH5mgIeuawr9RMqgT2+1BaN1US6JOHDSWXmPINTZ8wq8e80MHVsc/L9pv6/en7eUmfecIS5pGuj5dCvteNxcasT+wR7Suqdgtc6pEh7bRMGZfJ/jhJP8/byzyE/VKSesvv2gJk7ZEUI78B/tZGNo7qmw0FcmBEF+/9RVfwVPlXMMftocLAzUm6NGiVxD93amenkfSBDQGSRNKQn+Aw75NYV2INoT9arzeqdhCi56uQD759hJ/XAyqXL1vJ1FS2wCI2nz6gEGZxdd3vrLQXWMn6LVRW5J27BeNbS9FG1ivzu3ciD7RSWCDkqb4pHaMJcMdt5Nd5cN+TVvs+f3BXVPckb953H3278+7x6ZH7ZZal6V9wrTPzu1fOtC3jVb6Wq1yGhQPgyj2BrcaTqBrCjpvP3ZsdZX1h8dXbx796/+9ldknrdh0Ynnxv6f46ZBy4VG7luTCRbmpfTjsi6dqmnzuoMF+u4jtQd+u7VzX9tFrT2grRH6a/KjXP6E9D2gczg5QMh/ara8b2bf6Su33jxtV9HU6we47dvVJmRSzRe/G56LxvDv37OgOGhZNYyuUEsefnDzajd4pain56f1vuqffyZ3Q6Sp7SM6KOTUv275hXVOcABVKFZpQCQjr1bYHWseh750ocQ1tifpZ+fZRu7hnLjrC/eqUyt9np1JUjx0vbqUptOZpzY3abYOwebROlpVUfe3mV/zmz8WmimMYjqDfv3MPG+qPm6LT4oEQouf1axMbP8U0LXpNDQkeE/QKE8aNC4MggMYhaULJaPH0944d5ddBnLTnjr41pFT0xzRUmx6Z9n6jNnAN5i5dl6la6USjIYvBVTG66lP7+PU1ekzn3/Ryzt3sw0lj945t3EHxCPVSCAvBtXaqPpMG335/TaZiuD2sZwr0c5EcOqL/f52EP3nhBF8JVfUNhQvDIObZz49aV4tBCdir86MNk3NdMFBLrH6H2rZq6VsptXfS6niEcjFoYuJP7n/TH+viyy8/Ntb/3DRVajk8ZZ8Bfn+7n3907Ha311hmgh5JU0HCeiZhTRPQOCRNKKlDR/Z20398tJ9AVeoTkbB+ZenaTX6oQmPd/HxUZVLSd8q4ho+ZHtCjo/vj6Xv5tQN6bOde/+IH9q/S5DA52hLLUraHhWEQUp/R46EypW/huEHbT9IkX5s4wg/m+M8Fh7hbv3iAO3pMf78+B/UX2vN0AWBBPLSkse59LVrLp9+Po0fnHoCy18493GUnRYMhtI/ZN/75qq9+NpYmW37lppf8/48ubGjjWu391tT9v1P2cFN/9BE/YXJ7EypNWleXfB1FbmGPJmFNE9A4nDmg5FShSePKrUaZd4xPeBrboqe1Uf96IRoAoc0stYdJYxw4bAf33aN39cevL1jp10+EwRAaXrHMkikJi+BLZcfuHSyJ6+CPw8adhQhroLQQu1u8kHx70cYSJK2T2TWevIWGGxK350mxJuiFKqs2qVbiUptP7DvQb74qGgv/+0eiyW8NpYEx2pNLFVQNN7nijL39BY7mIt/WCZUsVJqUM5eiVbOpCUMghEoT0DgkTWgy1Ap3yIiotS3XiOn60EmZRnNLfQdA1ObzBw/x+/6I1k9c/2y0eWY4aVRipql7pZbcr6kQSu6ej+8b2vvQPGlzZyUYUowJelqXEhb0F7KWTxMpw5o6jcvW72lD6Gf627e9mvna3z9+lNs/hd89NF5yk2HWNdUtWWliTRPQOCRNaFJCi5763QvdVDaXG5+LEpqhO3TyFaxiULVNawh26x9VPH50z1S/nuLBuDXvuLH9U7n6G046tVfL0jXR8Il85i1b7xat2uCPwyAJNE9qawyVymJM0Ls3vmCg9Uof3j363c1Hrat/OmPvzNAXjc0O+2vVh8aX3/969Ht36rjqChYqn6qR2ktNpi+i0lSXMAhCbebt23DKBzQGv0FoUo7YtY9fdyMPNbBFTxPW1DInGgBRzNZCrZfQhpka+KAxsBp/HfYJKuXUvKTkIIfnZy+Pj2r33KzouZDtaXIeSqNYE/RU7bknXs90+C69C24d0gmzHwxhCZT2GdJgiOTV9LqodVfjy2Xvnbu7H51U3M22UXq7MkGvYMmNbfk5BxqHpAlNilrc9hoYbbza0Ba9mydHAyB09ftj8Z4mxTSwZ0e/caaKSpviCWRqe9IJXBq0LiWs0SqkRS8MjNC/K3RzXzRdYYJeYytNbyxclRkBf0LctlqoPex3/Gcnj/HHM+1zfP2WVwoaDDHj/dXua3ZfLSfUuG0lX9q7CNuXzAQ99mqqExvbAsVD0oQmJ7ToPTtzab2uQMvGLVvdbS9G+7UcM6Zf3oXpjXHIiN7uwo9EgyHkuD36p3YVUF9n/JBow9BCJuiFxGrfwdG/QfMWJuip/XVLI8aO3x235ml4iyrE9aULGp85cLA/fnja++7yh6LqUW10xf3s61701SlVqa4+cxwXAbZTGkgj2r6hmOPnm6LwNzBsCgyg4Uia0OR8aFSUNKn97Ym3FvvjQv1nyqLMJLvT9yvtOocvHjrUffGwoW7/oT3d5w8aEr83HaHN7o2FK/OedLy/akOmojB+CAvlUd2ep9+vhSuitW71papQWM80cbe+ljg17ITu4mN3878/8vtHZtjvb9Tul00jxb92y8uZytZPTx7j9owr0tj+jIzb8+St91jXlE9Y00SlCWg8kiY0OSP6dHYDe0aL1evbonfTc1Fr3nD7HKWurKji892jd3O3nHNA6le8w0AHdTS9NLf2Pa3C/kzCeiZIaM+Tho4df2nucrdwZZRwNWYtn8bJaw8utbfKN//5as51Lr/673T32PToAspnDxrsPl6CtlukR6/xAeua8susaSJpAhqNpAlNjpKRI3eNqk2PTHu/4BYirXcIexedXuQBEJVGexZ1ids1JicGPWQLrXn9LKkLiSiaN03PC1MeG5o0hTH7+hk8dGS0TUBD9erczm9K2651S7d201Y/GGLluurqqb7WlY+9448PHNbLXXzMbv4Y269O7VpnXo9Y15RfdXseSRPQWCRNaJJCi56usr04p+4JcXLTc9Fmtjr5+tjeTftKtE56940rR/mGQYSPaeJeU04iUThVdzJjx5fUfxiELmLc93rURveR3fsVZRDD6J26uV98bKw/VjvpV2952bfkqf1U+zGJTrJVldLYdGz/wromKk35ZZKmDqxpAhor7b8eAy1us1hpscridotCdw7Vog/9W/US6fLmoxbjLJI+Y6ERSrVFP4vgMYtc9znPIttJFq9YqJ9ktsXFFoxcqmBKCLq0i/5IaJF4XTZs3uo3nJXjxu7ounVs+lflQtL06ryV/v8/24p1m/x+V8L+TEgaFLfoNWTsuKq5YePoYo7ZP2mvndwXDo7WBj7+1mL3w7vfcOdc96L9bG9zHdpo1P8416NEg12QvjBBj6Qpv7CmiY1tgcZLM2nSyKVHLDQy7CyLMy1GWij5qW6Sz00r0J+y0KXEL1qcZqGkRf822Wtxn8UBWXGghfqPnreIdjOs9ppF9v3/ZZF0lIWSu8kWR1v83uISi59aoEJpOtahu/T2xw9NrXu/pvtffzfT+336foXm8du3sF+Txp6/Ou+D65pemL3cj2aW/UiakDA4nqA3qwFJU2jN02RKtcsV00VH7+oOGh59zuufneOnq8mvP7FHZlNpNA27xMMglIAvKWCT7nKYunCVW7cpSlrKQQNXwqAf2vOAxkszaTrbYqiFqjZ3WtxlcYKFRpQpEcrnSxbqtzrW4laLuy2OsdBfxEstAq30fTYrVG7QX9FrLbLpElX2/bPPsH9uoYTtHAslab+xUML0dYtk5QoVZuJu0Rhj7eMyc3H+CUthAIQ2TUxrv6RyG7NTt8wO8bla9MI48h4d27jhvasXXgOh0qSx42qDK9SmLdvcA1Oia1ca6V/sVjl9vj+ctnemfVDOmzDcvlb/+BaailBpkkqsNt3x0nx3zO+fdJ/5u67XlscaS9jCryeDIIDGSzNpUoKkpGSGvxWZZTHJ4kR/q3b7W7wdR6Cz4CcsjrPI16yrqpZ6QW7xt+pH7YR7Wtzgb1W73kKvQKo8oUJN2KVPZsF6vil6Wkj8QrzuSVWm5rJ2R9W4vQZGEwKTU/KCMBRj3OCermX8PAIyZIeo0rR5q8aOR9WcQjw1Y3GmonvCHjv5t8WmCtZfPj3OXwD55L4D3Tc+pIYGNDXDend2rePXpbcqbBhEVVWV+/MTM/3xlAVajVAeYWNbYZ8moPHSTJp2t5gSHdbwhsWo6LBWWnARNcHXpJq8LikO87c+SB87xeJei1wjwvay0NoqvbJotbASrCQ9Zsl+3Er2tAK6rseNMuresa3bZ1CUFDz0Zu0tejc9N8e/1boHrYtoTkKL3kuWNCanDKqlJPyxpzUP2UKlSeozQe+eV6MBEJrGOC7+3SwFteL954JD3c8/NpaEv4nSRZ8h8Z5h0ytsr6aX561w0+JEbt2mrX7T9HII65mEShPQeGkmTTrzyjXGTJez6/rrOc1ihEWyAV6PfXx06D93LmoFVCN7rtY8VakusDje4hMWOnP+h8W3LYLweXM9br0v39mkPjY8K5rHYpkKElr0VEnSYINs6+0P2h0vL/DHx+/Rv9n1fYekSaOap76r6weRl+eu8JuXShgYAQQDe3R0IRcJmx/XRb9r/30jas07bmx/khk0WtjkttLa80K7d7AiMQI/TWFynjAIAmi8NJMmydX8Xshfzqss9Fivs9C6KDWoayBDNCrJudo24lHlSOuc7ve3avq+xV8sHrf4t4XaBzVI4gcWoSE+PLaGPO6vWoSWwhAPWyBFE3eLRo9r3UXY3DLpntcWutUboqtxZ+yn5XXNy147d8+0uCTXNYXWvI5tW7ndd2QBPWrSVf6d4nVDc5YUVml6dPr7PjmXYk7NQ/OVGTu+aLVviasEaj+91/6uJJUraQqtsMIgCKDx0kyaaqvMqMqUq5KTpHa4Myz2sdAuhXpFOtjicguJej5qUmI10eJGi0LH19xkoXr/aH8rqoJJrsetaQHVZ5kfpKRO1bFkHGmBFA3t3dkNjVs4crXohSuCSgzGDujmj5uTjm1buzHx/3dIlCRseKv2Rva1QS6D4xa9QtvzwtS8nXt2bJa/ayi+MAxi9cYtbuFK7QhSfne+vMCPuU9anqPLIQ3JNU1hM3MADZfm2ZDWLoU1QklaFzQ1OsxLY7+14ET3VwKiAQ36q60dSWvWwiOfstBY8lytebXJrizpMUv24x5soZXQ+R63zkA19CIZuR4nSuzIuEXv8emL/fSuQONgX4lHbTenARDZxsftdy/MXuZH1Oo5UnuehI8B2QbFY8cLac/T2ONH4v3S1AbLRskohjB2XCphGISqXeFC3LDe0UUFydUanoZVcReFNmxv34atJYHGSjNp0phwTcFTe12g5OMgC32sEOrteNNCCYj6O061uNIil09baB8mbUpbqNMttKI0JEt69dOACFW5kpSQ6RLOA/4WKlpo0dPVyDBGW26aHA2A6NS2lTtxz+Y1ACIprGtavm6zm7F4jXt9wQq3MU4uw8eAbKHSNNeSprrGjqvKG36maM1DsahqqYRAwkbc5fTS3OWZx3HuYdXzqcq2pimuNDEEAiiONJMmrR+abaH9mTRiXGuIdKxK0dUWgRIp/QX+ob8V0W/8by002OEIi/MtXrBQcvNri2x7W6jFrrYq0yEW91h8xmKCxccsNGFPez9p49rkDN3/szjMQo/xcAvtz/Q9i99ZZG+WiwqkFrOwCDa06K21BOrOl6N2oRMsYercrvm2Lowb1NOFC/9q0Zs8K+qWbduqpdtjYPPYswr1F5ImbY787sr8Y8fD1LwRfTpn1qEAjaUtJUb0jfaQq4RK041xlUl/b3RxILTE6YJUOYRBEAyBAIojzaRJje9KeDQQQfscae8jbWSgpKWueaFKotSSp8RF1R1NvbvG4iiLXHVvDYBQXVrrmXLRX3C9mv3E4j8WmpqnJnuNJw/rpAINkfi4hapkD1ooadLmthdZYDugNTkTduntj5U0qYXi7lcXujWWOMkZ+zXvoYbdOrbJnMg+75OmaD3THgO1+S0tHchtcLxXk8zJ06Kn1qQn3oqGsOhEktY8FFNY11TuStNKS4zuey26OPCxvQf4187u9toq5WrPC4Mg2KMJKI40kybRZZiPWmgcl+Jki6hHqpqqUfqrmqw06exWm9iqz6qdhereqvbU9pf6axZ6taptcx6192ljWvVk6fPpVVfVp9sscrnDYg8L3Vdn2D+yKM/GC2iQiaOiFr15y9a7t99fk+k732NANzd6Jxalh72YnrOE6YXZUaWJ1jzkM7Bnx0yFMt8wiP9MWZQZX09rHopNmxiLXtfrahMtpTtenp9pQT19P+2L71yPjm392/K150UXBmnPA4oj7aQJKItDR/bOjNa+/KG33Ovxxq0aAAHn9o0TpPdWbfRrv4T9mZBPu9at3I7d4rHjeSpNGusvY3bqltmMFCiWUGnSAJs59dhouZiSAyB0sWl4n+gxaYN1Kdv0vLg9j3HjQHGQNKFZ0B+N/YZGScD9r0dL0bq0a82V71j2lDzll1oLBuQTWvRm1bJX0/urN7hn3onaPTU1Dyi2GhP0ytSip83TVemS08dXX4jrHld4yj0IgjVNQHGQNKHZCFP0gpP22snvUwTn+nRtX6MKsPuO3VwXrk6iDmEYRG1X+O9/7V0XOqaOHcsFChRfP3vtCgMXpi+qa3l0adwcV5l6dGzjPjK6nz8W3ZYV68tUacpMz+PvHFAMJE1oNrKTJlrzatp3cHVlidY8FKI6aVrn9/jKdk+8MH7coB5up+5RKx9QTBosEgbZlKPSpCEP975ecwBEUN2eV6ZKU7xPE+15QHGQNKHZ0ML18Md17527u936axYJgvFDesVHDIFAYcIGt1oAv2jVBn8czF++zr04JxoqQhssSmlk3KI3bdEq/zZNt7+0ILNp+mlZF+KS0/O07ilNW7Zuy0yIZRAEUBwkTWhWLjt5tPvI7v3czz46Nn4PAo1lVztJ367t3IHDqxMooDbJls7sCXph/LLWxx09prplCSi2cDFs9tJ1bsPm9AbbKhG6eXLUmqcJpMN6R3tGBWF63uatVW7tpnQH7oaESag0AcVB0oRmRW1nV525T43Fw4j06tzOTbroCPf4tyfwRxYFSY4dz56gF6bmHTCsl+vTpb0/BkohTNDTyPGZi9OboPf87OVuRhgAkaPdO1SaJO29msK4cWEQBFAcJE0AMjQYgw1tUSj9rPTvGiVEsxMT9GYuXuOmLIhapY5nAARKbGTf6gpPmuuabnou2mayZ6e2NQZABGFNk6Q9QS9sbCsMggCKg6QJANBgg+JhEMn2vHvj1rw2rVrkPJkEiklV8h0sZHpKSdPytZvc/VOi7Ss+vs8Av29ZtjA9T9Leqyns0SR0DgDFQdIEAGiwwfG6ptCep3Ued78ateYdOqJ3javtQKnsGrdcv7UonaTp9pfmZwZAfHLfgf5ttnJWmsK4cWEQBFAcJE0AgAYbHE/QU6VJY8d1pT+s82BqHtIS1jWlUWnShYGb4gEQBwzt5YZmDYAItIG6BqFI6muaalSaaM8DioGkCQDQYKE9b8Pmbe791RvdPXGVqV3rlm7iqJp7owGlsku/KHGZv3y9W7pmoz8uledmLcsMnMi3319Ly5jKtVdTWNPUqW0r17oVp3pAMfCbBABosOTY8VlL1lrSFK1nOnK3Pq5zO65wIx177Vy9OfcFt77iJ+mVyk3PRVWmXp3auqN2z79mr3qvprTb89ijCSg2kiYAQIPt3DNqzxOtZZq7LFrbxNQ8pEnteeccOtQfP/n2Evf/Hpzuj4tt2dpN7j+JARBtW+c/jQp7NZWrPY8hEEDxkDQBABqsQ9tWrl88dvy2F+f5t2oJmrBrH38MpOXCo3Zxh4zYwR9f9fg7mVbRYrr9xflu09ZoAMRp42tvzQu6x5We1Kfnxe15jBsHioekCQDQKIN3iKpNm7dGLVEf3r0f+30hdVq784fT9nIDe3bwty+87TU3dWG0X1gxaADEzfEAiIOG98pMjswnrGlakZhml4ZVG6L2PDa2BYqHpAkA0CiD42EQwfF79I+PgHQpSfnzmeNcB0va12/e6s65/gW/p1IxPDNzqZsZb+J8+vhB/m1dwl5N5drclvY8oHhImgAAjRIm6ImubB88vHd8C0jfbv27uv93ylh/rGl659/8stsSt9Q1xs2To/bTHTq3dR8qcDJkGARRvvY8kiagWEiaAACNMiRuz5OjR/erc3E8UGrHjd3RnXvYMH/81Iwl7peNHAyhMeb/mRJNhvz4PgML/hkP7Xmq/Ggfs7RUD4JgTRNQLPxlAwA0yoh4Y1E5YU+m5qEyfPuoXdyhI6Oq55+fmOnuemWBP26I216cn1mzd9r4gf5tIcL0vCr7p8kNZ0uNkeNA8ZE0AQAaZVjvzu6yk0a7H524uztgaK/4vUB5tWrZwv3hk3u5Qb2iSuh3bn/NTVmw0h/XhypEYQCEpvMl21HrEtrzJK0Nbjdt2ebXcwlJE1A8JE0AgEb71P6D3KcPGOxatGgRvwcov26WtGgwRMe2rdyGzdvcF69/0e+1VB/PzlzqZi+N9h8rZMx4UjJpSmuvpmRFi0EQQPGQNAEAgCZrl35d3K9P2cMfL1ix3n3lxpfqNRjixrjKtEPndgUPgAhCe56kNUEvDIEQ9mkCioekCQAANGlHj+nvzpsw3B9rdPhP75/mj+uyZM1G9983FvnjT4wb4Nq0qt9pU832vLQqTdF6JqHSBBQPSRMAAGjyvv6hkW7CLtFgiGsmzXJ3vDTfH+dTcwBE/VrzRPtFhUl75ag0sbktUDwkTQAAoMnTYIjLP7mXG7JDNMjhu3e87l6fX/tgiOwBEAN7Vo/WL5TW+FVvcJtOpSlsbCsMggCKh6QJAAA0C6q8/PnMfVyntq3cxi0aDPGCb8HL5el3lro58QCIM/arf5Up6N4hWteU1vS8MAhCM1m6tGNNE1AsJE0AAKDZ0L5ivzl1T3+8cOUG9+UbX3KbcwyGuGnyHP+2d5d27sjd6jcAIimsa1qRqACVUtijqbMlTC1bMs0SKBaSJgAA0KwctXs/99UjR/jjybOWuZ/c96Y/Dhav1gCI9/zxqeMG1nsARFKYoJf2yHHWMwHFRdIEAACanQssaZq4Wx9//I+nZ7t/vTDPH8u/Xpzntmyr8i1up+47MH5vw4RKU1rT88KaJibnAcVF0gQAAJodta6pTW9o72gwxMV3TnGvzlvhB0DcMjlKoA4d0btBAyCSuseVpuVr02rPi5Mm9mgCioqkCQAANEuqxvz5zHF+/c8mPxjiRXfnKwvc3GXRAIjTGzEAIgjT85JT7Uop7NNEpQkoLpImAADQbA3v09ldHg+GWLRqg/vmv171x300AGLXqH2vMUJ73pqNW3xiVmrVlSaSJqCYSJoAAECzNnFUX/f1iSP9cVW0l61fy9S6EQMggtCeJyvWl35dE4MggNIgaQIAAM3e+UcMdx+25Ek0qbuxAyCCMD1PVqawV1Om0kR7HlBUJE0AAKDZ02CI3566p/vS4cP82wE9GjcAIghrmqTUG9xWVVVl9mliEARQXCRNAAAAplO71u47H9nVnbjnTvF7Gq9bjaSptO15G7dsc5vijXqpNAHFRdIEAABQIt07pNeeF1rzhEEQQHGRNAEAAJRI29Yt/UhzKXWlKTnWnEEQQHGRNAEAAJRQSGBKvaYpTM4T1jQBxUXSBAAAUEI9OkVJ08oSjxwPQyCENU1AcZE0AQAAlFAYO758bZqVJpImoJjSTpq06cFtFistVlncbrGzRSGGWOjfrrBYa/GoxTiLpM9YaFu62qKfhfS3+JnFCxZ6LIstHrI42CLbPyxyfa5fWQAAAORV3Z5X6kpTlDS1atnCdWrbyh8DKI40kyZtePCIxa4WZ1mcaaHtt5X8dLLIp5fFUxZjLb5ocZqFXg30b3ezCO6zOCArDrRYavG8xSIL2cfiVIu7LD5uoWRro8XjFsdaZFNSlf15f28BAACQV6g0JQc1lEL4/F3bt3YtWrTwxwCKI82k6WyLoRYnWdxpoYTlBItBFkqE8vmShbbpVkJzq8XdFsdYrLe41CJQcvNsVmglpJKuay0CJWBK2H5s8T8LJVsnWrxt8R2LbLo0lP1551oAAADkFTa4LXmlaUPY2JbWPKDY0kyalCAp2Zjhb0VmWUyyUMKSz/4WSmgUwRqLJyyOs8g3IkZVLb1K3eJvRdTiV71aMqLbr1oUb0c7AADQ7HULa5rWbXZVVerwL43QnscQCKD40kyadreYEh3W8IbFqOiwVlstcl2eUUtdB4th/tYH6WOnWNxroRa9fPSKpra7N/2tmvpYLLFQYjXd4hsWaa8HAwAA26FQadq0ZZvbsHmbPy6FMAiCceNA8aV54t/TYnl0WMMyix7RYa2mWYywUJtdoMc+Pjr0nzsXtQJ2tUi25tXmhxYDLH7hb1V7xeKbFkq+9Pmesfi1xR8s8tFjGp4VhQ69AAAATURY0ySlbNELa5rY2BYovrSrJblq0oWsVLzKQo/1Oguti9L0Ow1i0EQ9qe2yjVrztM7pfn+rdqdbXGShNU5P6h0Jl1soQdLQCVWsNDTiCgutsxpsUZuvWoSWwhAPWwAAgGakW1xpklImTWGfJtrzgOJLM2lSlSlXRUhVplwVqCStfTrDQlPv3rFYaKHx4Epo5N34bZISq4kWN1pkr19K0kAJjRX/m8UP9I4C6HMq2dvX38pNSZ2qY8k40gIAADQjyUrTynWlm6BX3Z5H0gQUW5pJk9YuaV1TNq1nmhod5qU9nTSkQfdXArKnhUaVz7PINcnuUxYaS56vNe9wC33eOyzqmuCXFKpj+VZzqu1QQy+SwcQ9AACambCmSTQMolSqB0GwpgkotjSTJo0J1xQ8tdcFam87yEIfK4QGQmhQgxKQHS2019KVFrl82uI1C61JymU/i3ss1DKnPaPqszJT7Xy6v/Z+AgAAqFWX9m1c2DapVO15msoXRo6zpgkovjSTpr9YzLbQ/kwaMa4R5DpWpehqi0CJlCo4GswQ6Lf/txYaxHCExfkWL1ioeqWhDNn2thhtUVuVaReLByw0Ue9XFmr7U0IXItAeUo9ZnGOhVj89Zn3OL1tondMcCwAAgFq1atkik8iUaoPbtZu2uq3bogYY2vOA4kszaVproYRHAxGut7jBYqbFBAvtuZSPXgXUkqfkSsnOBRbXWBxlkeuSjQZA6HKL1h7lotHiWkulpEgDHjQRLxnBagvt6XSxhYZAaK8ntRiea/F1CwAAgDqFdU3L15am0hRa84RBEEDxpZk0idb0fNRCY8AVJ1tkV2tUjVIRO1lpUgKkTWz7WrSz0L5M37NYZ5HL1yz0ivGev/VBGvygr1FbBFqXpOqWkqv2Fh0txlkoecu3ngkAACAjVJpKtaYpDIEQ9mkCii/tpAkAAKDZCcMgVpRoTVMYNy5UmoDiI2kCAAAosdCet6JEa5qS7XkMggCKj6QJAACgxMIGt6WanpccMMEgCKD4SJoAAABKLFNpKvGapratWrp2rTm9A4qN3yoAAIASS65p2haPBi+msKZJQyBahE2hABQNSRMAAECJdY8rTcqXVm+sHtpQLKHSRGseUBokTQAAACXWPa40SSkm6IU1TUzOA0qDpAkAAKDEwpomKcW6pjA9j0oTUBokTQAAACWWrDSVYoJepj2vPRvbAqVA0gQAAFBiYU2TlKbSFAZBUGkCSoGkCQAAoMQ6tW3l2rSKptqVYk1TqDSxsS1QGiRNAAAAJaYx4KHatLwElSYGQQClRdIEAACQgu5xFajYlSbt+7QmHmOufZoAFB9JEwAAQArCBL0VcVWoWLTvU1W8Xy6VJqA0SJoAAABSECboFbs9L4wbFwZBAKVB0gQAAJCCkDQVuz0vrGcSBkEApUHSBAAAkIJMe16xK03x5DxhnyagNEiaAAAAUlA9Pa+4laawR5PQngeUBkkTAABACkJ73uoNW9yWrdv8cTHUrDSRNAGlQNIEAACQgh5x0iTJdUiNFQZBdGjTyrVtzakdUAr8ZgEAAKQgtOdJMSfohaSJPZqA0iFpAgAASEFoz5NiTtBbtSHe2JbWPKBkSJoAAABSEKbnSTEn6FVXmkiagFIhaQIAAEhBcg+lYk7QC4MgGDcOlA5JEwAAQArat2nlhzVIMStNYagEG9sCpUPSBAAAkJIwQa+olaZ4nyba84DSIWkCAABISZigt6KYI8cz7XkkTUCpkDQBAACkJEzQK+r0PEaOAyVH0gQAAJCSMEFv+driVJq2bN3m1m7a6o9Z0wSUDkkTAABASjKVpiK154U9moT2PKB0SJoAAABSEipNxWrPC615wiAIoHRImgAAAFISKk3Fmp4XhkAIlSagdEiaAAAAUhKm523YvM0iWovUGGHcuDAIAigdkiYAAICUhH2apBgb3IaNbYVBEEDpkDQBAACkJLTnSTFa9JLteZ3bUWkCSoWkCQAAICWhPU+KUWkKgyCUMLVuxWkdUCr8dgEAAKQkTM+TYkzQC5Wmru2pMgGlRNIEAACQkmRys7wolaZoEATjxoHSImkCAABIiVroQuK0Yn3jK01hEARJE1BaJE0AAAAp6tEpbHBbhEpTpj2PpAkoJZImAACAFHWPq0LL1xZhTVOm0sSaJqCUSJoAAABSFCborUjssdRQqzbEa5qoNAEllXbSNNDiNouVFqssbrfY2aIQQyz0b1dYrLV41GKcRdJnLKryRD+LpHMspltsjN+ea5HLSRavWGywmG1xsUUrCwAAgHoJG9wWY3peWNPExrZAaaWZNHW0eMRiV4uzLM60GGmh5KeTRT69LJ6yGGvxRYvTLJS06N/uZhHcZ3FAVhxosdTieYtFFsHZFldZKBH7iMW/LK6w+JJF0lEWSu4mWxxt8XuLSyx+agEAAFAvodJUnOl5oT2PpAkopTSTJiUpQy1UtbnT4i6LEywGWSgRykeJTF+LYy1utbjb4hiL9RaXWgSLLZ7NCjX5Kum61iLQ+35icb2FqkZKvr5n8Q+LH1skX3l+bqGETVUp3e83FkqYvm6RXbkCAADIq3um0tS4pGnD5q1u45Zt/ph9moDSSjNpUoKkJGaGvxWZZTHJ4kR/q3b7W7wdR7DG4gmL4yzyvVKoqqX69y3+VkQVqN4WN/hb1ZREKcE62N+K2gn3tMh1P73iqfIEAABQsLDBrdrzqqq0eqBhVsfrmYRKE1BaaSZNu1tMiQ5reMNiVHRYq60WuRp/tRapg8Uwf+uD9LFTLO61UIteoMci2Y9Hj0XC46ntfkr21lnU9bgBAABqCJWmLduq3JqN1YlPfYVx48KaJqC00kyaelosjw5rWGbRIzqs1TSLERaqAgV67OOjQ/+5c1ErYFeLZGuehPtnPx49Fgkfr+1+ovfV9nVFHxueFYUOvQAAAE1UWNMkjWnRC0MghOl5QGmlmTRJrhp0i/htPhrYoMd6nYXWRfW30EAGTdSTqKH3g9Sap3VO9/tb1cLXrKsmnu9+dT3ur1qElsIQD1sAAIBmLEzPk8YkTWEIhLBPE1BaaSZNtVVmVGXKVclJUjvcGRb7WLxjsdBC644ut5B347dJSqwmWtxokV37zq4oBeF2+Hht95PuFuHjuSipU3UsGUdaAACAZqx7h+pK0/JGjB0PezQJa5qA0kozadJ6obBGKEnrgqZGh3lp7PdOFrq/EhANaNCo8nkWcy2yfcpCY8mzW/MkrF3KfjxhjVJ4PLXdb7CFRqjne9xKqDT0Ihm5HicAAGhGuneqTnAalTTFlaYWLZzr3JZKE1BKaSZNGhOuKXhqrwuUfBxkoY8VQgMh3rRQArKjxakWV1rk8mmL1yy0KW22ZyyWWKh6laRES8mOJvqJkpxXLXLdT69UD/hbAAAABerSrrVr3TLq8k+uS6qv8G+1nqll/PkAlEaaSdNfLGZbaH8mjRjXCHIdq1J0tUWgREpriH7ob0V0Sea3FhrscITF+RYvWKgS9GuLbHtbjLbIVWUSvcpog1qtebrM4nCLH1l8zuL7FsnLPv9ncZiFHqPup/2ZtKfT7yySm+UCAADUqUWLFpkJesvXNjxpCtPzWM8ElF6aSdNaCyU8GoigfY6099FMiwkW2nMpHyVRaslT4qLqzgUW11gcZZGrrq1kSI2+Ws9UGw2X+LLFJywetPikxXkWf7JI0hCJj1uoSqb7KWnS5rYXWQAAANRbGBHeuPa8aE0Tk/OA0kszaRK1u33UQmPAFSdbzLFIUjVKNeZkpUmvCtrEtq9FOwvty6Rqj/ZKyuVrFnoFec/fqp0Sp5EW+px6e4VFLndY7GGh+2lsuKpSahUEAACot7DBbWPa8zKVJpImoOTSTpoAAACavbBXUzEGQdCeB5QeSRMAAEDKMmuairBPU2j1A1A6JE0AAAApCxvcrizCPk205wGlR9IEAACQsur2vMZXmtjYFig9kiYAAICUhfY8DXPYuk1DguunqqoqMQiCNU1AqZE0AQAApCxMz7PcJ1Mxqo/1m7e6zVujZKtbnIABKB2SJgAAgJSFSpM0ZIJe2KNJWNMElB5JEwAAQMq6d4gqTdKQdU2hNU9Y0wSUHkkTAABAynp0qk50Vq5vSKUpkTRRaQJKjqQJAAAgZWFNkyxf29hKE4MggFIjaQIAAEhZ+zatXLvW0WlYQ9Y0rUxUmtjcFig9kiYAAIAyCNWmZAJUqDAIonXLFq6DJWAASoukCQAAoAzCBL2GTc+LEi0NgWjRooU/BlA6JE0AAABlUJ00NXxNExvbAukgaQIAACiDTHteA5Km0NLHeiYgHSRNAAAAZdA9Tpoas7ktezQB6SBpAgAAKIPQnreiUe15JE1AGkiaAAAAyqBHJmlqQKUpJE3s0QSkgqQJAACgDEJ73tpNW92mLdv8caEy7XlUmoBUkDQBAACUQffEeqT6VpvCIAjWNAHpIGkCAAAogx6dokqT1Gfs+LZtVW51pj2PpAlIA0kTAABAGYQ1TVKfStPaTVuc5U0e+zQB6SBpAgAAKIOwpknqU2latSFazyRUmoB0kDQBAACUQXJj2vpUmpKb4bK5LZAOkiYAAIAyaNOqpevSLmqvWxEPdihEGDcuTM8D0kHSBAAAUCbdO0VJz/J6VJpWJRIs9mkC0kHSBAAAUCbdO0TrmlasbeCaJipNQCpImgAAAMqkezxBb8X6+lea2rZu6dq3aeWPAZQWSRMAAECZ9Ign6NVnel7Y2JYhEEB6SJoAAADKJFNpqs+aprCxLXs0AakhaQIAACiTsFfTivrs07Q+WtPEHk1AekiaAAAAyqRHptK02VVVVfnjulRXmkiagLSQNAEAAJRJaM/btHWbW7dpqz+uC2uagPSRNAEAAJRJaM+TQje4DdPz2KMJSA9JEwAAQJmE6XmyfG1hwyBWx/s00Z4HpIekCQAAoEy6J1rsCh0GUV1pImkC0kLSBAAAUCbJSlMhG9xu3VblVm+k0gSkjaQJAACgTLq0b+1atoiOC9ngdnU8OU8YBAGkh6QJAACgTFpaxhSSnxUFrGkKezQJgyCA9JA0AQAAlFFo0Stkel7Yo0lozwPSQ9IEAABQRmGvpuXrCqk0JZIm2vOA1JA0AQAAlFHYq6mQ6Xk1K0205wFpIWkCAAAoo1BpWlFApWkllSagLNJOmgZa3Gax0mKVxe0WO1sUYoiF/u0Ki7UWj1qMs8hlJ4trLBZZbLSYZXGZRXC4RVWe2N8i+IdFrvv8ygIAAKBRMmuaCqk0xYMgOrZt5dq04to3kJY0f9s6WjxisavFWRZnWoy0UPLTySKfXhZPWYy1+KLFaRatLPRvd7NIGmwx2WKExfkWR1lcarHVInjJ4oAcMdVCidbzFkmLLbLv+3sLAACARgkb3Ba0piluz2MIBJCuNJOmsy2GWpxkcafFXRYnWAyyUCKUz5cs+loca3Grxd0Wx1ist1BClHSVxQKLIyz+ZfGYhapFP7AIVOV6NivetVACdoNFMsESvYpl33+uBQAAQKN07xRVmtR6t22bmllqFwZBMG4cSFeaSZMSJCUbM/ytiNrmJlmc6G/VTu1yb8cRrLF4wuI4i/DKMcxClaU/WNRd465JlS9tL3etvwUAAJCCHvGaJuVLqzdU78OUS1jTxMa2QLrSTJp2t5gSHdbwhsWo6LBWqvzkqllrvVIHCyVLclD8dp3F/yz08eUW11moxS+fT1uobS/XY+xjscRCr2TTLb5hQSMxAABotLCmSepq0VsVJ1W05wHpSvPEv6eFEphsyyx6RIe1mmahNUrJxEePfXx06D+37Bi/1RAIJTdHW1xkoWrUHRa10Rolff5cVaZXLL5pcYqFWgufsfi1hapZ+egxDc+KQodeAACAZiJZNaozacq055E0AWlKu1qSq1FXLXF10TolPVZVjLQuqr+FBjFoop5si9+G/5/HLc6z0OCJqy00EOJQi8MsctFgCr0K3eRv1XS5hRIkDZ241+IzFldYaJ2Vhk7U5qsWoaUwxMMWAAAAGT3iNU2yIjFSPJfqQRCsaQLSlGbSpCpTqAglqcqUqwKVpLVPZ1jsY/GOxUKLgy2U0IiGOMjS+O1/47dBuD0mfpvUzuITFvdZqAWvEDdaKNnb19/KTUmdqlfJONICAAAgI6xpkrr2agojx6k0AelKM2nS2iWta8qm9Uwa9V0X7emk/Zd0fyUge1poVPk8izDJTl9DsqtX4Xb7+G2SBlQocavPAIjw+fKNuFHboYZeJIOJewAAoIYObVq5tvGeS8vX5q80MQgCKI80kyaNCdcUPLXXBWpv0/AGfawQGgjxpoUSEK1fOtXiSotA0/m0z5Im6CWF29n7L4la81ShUqWpUKdbqCUw1+cDAAAoWIsWLVz3uNqUrz1v05Ztbv3maFcUBkEA6UozafqLxWwL7c+kEeOq8OhYlSKtOwqUSKmC80N/K6JXht9aaBCD9l/SGqUXLFRZ0lCGQDVrDX7Qfk5aB/Uhi69YaE2S1hNprVOSpuIpodJaplyvUtpDSvs8nWMx0UKPWRWpL1voc86xAAAAaJQwQS9fe97qeD2TsE8TkK40k6a1Fkp4NBDhegttIjvTYoKF9lzKR0mUWvKUXD1gcYGFJuQp4cl+dVFSo/HhWvOkwQ3fi9+Xay8orZPSq05trXmrLVZYXGyhz3WLhVoMz7X4ugUAAECjdYsrTcvX1V5pCuPGhUoTkK40kybRmp6PWnSN42SL7GqNqlFaM5SsNOlVQmPD+1pocIP2ZVIypP2YclFSNtpC99Wkva9ZKGnLpuqVvtaL/tYHaV2SqluqOGk9VEeLcRZK3vKtZwIAAChYGAaRr9IU1jMJgyCAdKWdNAEAACBLdXtenkpTImliEASQLpImAACAMqtuz6u90hT2aBLa84B0kTQBAACUWag0rcxbaape09SZzW2BVJE0AQAAlFlY07R64xa3eat2NfmgUGnq0q61a9Uye0tKAKVE0gQAAFBm3TpElSapbV1TGATBEAggfSRNAAAAZRYqTbJyfe51TWEQBEkTkD6SJgAAgDLr0am60lTbXk1hn6aurGcCUkfSBAAAUGbdE9Wj5WupNAGVhqQJAACgzLrH0/NkRWI/pqSwpok9moD0kTQBAACUWdvWLV2ntq388Ypa9moK0/PYowlIH0kTAABABQjVplrXNMX7NHXtwJomIG0kTQAAABWgezxBr7aR41SagPIhaQIAAKgAPeJKU672vA2bt7pNW6JNbxkEAaSPpAkAAKAChErT8hxJU5icJwyCANJH0gQAAFAB8rXnhdY8YZ8mIH0kTQAAABWguj3vg0nTyngIhNCeB6SPpAkAAKACVE/Py9Gel6w0kTQBqSNpAgAAqADd42Ro45Ztbv2mrf44YE0TUF4kTQAAABWgR6fqZGjF+prVppA0tWzhMpvgAkgPSRMAAEAFCO15snxtzXVNqzaEjW3buBYtLHMCkCqSJgAAgAoQ2vMke6+mUGliY1ugPEiaAAAAKkCYnicrEmuYJAyC6NqBceNAOZA0AQAAVICo9S46zp6gtzJOohgCAZQHSRMAAEAFaNWyRab9LnuvplXxPk205wHlQdIEAABQIXp0DElT1pqm0J5H0gSUBUkTAABAhaje4Da70sSaJqCcSJoAAAAqRPdaKk1hTROVJqA8SJoAAAAqRJigl1zTVFVVldmnqVucVAFIF0kTAABAhQiVpuT0vHWbtrqt26r8MZUmoDxImgAAACpE9w4frDSFIRDCmiagPEiaAAAAKkSPTvGapvWbfVuehHHjQqUJKA+SJgAAgAoRpuepHW/1xihZCkMghM1tgfIgaQIAAKgQ3RNJ0Yq1UbIUxo1LV5ImoCxImgAAACpEmJ4nK9ZHwyBqrGmiPQ8oC5ImAACAChGm50nY4DZUmtq0auHat+HUDSgHfvMAAAAqRDJpChvcrowHQajK1KJFC38MIF0kTQAAABWic7vWrnXLKDEKY8dDex5DIIDyIWkCAACoEKokhQl6YYPb0J7XhaQJKBuSJgAAgArSI27Ry640dW3PxrZAuZA0AQAAVJCwrqm60hSvaaLSBJQNSRMAAEAFCe15odIUNrdlTRNQPiRNAAAAFaS6Pa/mPk3s0QSUT9pJ00CL2yxWWqyyuN1iZ4tCDLHQv11hsdbiUYtxFrnsZHGNxSKLjRazLC6zSHrMoipHnGeR7SSLVyw2WMy2uNiilQUAAEBRVQ+CiNc0xZWmrh1Y0wSUS5pJU0eLRyx2tTjL4kyLkRZKfjpZ5NPL4imLsRZftDjNQkmL/u1uFkmDLSZbjLA43+Ioi0sttlpke83igKz4l0WS/r2SO33Ooy1+b3GJxU8tAAAAiiqsaVKladu2Krd6Y/U+TQDKI82k6WyLoRaq2txpcZfFCRaDLJQI5fMli74Wx1rcanG3xTEW6y2UECVdZbHA4ggLJUCqKP3D4gcW2VZbPJsV71kk/dxCCds5FkrSfmOhhOnrFv0sAAAAiqZHXGlatWGLX89UpT4YwyAIoHzSTJqUICkpmeFvRdQ2N8niRH+rdvtbvB1HsMbiCYvjLEK9epiFKkN/sIhq2Y2jdsI9LW7wt6pdb6FXLlWeAAAAiqZ7Ijmau2xdfMQgCKCc0kyadreYEh3W8IbFqOiwVmqti1ZD1qT1Sh0slCzJQfFbvcL8z0IfX25xnYVa/LLtZaG1VUqwXrVQ22CSHrNkP24le/oadT1uAACAeglrmiSZNLFPE1A+aSZNPS2UwGRbZtEjOqzVNAutUUomPnrs46ND/7llx/ithkBMt1Al6CILVaPusEhSleoCi+MtPmExx0JtfN+2CMLnzfW49b7w8Vz0seFZUejQCwAA0Ez16JS70kR7HlA+aSZNEnfl1tAifpuP1inpsapipHVR/S00kEET9WRb/Db8/zxuoSl4GjxxtYUGQhxqcZhF8H2Lv1jovv+2UPvgfRZa+6TqlYTH1pDH/VWL0FIY4mELAACAWnXvUF1pmrNUA4MjDIIAyifNpKm2yoyqTLkqOUlqhzvDYh+LdywWWhxscbmFvBu/XRq//W/8Ngi3x8Rva3OThSb5jfa3oiqY5Hrc3S3Cx3NRUqfqWDKOtAAAAKhVmJ4nc5YmK0205wHlkmbSpLVLYY1QktYFTY0O89LYb+2/pPsrAdGABiU48yzmWoi+hmRXgcLt9vHb2mRXlsLny37cGmuuEer5HrcSKg29SEZ4nAAAADm1b9PKdbCQ0J7Xvk1L1641W0QC5ZJm0qQx4ZqCp/a6QMmHhjfoY4XQQIg3LZSAaP3SqRZXWgSazqcNbTVBLyncfj5+W5vTLTSVLyRLSnI0IEJVrqRPWWh4xAP+FgAAQBGFatOiVdpXn9Y8oNzSTJq0fmi2hfZn0ohxrSHSsSpFWncUKJFSpeeH/lZErxS/tdAeT9p/SWuUXrBQcvNri0C7v2nwg/Zz0jqoD1l8xUIjyLWeSOuX5BCLeyw+YzHB4mMW91po7ydtXKv9n4L/s9BaKD3Gwy20P9P3LH5noQQNAACgqMIEPfZoAipDmkmTVjIq4dFABO1zpL2PZlooaVF1Jx+9ZKglT4mLqjuaeqcJeaogZY8iv9bi0xZa86RESAmO3pfcC0proNQY/BOL/1hoal43i1Mswjqp4H6Lj1uoSvaghZImbW6r5AwAAKDoeiTWNQnjxoHyqmsCHIpLY8ffNm74cB0CAAB80JdvfNHd/3p1Q8uEXXq7v3827LRSmWbMmOFGjNA1bn+hW0spgCYjzUoTAAAACpDc4FZozwPKi6QJAACgwnywPY+kCSgnkiYAAIAKk9zgVtijCSgvkiYAAIAKk9zgVrrRngeUFUkTAABAhemRvaaJ9jygrEiaAAAAKkx2pYlBEEB5kTQBAABUmA9Mz6PSBJQVSRMAAECF+cD0PAZBAGVF0gQAAFBhsgc/MAgCKC+SJgAAgArTulVL16V9dXWJ9jygvEiaAAAAKlBygl4ygQKQPpImAACAChTWNXVq28pXngCUD7+BAAAAFahbXGli3DhQfiRNAAAAFShUmhgCAZQfSRMAAEAFOnRE7+jtyOgtgPJpEb9FOoZbvG3c8OE6BAAAqN3K9Zu3m0rTjBkz3IgRI3So/8zQAdBUUGkCAACoULTmAZWBpAkAAAAA8iBpAgAAAIA8SJoAAAAAIA+SJgAAAADIg6QJAAAAAPIgaQIAAACAPEiaAAAAACAPkiYAAAAAyIOkCQAAAADyIGkCAAAAgDxImgAAAAAgD5ImAAAAAMiDpAkAAAAA8iBpAgAAAIA8SJoAAAAAII8W8VukYzeLqQ899JAbNGhQ9B4AAIAmYM6cOW7ixIk6HGXxpg6ApoKkKV1HWDwcHQIAADRJR1o8Eh0CTQNJU7o6Wexn8a7FZr2jRHa2UHKmF625egeKjuc4HTzPpcdznA6e59LjOS69up7jNhb9LZ6zWKt3AEAlG25RFb9FafAcp4PnufR4jtPB81x6PMelx3OMZotBEAAAAACQB0kTAAAAAORB0gQAAAAAebSK36Lp2WDxmMV6fwulwHOcDp7n0uM5TgfPc+nxHJcezzEAAAAAAAAAAAAAAAAAAAAAAAAAAEA9DLS4zWKlxSqL2y20ezeK53ALbeyXHUssUH8DLP5g8YzFOgs9l4MtsrW3+JXFuxZafKz7H2qBwhT6PCd/ppMx2gL5fdxCr7lzLPQzOt3iJxadLZJ6WPzNYqnFWov/WYyxQN0KeY71c53rZ1iR/b3AB020eMRikcVGi/kWt1rsZpHE+QaA7VZHi7ctplicZHGixesW71h0skBxhKTpfIv9E7GPBepPz+d7FvdbPGih5zbXyfyNFisszrY40uIOC5007WmBuhX6POv9f7dI/mwrOlggv2ct/mlxhsVhFhdYLLeYZBG292hh8aSFTkRPs/iIxeMWuuiixBb5FfIch6TppxbZP8dss1K3Uy10gUoJqp7jMy3esFByFJIizjcAbNe+ZrHVYri/FRliscXiG/4WiiEkTboah8ZLnsR8wSLXyfweFnr/Z/2tSGsLXWW+299CXQp5nkXvvyw6RD31jt8mfcpCz+kR/lZ0cqnbE/ytSDeLZRa/97eQTyHPcUia9HOO4tjFQs/pN/0tzjfQTHHVpek4wUJX4Wb4W5FZFroCpz/UQCXaFr/NRz/bmy3UIhLoj/MtFkdZtNM7kFchzzMaZ3H8NunF+O1O8Vv9LC+0eNTfiugK/j0WvE7XrZDnGMUX2s/1Oiycb6BZImlqOna3UKk8m8rqo6JDFNFNFrrSpj8m11vwB7t09LOtP8hai5Okn+22FsmrnWi8L1loLYPW2zxkcYAFGkbtTfJm/Dbf67Ran1hzU3/Zz3HwMwtdXFFSeqdF9poc5NfKIry+XmWhZP9mC+F8A80SSVPT0dNCvd3Z1PahhccoDv0B/rXF5y3UDqK++WMsnrboZYHiy/ezLfo4iuMGiy9bqP1UyVM/C625OcgC9aMLKT+yUOL5gt5h6vpZ5rW6fnI9x0r4r7b4ooXaIC+02NtCQ1BGWKAwz1noudTaJa0d1d+7UOnjfAPAdm2Tha6sZdNkIV1tQ+nsZ6Gq0/f9LTRUbWttNF1MJzzZPmSh+x/ib6FQ+dY0ZetuscBC07RQOFWMdBKvq/PJAQ86AQ1X65M04ETfE00kQ2Fqe45z0c/6Gotr/C0UQpU5/W3TwBK1QGp4SXjN4HwDzRKVpqZDV31yXXHXVZ9cV4RQPLoip6lB+gOD4tPVy9p+tiVcpUfxaWLhfRb8bBdO4/HvshhqoTV3OtkM6vpZ5rW6MPme41xmW6gbgJ/jwqndUX/blORrYqmS1IsshPMNNEskTU2HeonVZ5xN/cVTo0OUkEYJ60oxik8/25rMpDG3SfrZ1hXP5GJkFB8/24VrY6GR2OMt1LarMcxJ+V6n51qoGoL86nqOa8PPccPp4oleZ8P6Uc43AGzXtF+FyuK68haolK5pN2FMKEpDVy81newSfwsNVVvbmPrp9f6z/K2IRo7rSqimjqF+GtKe97C/hXx0EVITHbV/WBh/nU172ui5D8MLpKuFNrrV5sPIr5DnOBdddFFCqk2FUX99LfT8aa2YcL6BZklXXtA0aEO5Vy30x+R7FvrD/GOLLhZjLbiCWRxaKK9WvJcsVltogfF3LTQgQhvc0ppQf9pEUdQCcq6FBhFowbFCQwgkjBf/toUm6WlIwXEWB1roe4G61fU8f8tCV5I1Dlsb4eokSM/3MAvtT6YRw6jdFRb6udS6jnv1jgS1jyl00v+UhdYu6bnV64VeP/Qarf3I5lmgdoU8xxrUo4tY+nlVMqq1OXqO9TdyX4uZFqjdvy30mvqaxSqLkRZft9BQGFX33rLgfAPAdk8ja++w0AudQi9+gyxQPPrjqz8mSpJ0VW2OxZUWfSzQMPqDmyseswg6WPzGYpHFBgudEOlEHoXL9RwrwvN8vIX2WdEYff1sK5nSa8heFqib1s3ken4VP7QItBbk7xZa36Qx+pr8phNN1K2Q5/hzFs9bKCHVz/G7FtoWQsk/6vYdCw1+UEuefj61ibgqTNmVac43AAAAAAAAAAAAAAAAAAAAAAAAAAAAAAAAAAAAAAAAAAAAAAAAAAAAAAAAAAAAAAAAAAAAAAAAAAAAAAAAAAAAAAAAAAAAAAAAAAAAAAAAAAAAAAAAAAAAAAAAAAAAAAAAAAAAAAAAAAAAAAAAAAAAAAAAAAAAAAAAAAAAAAAAAAAAAAAAAAAAAAAAAAAAAAAAAAAAAAAAAAAAAAAAAAAAAAAAAAAAAAAAAAAAAAAAAAAAAAAAAAAAAAAAAAAAAAAAAAAAAAAAAAAAAAAAAAAAAAAAAAAAAAAAAAAAAAAAAAAAAAAAAAAAAAAAAAAAAAAAAAAAAAAAAAAAAAAAAAAAAAAAAAAAAAAAAAAAAAAAAAAAAAAAAAAAAAAAAAAAAAAAAAAAAAAAAAAAAAAAAAAAAAAAAAAAAAAAAAAAAAAAAAAAAAAAAAAAAAAAAAAAAAAAAAAAAAAAAAAAAAAAAAAAAAAAAAAAAAAAAAAAAAAAAAAAAAAAAAAAAAAAAAAAAAAAAAAAAAAAAAAAAAAAAAAAAAAAAAAAAAAAAAAAAAAAAAAAAAAAAAAAAAAAAAAAAAAAAAAAAAAAAAAAAAAAAAAAAAAAAAAAAAAAAAAAAAAAAAAAAAAAAAAAAAAAAAAAAAAAAAAAAAAAAAAAAAAAAAAAAAAAAAAAAAAAAAAAAAAAAAAAAAAAAAAAAAAAAAAAAAAAAAAAAAAAAAAAAAAAAAAAAAAAAAAAAAAAAAAAAAAAAAAAAAAAAAAAAAAAAAAAAAAAAAAAAAAAAAAAAAAAAAAoK+f+Pw7AOKLck/dYAAAAAElFTkSuQmCC\" width=\"734.7826239292025\">"
      ],
      "text/plain": [
       "<IPython.core.display.HTML object>"
      ]
     },
     "metadata": {},
     "output_type": "display_data"
    },
    {
     "data": {
      "text/plain": [
       "<matplotlib.legend.Legend at 0x16dea71bf60>"
      ]
     },
     "execution_count": 131,
     "metadata": {},
     "output_type": "execute_result"
    }
   ],
   "source": [
    "%matplotlib notebook\n",
    "import matplotlib as plt    \n",
    "import matplotlib.pyplot as plt\n",
    "\n",
    "# Vẽ: \n",
    "plt.plot(Accuracy, label = \"Accuracy Rate for 30 samples\")\n",
    "plt.legend()"
   ]
  },
  {
   "cell_type": "markdown",
   "metadata": {},
   "source": [
    "### 3. XGBoots (Draft Version)"
   ]
  },
  {
   "cell_type": "code",
   "execution_count": 164,
   "metadata": {},
   "outputs": [
    {
     "name": "stdout",
     "output_type": "stream",
     "text": [
      "<class 'pandas.core.frame.DataFrame'>\n",
      "RangeIndex: 5960 entries, 0 to 5959\n",
      "Data columns (total 13 columns):\n",
      "BAD        5960 non-null int8\n",
      "LOAN       5960 non-null int64\n",
      "MORTDUE    5960 non-null float64\n",
      "VALUE      5960 non-null float64\n",
      "REASON     5960 non-null int8\n",
      "JOB        5960 non-null int8\n",
      "YOJ        5960 non-null float64\n",
      "DEROG      5960 non-null float64\n",
      "DELINQ     5960 non-null float64\n",
      "CLAGE      5960 non-null float64\n",
      "NINQ       5960 non-null float64\n",
      "CLNO       5960 non-null float64\n",
      "DEBTINC    5960 non-null float64\n",
      "dtypes: float64(9), int64(1), int8(3)\n",
      "memory usage: 483.2 KB\n"
     ]
    }
   ],
   "source": [
    "# XGBoots: \n",
    "final_df.info()"
   ]
  },
  {
   "cell_type": "code",
   "execution_count": 211,
   "metadata": {
    "collapsed": true
   },
   "outputs": [],
   "source": [
    "for feature in final_df.columns:\n",
    "    if final_df[feature].dtype == 'object': \n",
    "        final_df[feature] = pd.Categorical(final_df[feature]).codes "
   ]
  },
  {
   "cell_type": "code",
   "execution_count": 212,
   "metadata": {},
   "outputs": [
    {
     "name": "stdout",
     "output_type": "stream",
     "text": [
      "<class 'pandas.core.frame.DataFrame'>\n",
      "RangeIndex: 5960 entries, 0 to 5959\n",
      "Data columns (total 13 columns):\n",
      "BAD        5960 non-null int8\n",
      "LOAN       5960 non-null int64\n",
      "MORTDUE    5960 non-null float64\n",
      "VALUE      5960 non-null float64\n",
      "REASON     5960 non-null int8\n",
      "JOB        5960 non-null int8\n",
      "YOJ        5960 non-null float64\n",
      "DEROG      5960 non-null float64\n",
      "DELINQ     5960 non-null float64\n",
      "CLAGE      5960 non-null float64\n",
      "NINQ       5960 non-null float64\n",
      "CLNO       5960 non-null float64\n",
      "DEBTINC    5960 non-null float64\n",
      "dtypes: float64(9), int64(1), int8(3)\n",
      "memory usage: 483.2 KB\n"
     ]
    }
   ],
   "source": [
    "final_df.info()"
   ]
  },
  {
   "cell_type": "code",
   "execution_count": 213,
   "metadata": {},
   "outputs": [],
   "source": [
    "final_train = final_df.sample(frac = 0.7, random_state = 200)\n",
    "final_test = final_df.drop(final_train.index)"
   ]
  },
  {
   "cell_type": "code",
   "execution_count": 214,
   "metadata": {},
   "outputs": [
    {
     "name": "stdout",
     "output_type": "stream",
     "text": [
      "<class 'pandas.core.frame.DataFrame'>\n",
      "Int64Index: 1788 entries, 2 to 5956\n",
      "Data columns (total 13 columns):\n",
      "BAD        1788 non-null int8\n",
      "LOAN       1788 non-null int64\n",
      "MORTDUE    1788 non-null float64\n",
      "VALUE      1788 non-null float64\n",
      "REASON     1788 non-null int8\n",
      "JOB        1788 non-null int8\n",
      "YOJ        1788 non-null float64\n",
      "DEROG      1788 non-null float64\n",
      "DELINQ     1788 non-null float64\n",
      "CLAGE      1788 non-null float64\n",
      "NINQ       1788 non-null float64\n",
      "CLNO       1788 non-null float64\n",
      "DEBTINC    1788 non-null float64\n",
      "dtypes: float64(9), int64(1), int8(3)\n",
      "memory usage: 158.9 KB\n"
     ]
    }
   ],
   "source": [
    "final_test.info()"
   ]
  },
  {
   "cell_type": "code",
   "execution_count": 215,
   "metadata": {},
   "outputs": [
    {
     "name": "stdout",
     "output_type": "stream",
     "text": [
      "<class 'pandas.core.frame.DataFrame'>\n",
      "Int64Index: 4172 entries, 5722 to 4961\n",
      "Data columns (total 13 columns):\n",
      "BAD        4172 non-null int8\n",
      "LOAN       4172 non-null int64\n",
      "MORTDUE    4172 non-null float64\n",
      "VALUE      4172 non-null float64\n",
      "REASON     4172 non-null int8\n",
      "JOB        4172 non-null int8\n",
      "YOJ        4172 non-null float64\n",
      "DEROG      4172 non-null float64\n",
      "DELINQ     4172 non-null float64\n",
      "CLAGE      4172 non-null float64\n",
      "NINQ       4172 non-null float64\n",
      "CLNO       4172 non-null float64\n",
      "DEBTINC    4172 non-null float64\n",
      "dtypes: float64(9), int64(1), int8(3)\n",
      "memory usage: 370.8 KB\n"
     ]
    }
   ],
   "source": [
    "final_train.info()"
   ]
  },
  {
   "cell_type": "code",
   "execution_count": 216,
   "metadata": {
    "collapsed": true
   },
   "outputs": [],
   "source": [
    "y_train = final_train.pop('BAD')\n",
    "y_test = final_test.pop('BAD')"
   ]
  },
  {
   "cell_type": "code",
   "execution_count": 217,
   "metadata": {},
   "outputs": [],
   "source": [
    "import xgboost as xgb"
   ]
  },
  {
   "cell_type": "code",
   "execution_count": 218,
   "metadata": {
    "collapsed": true
   },
   "outputs": [],
   "source": [
    "from sklearn.grid_search import GridSearchCV"
   ]
  },
  {
   "cell_type": "code",
   "execution_count": 219,
   "metadata": {
    "collapsed": true
   },
   "outputs": [],
   "source": [
    "cv_params = {'max_depth': [3,5,7], \n",
    "             'min_child_weight': [1,3,5]}\n",
    "\n",
    "ind_params = {'learning_rate': 0.1, \n",
    "              'n_estimators': 1000, \n",
    "              'seed': 0, \n",
    "              'subsample': 0.8, \n",
    "              'colsample_bytree': 0.8, \n",
    "             'objective': 'binary:logistic'}\n",
    "\n",
    "optimized_GBM = GridSearchCV(xgb.XGBClassifier(**ind_params), \n",
    "                             cv_params, \n",
    "                             scoring = 'accuracy', \n",
    "                             cv = 5, \n",
    "                             n_jobs = -1) \n"
   ]
  },
  {
   "cell_type": "code",
   "execution_count": 221,
   "metadata": {},
   "outputs": [
    {
     "data": {
      "text/plain": [
       "GridSearchCV(cv=5, error_score='raise',\n",
       "       estimator=XGBClassifier(base_score=0.5, booster='gbtree', colsample_bylevel=1,\n",
       "       colsample_bytree=0.8, gamma=0, learning_rate=0.1, max_delta_step=0,\n",
       "       max_depth=3, min_child_weight=1, missing=None, n_estimators=1000,\n",
       "       n_jobs=1, nthread=None, objective='binary:logistic', random_state=0,\n",
       "       reg_alpha=0, reg_lambda=1, scale_pos_weight=1, seed=0, silent=True,\n",
       "       subsample=0.8),\n",
       "       fit_params={}, iid=True, n_jobs=-1,\n",
       "       param_grid={'max_depth': [3, 5, 7], 'min_child_weight': [1, 3, 5]},\n",
       "       pre_dispatch='2*n_jobs', refit=True, scoring='accuracy', verbose=0)"
      ]
     },
     "execution_count": 221,
     "metadata": {},
     "output_type": "execute_result"
    }
   ],
   "source": [
    "optimized_GBM.fit(final_train, y_train)"
   ]
  },
  {
   "cell_type": "code",
   "execution_count": 179,
   "metadata": {
    "collapsed": true
   },
   "outputs": [],
   "source": [
    "from xgboost import XGBClassifier"
   ]
  },
  {
   "cell_type": "code",
   "execution_count": 180,
   "metadata": {},
   "outputs": [
    {
     "data": {
      "text/plain": [
       "GridSearchCV(cv=5, error_score='raise',\n",
       "       estimator=XGBClassifier(base_score=0.5, booster='gbtree', colsample_bylevel=1,\n",
       "       colsample_bytree=0.8, gamma=0, learning_rate=0.1, max_delta_step=0,\n",
       "       max_depth=3, min_child_weight=1, missing=None, n_estimators=1000,\n",
       "       n_jobs=1, nthread=-1, objective='binary:logistic', random_state=0,\n",
       "       reg_alpha=0, reg_lambda=1, scale_pos_weight=1, seed=0, silent=True,\n",
       "       subsample=0.8),\n",
       "       fit_params={}, iid=True, n_jobs=-1,\n",
       "       param_grid={'min_child_weight': [1, 3, 5], 'max_depth': [3, 5, 7]},\n",
       "       pre_dispatch='2*n_jobs', refit=True, scoring='accuracy', verbose=0)"
      ]
     },
     "execution_count": 180,
     "metadata": {},
     "output_type": "execute_result"
    }
   ],
   "source": [
    "\n",
    "GridSearchCV(cv=5, \n",
    "             error_score='raise',\n",
    "             estimator=XGBClassifier(base_score=0.5, \n",
    "                                     colsample_bylevel=1, \n",
    "                                     colsample_bytree=0.8,\n",
    "                                     gamma=0, \n",
    "                                     learning_rate=0.1, \n",
    "                                     max_delta_step=0, \n",
    "                                     max_depth=3,\n",
    "                                     min_child_weight=1, \n",
    "                                     missing=None, \n",
    "                                     n_estimators=1000, \n",
    "                                     nthread=-1,\n",
    "                                     objective='binary:logistic', \n",
    "                                     reg_alpha=0, \n",
    "                                     reg_lambda=1,\n",
    "                                     scale_pos_weight=1,\n",
    "                                     seed=0, \n",
    "                                     silent=True, \n",
    "                                     subsample=0.8),\n",
    "             fit_params={}, \n",
    "             iid=True, \n",
    "             n_jobs=-1,\n",
    "             param_grid = {'min_child_weight': [1, 3, 5], \n",
    "                           'max_depth': [3, 5, 7]},\n",
    "             pre_dispatch='2*n_jobs', \n",
    "             refit=True, \n",
    "             scoring='accuracy', \n",
    "             verbose=0)"
   ]
  },
  {
   "cell_type": "code",
   "execution_count": 181,
   "metadata": {},
   "outputs": [
    {
     "data": {
      "text/plain": [
       "[mean: 0.91826, std: 0.00850, params: {'max_depth': 3, 'min_child_weight': 1},\n",
       " mean: 0.91802, std: 0.00909, params: {'max_depth': 3, 'min_child_weight': 3},\n",
       " mean: 0.91563, std: 0.00874, params: {'max_depth': 3, 'min_child_weight': 5},\n",
       " mean: 0.92929, std: 0.00769, params: {'max_depth': 5, 'min_child_weight': 1},\n",
       " mean: 0.92330, std: 0.00732, params: {'max_depth': 5, 'min_child_weight': 3},\n",
       " mean: 0.91874, std: 0.00530, params: {'max_depth': 5, 'min_child_weight': 5},\n",
       " mean: 0.92641, std: 0.00822, params: {'max_depth': 7, 'min_child_weight': 1},\n",
       " mean: 0.92378, std: 0.00659, params: {'max_depth': 7, 'min_child_weight': 3},\n",
       " mean: 0.92066, std: 0.00459, params: {'max_depth': 7, 'min_child_weight': 5}]"
      ]
     },
     "execution_count": 181,
     "metadata": {},
     "output_type": "execute_result"
    }
   ],
   "source": [
    "optimized_GBM.grid_scores_"
   ]
  },
  {
   "cell_type": "code",
   "execution_count": 182,
   "metadata": {},
   "outputs": [
    {
     "data": {
      "text/plain": [
       "GridSearchCV(cv=5, error_score='raise',\n",
       "       estimator=XGBClassifier(base_score=0.5, booster='gbtree', colsample_bylevel=1,\n",
       "       colsample_bytree=0.8, gamma=0, learning_rate=0.1, max_delta_step=0,\n",
       "       max_depth=3, min_child_weight=1, missing=None, n_estimators=1000,\n",
       "       n_jobs=1, nthread=None, objective='binary:logistic', random_state=0,\n",
       "       reg_alpha=0, reg_lambda=1, scale_pos_weight=1, seed=0, silent=True,\n",
       "       subsample=1),\n",
       "       fit_params={}, iid=True, n_jobs=-1,\n",
       "       param_grid={'learning_rate': [0.1, 0.01], 'subsample': [0.7, 0.8, 0.9]},\n",
       "       pre_dispatch='2*n_jobs', refit=True, scoring='accuracy', verbose=0)"
      ]
     },
     "execution_count": 182,
     "metadata": {},
     "output_type": "execute_result"
    }
   ],
   "source": [
    "cv_params = {'learning_rate': [0.1, 0.01], \n",
    "             'subsample': [0.7,0.8,0.9]}\n",
    "\n",
    "ind_params = {'n_estimators': 1000, \n",
    "              'seed':0, \n",
    "              'colsample_bytree': 0.8, \n",
    "             'objective': 'binary:logistic', \n",
    "              'max_depth': 3, \n",
    "              'min_child_weight': 1}\n",
    "\n",
    "\n",
    "optimized_GBM = GridSearchCV(xgb.XGBClassifier(**ind_params), \n",
    "                            cv_params, \n",
    "                             scoring = 'accuracy', \n",
    "                             cv = 5, \n",
    "                             n_jobs = -1)\n",
    "\n",
    "optimized_GBM.fit(final_train, y_train)"
   ]
  },
  {
   "cell_type": "code",
   "execution_count": 183,
   "metadata": {},
   "outputs": [
    {
     "data": {
      "text/plain": [
       "GridSearchCV(cv=5, error_score='raise',\n",
       "       estimator=XGBClassifier(base_score=0.5, booster='gbtree', colsample_bylevel=1,\n",
       "       colsample_bytree=0.8, gamma=0, learning_rate=0.1, max_delta_step=0,\n",
       "       max_depth=3, min_child_weight=1, missing=None, n_estimators=1000,\n",
       "       n_jobs=1, nthread=-1, objective='binary:logistic', random_state=0,\n",
       "       reg_alpha=0, reg_lambda=1, scale_pos_weight=1, seed=0, silent=True,\n",
       "       subsample=1),\n",
       "       fit_params={}, iid=True, n_jobs=-1,\n",
       "       param_grid={'subsample': [0.7, 0.8, 0.9], 'learning_rate': [0.1, 0.01]},\n",
       "       pre_dispatch='2*n_jobs', refit=True, scoring='accuracy', verbose=0)"
      ]
     },
     "execution_count": 183,
     "metadata": {},
     "output_type": "execute_result"
    }
   ],
   "source": [
    "GridSearchCV(cv=5, \n",
    "             error_score='raise',\n",
    "             estimator = XGBClassifier(base_score=0.5, \n",
    "                                       colsample_bylevel=1, \n",
    "                                       colsample_bytree=0.8,\n",
    "                                       gamma=0, \n",
    "                                       learning_rate=0.1, \n",
    "                                       max_delta_step=0, \n",
    "                                       max_depth=3,\n",
    "                                       min_child_weight=1, \n",
    "                                       missing=None, \n",
    "                                       n_estimators=1000, \n",
    "                                       nthread=-1,\n",
    "                                       objective='binary:logistic', \n",
    "                                       reg_alpha=0, \n",
    "                                       reg_lambda=1,\n",
    "                                       scale_pos_weight=1, \n",
    "                                       seed=0, \n",
    "                                       silent=True, \n",
    "                                       subsample=1),\n",
    "             fit_params={}, \n",
    "             iid=True, \n",
    "             n_jobs=-1,\n",
    "             param_grid={'subsample': [0.7, 0.8, 0.9], \n",
    "                         'learning_rate': [0.1, 0.01]},\n",
    "             pre_dispatch='2*n_jobs', \n",
    "             refit=True, \n",
    "             scoring='accuracy', \n",
    "             verbose=0)"
   ]
  },
  {
   "cell_type": "code",
   "execution_count": 184,
   "metadata": {},
   "outputs": [
    {
     "data": {
      "text/plain": [
       "[mean: 0.92138, std: 0.00912, params: {'learning_rate': 0.1, 'subsample': 0.7},\n",
       " mean: 0.91826, std: 0.00850, params: {'learning_rate': 0.1, 'subsample': 0.8},\n",
       " mean: 0.91898, std: 0.00872, params: {'learning_rate': 0.1, 'subsample': 0.9},\n",
       " mean: 0.90125, std: 0.00922, params: {'learning_rate': 0.01, 'subsample': 0.7},\n",
       " mean: 0.90149, std: 0.00868, params: {'learning_rate': 0.01, 'subsample': 0.8},\n",
       " mean: 0.90077, std: 0.01025, params: {'learning_rate': 0.01, 'subsample': 0.9}]"
      ]
     },
     "execution_count": 184,
     "metadata": {},
     "output_type": "execute_result"
    }
   ],
   "source": [
    "optimized_GBM.grid_scores_"
   ]
  },
  {
   "cell_type": "code",
   "execution_count": 189,
   "metadata": {
    "collapsed": true
   },
   "outputs": [],
   "source": [
    "xgdmat = xgb.DMatrix(final_train, y_train) # Create "
   ]
  },
  {
   "cell_type": "code",
   "execution_count": 190,
   "metadata": {},
   "outputs": [],
   "source": [
    "\n",
    "\n",
    "our_params = {'eta': 0.1, \n",
    "              'seed':0,\n",
    "              'subsample': 0.7, \n",
    "              'colsample_bytree': 0.7, \n",
    "             'objective': 'binary:logistic', \n",
    "              'max_depth':3, \n",
    "              'min_child_weight':1} \n",
    "\n",
    "\n",
    "cv_xgb = xgb.cv(params = our_params,\n",
    "                dtrain = xgdmat, \n",
    "                num_boost_round = 3000, \n",
    "                nfold = 5,\n",
    "                metrics = ['error'], \n",
    "                early_stopping_rounds = 100)"
   ]
  },
  {
   "cell_type": "code",
   "execution_count": 191,
   "metadata": {},
   "outputs": [
    {
     "data": {
      "text/html": [
       "<div>\n",
       "<style scoped>\n",
       "    .dataframe tbody tr th:only-of-type {\n",
       "        vertical-align: middle;\n",
       "    }\n",
       "\n",
       "    .dataframe tbody tr th {\n",
       "        vertical-align: top;\n",
       "    }\n",
       "\n",
       "    .dataframe thead th {\n",
       "        text-align: right;\n",
       "    }\n",
       "</style>\n",
       "<table border=\"1\" class=\"dataframe\">\n",
       "  <thead>\n",
       "    <tr style=\"text-align: right;\">\n",
       "      <th></th>\n",
       "      <th>test-error-mean</th>\n",
       "      <th>test-error-std</th>\n",
       "      <th>train-error-mean</th>\n",
       "      <th>train-error-std</th>\n",
       "    </tr>\n",
       "  </thead>\n",
       "  <tbody>\n",
       "    <tr>\n",
       "      <th>769</th>\n",
       "      <td>0.080777</td>\n",
       "      <td>0.014504</td>\n",
       "      <td>0.005573</td>\n",
       "      <td>0.000588</td>\n",
       "    </tr>\n",
       "    <tr>\n",
       "      <th>770</th>\n",
       "      <td>0.080777</td>\n",
       "      <td>0.014504</td>\n",
       "      <td>0.005333</td>\n",
       "      <td>0.000398</td>\n",
       "    </tr>\n",
       "    <tr>\n",
       "      <th>771</th>\n",
       "      <td>0.080298</td>\n",
       "      <td>0.014431</td>\n",
       "      <td>0.005453</td>\n",
       "      <td>0.000516</td>\n",
       "    </tr>\n",
       "    <tr>\n",
       "      <th>772</th>\n",
       "      <td>0.080298</td>\n",
       "      <td>0.014431</td>\n",
       "      <td>0.005393</td>\n",
       "      <td>0.000600</td>\n",
       "    </tr>\n",
       "    <tr>\n",
       "      <th>773</th>\n",
       "      <td>0.080058</td>\n",
       "      <td>0.014458</td>\n",
       "      <td>0.005273</td>\n",
       "      <td>0.000617</td>\n",
       "    </tr>\n",
       "  </tbody>\n",
       "</table>\n",
       "</div>"
      ],
      "text/plain": [
       "     test-error-mean  test-error-std  train-error-mean  train-error-std\n",
       "769         0.080777        0.014504          0.005573         0.000588\n",
       "770         0.080777        0.014504          0.005333         0.000398\n",
       "771         0.080298        0.014431          0.005453         0.000516\n",
       "772         0.080298        0.014431          0.005393         0.000600\n",
       "773         0.080058        0.014458          0.005273         0.000617"
      ]
     },
     "execution_count": 191,
     "metadata": {},
     "output_type": "execute_result"
    }
   ],
   "source": [
    "cv_xgb.tail(5)"
   ]
  },
  {
   "cell_type": "code",
   "execution_count": 192,
   "metadata": {
    "collapsed": true
   },
   "outputs": [],
   "source": [
    "our_params = {'eta': 0.1,\n",
    "              'seed':0, \n",
    "              'subsample': 0.8, \n",
    "              'colsample_bytree': 0.8, \n",
    "             'objective': 'binary:logistic',\n",
    "              'max_depth':3, \n",
    "              'min_child_weight':1} \n",
    "\n",
    "final_gb = xgb.train(our_params, xgdmat, num_boost_round = 432)"
   ]
  },
  {
   "cell_type": "code",
   "execution_count": 193,
   "metadata": {
    "collapsed": true
   },
   "outputs": [],
   "source": [
    "%matplotlib inline"
   ]
  },
  {
   "cell_type": "code",
   "execution_count": 194,
   "metadata": {},
   "outputs": [
    {
     "data": {
      "text/plain": [
       "{'CLAGE': 380,\n",
       " 'CLNO': 320,\n",
       " 'DEBTINC': 319,\n",
       " 'DELINQ': 123,\n",
       " 'DEROG': 120,\n",
       " 'JOB': 108,\n",
       " 'LOAN': 284,\n",
       " 'MORTDUE': 374,\n",
       " 'NINQ': 113,\n",
       " 'REASON': 31,\n",
       " 'VALUE': 373,\n",
       " 'YOJ': 208}"
      ]
     },
     "execution_count": 194,
     "metadata": {},
     "output_type": "execute_result"
    }
   ],
   "source": [
    "importances = final_gb.get_fscore()\n",
    "importances"
   ]
  },
  {
   "cell_type": "code",
   "execution_count": 206,
   "metadata": {},
   "outputs": [
    {
     "data": {
      "text/plain": [
       "<matplotlib.axes._subplots.AxesSubplot at 0x16dec89def0>"
      ]
     },
     "execution_count": 206,
     "metadata": {},
     "output_type": "execute_result"
    },
    {
     "data": {
      "image/png": "[encoded data removed]",
      "text/plain": [
       "<matplotlib.figure.Figure at 0x16dec8656d8>"
      ]
     },
     "metadata": {},
     "output_type": "display_data"
    }
   ],
   "source": [
    "import seaborn as sns\n",
    "sns.set(font_scale = 1.2)\n",
    "\n",
    "importance_frame = pd.DataFrame({'Importance': list(importances.values()), 'Feature': list(importances.keys())})\n",
    "importance_frame.sort_values(by = 'Importance', inplace = True)\n",
    "importance_frame.plot(kind = 'barh', x = 'Feature', figsize = (8, 8), color = 'blue')"
   ]
  },
  {
   "cell_type": "code",
   "execution_count": 198,
   "metadata": {
    "collapsed": true
   },
   "outputs": [],
   "source": [
    "testdmat = xgb.DMatrix(final_test)"
   ]
  },
  {
   "cell_type": "code",
   "execution_count": 199,
   "metadata": {},
   "outputs": [
    {
     "data": {
      "text/plain": [
       "array([ 0.01208448,  0.11519881,  0.16189577, ...,  0.98975044,\n",
       "        0.92901266,  0.98955524], dtype=float32)"
      ]
     },
     "execution_count": 199,
     "metadata": {},
     "output_type": "execute_result"
    }
   ],
   "source": [
    "from sklearn.metrics import accuracy_score\n",
    "y_pred = final_gb.predict(testdmat) \n",
    "y_pred"
   ]
  },
  {
   "cell_type": "code",
   "execution_count": 205,
   "metadata": {},
   "outputs": [
    {
     "data": {
      "text/plain": [
       "array([ 0.,  0.,  0., ...,  1.,  1.,  1.], dtype=float32)"
      ]
     },
     "execution_count": 205,
     "metadata": {},
     "output_type": "execute_result"
    }
   ],
   "source": [
    "y_pred[y_pred > 0.5] = 1\n",
    "y_pred[y_pred <= 0.5] = 0\n",
    "y_pred"
   ]
  },
  {
   "cell_type": "code",
   "execution_count": 204,
   "metadata": {},
   "outputs": [
    {
     "data": {
      "text/plain": [
       "(0.92058165548098436, 0.079418344519015638)"
      ]
     },
     "execution_count": 204,
     "metadata": {},
     "output_type": "execute_result"
    }
   ],
   "source": [
    "accuracy_score(y_pred, y_test), 1-accuracy_score(y_pred, y_test)"
   ]
  },
  {
   "cell_type": "code",
   "execution_count": null,
   "metadata": {
    "collapsed": true
   },
   "outputs": [],
   "source": []
  }
 ],
 "metadata": {
  "kernelspec": {
   "display_name": "Python 3",
   "language": "python",
   "name": "python3"
  },
  "language_info": {
   "codemirror_mode": {
    "name": "ipython",
    "version": 3
   },
   "file_extension": ".py",
   "mimetype": "text/x-python",
   "name": "python",
   "nbconvert_exporter": "python",
   "pygments_lexer": "ipython3",
   "version": "3.6.3"
  }
 },
 "nbformat": 4,
 "nbformat_minor": 2
}
